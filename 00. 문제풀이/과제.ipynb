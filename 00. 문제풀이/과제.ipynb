{
 "cells": [
  {
   "attachments": {},
   "cell_type": "markdown",
   "metadata": {},
   "source": [
    "- 백준_#2884 알람 시계"
   ]
  },
  {
   "cell_type": "code",
   "execution_count": 11,
   "metadata": {},
   "outputs": [],
   "source": [
    "# 제출 정답\n",
    "\n",
    "# h, m = map(int, input().split())\n",
    "\n",
    "# if h == 0 and m in range(45):\n",
    "#       print(23, m+15, sep=' ')\n",
    "# elif m in range(45, 60):\n",
    "#       print(h, m-45, sep=' ')\n",
    "# elif h != 0 and m in range(45):\n",
    "#       print(h-1, m+15, sep=' ')"
   ]
  },
  {
   "cell_type": "code",
   "execution_count": 13,
   "metadata": {},
   "outputs": [
    {
     "name": "stdout",
     "output_type": "stream",
     "text": [
      "08:05\n"
     ]
    }
   ],
   "source": [
    "# 쌤\n",
    "h, m = map(int, input().split())\n",
    "if m >= 45:\n",
    "    newh = h\n",
    "    newm = m - 45\n",
    "else:\n",
    "    newh = (h + 24 - 1) % 24\n",
    "    newm = m + 60 - 45\n",
    "print(f'{newh:02d}:{newm:02d}')"
   ]
  },
  {
   "attachments": {},
   "cell_type": "markdown",
   "metadata": {},
   "source": [
    "- 2480 주사위 세개"
   ]
  },
  {
   "cell_type": "code",
   "execution_count": 7,
   "metadata": {},
   "outputs": [
    {
     "name": "stdout",
     "output_type": "stream",
     "text": [
      "1500\n"
     ]
    }
   ],
   "source": [
    "a, b, c = map(int, input().split())\n",
    "# let prize = 0    -> 파이썬에서는 변수선언 필요 없음\n",
    "if a == b == c:\n",
    "  prize = 10000+ (a*1000)\n",
    "elif a == b or a == c:\n",
    "  prize = 1000+ (a*100)\n",
    "elif b == c:\n",
    "  prize = 1000+ (c*100)\n",
    "else:\n",
    "  prize = max(a,b,c)*100\n",
    "print(prize)\n",
    "\n",
    "# 쌤버전 - 위에서 else 부분만 다름\n",
    "#maxVal = max([a, b, c])\n",
    "#  prize= maxVal * 100"
   ]
  },
  {
   "attachments": {},
   "cell_type": "markdown",
   "metadata": {},
   "source": [
    "- 2에서 10000 사이의 완전수 구하기"
   ]
  },
  {
   "cell_type": "code",
   "execution_count": null,
   "metadata": {},
   "outputs": [],
   "source": [
    "# 먼저 완전수 약수의 합을 구해본다.\n",
    "num = 28\n",
    "divSum = 0\n",
    "for i in range(1, num):\n",
    "    if num % i == 0:\n",
    "        divSum += i\n",
    "print(divSum)\n"
   ]
  },
  {
   "cell_type": "code",
   "execution_count": 8,
   "metadata": {},
   "outputs": [
    {
     "name": "stdout",
     "output_type": "stream",
     "text": [
      "6\n",
      "28\n",
      "496\n",
      "8128\n"
     ]
    }
   ],
   "source": [
    "# 2에서 10000 사이의 완전수 구하기\n",
    "\n",
    "for num in range(2, 10001):\n",
    "    divSum = 0 \n",
    "    for i in range(1, num):\n",
    "        if num % i == 0:\n",
    "            divSum += i \n",
    "    if (num == divSum):   # 완전수 조건\n",
    "        print(num)"
   ]
  },
  {
   "cell_type": "code",
   "execution_count": null,
   "metadata": {},
   "outputs": [],
   "source": []
  }
 ],
 "metadata": {
  "kernelspec": {
   "display_name": "base",
   "language": "python",
   "name": "python3"
  },
  "language_info": {
   "codemirror_mode": {
    "name": "ipython",
    "version": 3
   },
   "file_extension": ".py",
   "mimetype": "text/x-python",
   "name": "python",
   "nbconvert_exporter": "python",
   "pygments_lexer": "ipython3",
   "version": "3.10.9"
  },
  "orig_nbformat": 4
 },
 "nbformat": 4,
 "nbformat_minor": 2
}
