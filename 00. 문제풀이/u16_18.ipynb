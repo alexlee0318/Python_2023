{
 "cells": [
  {
   "cell_type": "code",
   "execution_count": null,
   "metadata": {},
   "outputs": [],
   "source": []
  },
  {
   "cell_type": "code",
   "execution_count": 3,
   "metadata": {},
   "outputs": [
    {
     "ename": "NameError",
     "evalue": "name 'fare' is not defined",
     "output_type": "error",
     "traceback": [
      "\u001b[1;31m---------------------------------------------------------------------------\u001b[0m",
      "\u001b[1;31mNameError\u001b[0m                                 Traceback (most recent call last)",
      "Cell \u001b[1;32mIn[3], line 3\u001b[0m\n\u001b[0;32m      1\u001b[0m amout \u001b[39m=\u001b[39m \u001b[39mint\u001b[39m(\u001b[39minput\u001b[39m())\n\u001b[0;32m      2\u001b[0m fere \u001b[39m=\u001b[39m \u001b[39m1350\u001b[39m\n\u001b[1;32m----> 3\u001b[0m \u001b[39mwhile\u001b[39;00m amout \u001b[39m>\u001b[39m\u001b[39m=\u001b[39m fare:\n\u001b[0;32m      4\u001b[0m     amout \u001b[39m-\u001b[39m\u001b[39m=\u001b[39m fare\n\u001b[0;32m      5\u001b[0m     \u001b[39mprint\u001b[39m(amout)\n",
      "\u001b[1;31mNameError\u001b[0m: name 'fare' is not defined"
     ]
    }
   ],
   "source": [
    "# amout = int(input())\n",
    "# fere = 1350\n",
    "\n",
    "# while amout >= fare:\n",
    "#     amout -= fare\n",
    "#     print(amout)"
   ]
  },
  {
   "cell_type": "code",
   "execution_count": 6,
   "metadata": {},
   "outputs": [
    {
     "name": "stdout",
     "output_type": "stream",
     "text": [
      "8650\n",
      "7300\n",
      "5950\n",
      "4600\n",
      "3250\n",
      "1900\n",
      "550\n"
     ]
    }
   ],
   "source": [
    "amount = 10000\n",
    "fare = 1350\n",
    "\n",
    "while True:\n",
    "    amount -= fare\n",
    "    if amount < 0:\n",
    "        break\n",
    "    print(amount)"
   ]
  },
  {
   "attachments": {},
   "cell_type": "markdown",
   "metadata": {},
   "source": [
    "<심사문제 18.6>\n",
    "- 표준 입력으로 정수 두 개가 입력됩니다(첫 번째 입력 값의 범위는 1~200, 두 번째 입력 값의 범위는 10~200이며 첫 번째 입력 값은 두 번째 입력 값보다 항상 작습니다). 다음 소스 코드를 완성하여 첫 번째 정수와 두 번째 정수 사이의 숫자 중 3으로 끝나지 않는 숫자가 출력되게 만드세요. 정답에 코드를 작성할 때는 while True:에 맞춰서 들여쓰기를 해주세요.\n",
    "    - 입력:  1 20\n",
    "    - 출력  1 2 3 4 ... 20  "
   ]
  },
  {
   "cell_type": "code",
   "execution_count": null,
   "metadata": {},
   "outputs": [],
   "source": [
    "# 제출한 답\n",
    "start, stop = map(int, input().split())\n",
    " \n",
    "i = start\n",
    " #--------------\n",
    "while True:\n",
    "    if i > stop:\n",
    "        break\n",
    "    if i % 10 == 3:\n",
    "        i += 1\n",
    "        continue\n",
    "#--------------------\n",
    "    print(i, end=' ')\n",
    "    i += 1"
   ]
  },
  {
   "cell_type": "code",
   "execution_count": null,
   "metadata": {},
   "outputs": [],
   "source": [
    "# for loop으로 반복문 쓰면 더 간결해짐\n",
    "start, stop = 8, 25\n",
    "for i in range(start, stop+1):\n",
    "    if i % 10 == 3:\n",
    "        continue\n",
    "    print(i, end=' ')       # 파라미터로 쓸 때는 공백을 띄우지 않는다."
   ]
  }
 ],
 "metadata": {
  "kernelspec": {
   "display_name": "base",
   "language": "python",
   "name": "python3"
  },
  "language_info": {
   "codemirror_mode": {
    "name": "ipython",
    "version": 3
   },
   "file_extension": ".py",
   "mimetype": "text/x-python",
   "name": "python",
   "nbconvert_exporter": "python",
   "pygments_lexer": "ipython3",
   "version": "3.10.9"
  },
  "orig_nbformat": 4
 },
 "nbformat": 4,
 "nbformat_minor": 2
}
