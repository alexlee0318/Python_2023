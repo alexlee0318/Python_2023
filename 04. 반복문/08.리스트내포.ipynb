{
 "cells": [
  {
   "attachments": {},
   "cell_type": "markdown",
   "metadata": {},
   "source": [
    "# 4-4. 리스트 내포(comprehansion)\n",
    "    - 파이썬의 리스트가 특이한 점은 리스트 안에 for 반복문과 if 조건문을 사용할 수 있다는 점입니다.이렇게 리스트 안에 식, for 반복문, if 조건문 등을 지정하여 리스트를 생성하는 것을 리스트 컴프리헨션(list comprehension)이라고 합니다."
   ]
  },
  {
   "attachments": {},
   "cell_type": "markdown",
   "metadata": {},
   "source": [
    "- level 1 : 기본 로직 활용 가능\n",
    "- level 2 : l1 + 파이썬 넘파이 활용\n",
    "- level 3 :\n",
    "- level 4 :"
   ]
  },
  {
   "cell_type": "code",
   "execution_count": 5,
   "metadata": {},
   "outputs": [
    {
     "data": {
      "text/plain": [
       "[1, 4, 9, 16, 25, 36, 49, 64, 81, 100]"
      ]
     },
     "execution_count": 5,
     "metadata": {},
     "output_type": "execute_result"
    }
   ],
   "source": [
    "# 1~10까지 제곱수로 된 리스트 만들기\n",
    "# 1*1 2*2 3*3 ... 10*10\n",
    "# 리스트 표현식을 써서 만들기\n",
    "# 무적의 로직\n",
    "sq_list = []\n",
    "for i in range(1, 11):\n",
    "    sq_list.append(i * i)\n",
    "sq_list"
   ]
  },
  {
   "cell_type": "code",
   "execution_count": 6,
   "metadata": {},
   "outputs": [
    {
     "data": {
      "text/plain": [
       "[1, 4, 9, 16, 25, 36, 49, 64, 81, 100]"
      ]
     },
     "execution_count": 6,
     "metadata": {},
     "output_type": "execute_result"
    }
   ],
   "source": [
    "# 위 식을 파이썬 효율버전으로 써보기\n",
    "sq_list = [i * i for i in range(1, 11) ]\n",
    "sq_list"
   ]
  },
  {
   "attachments": {},
   "cell_type": "markdown",
   "metadata": {},
   "source": [
    "- 1~ 10 홀수의 제곱 리스트"
   ]
  },
  {
   "cell_type": "code",
   "execution_count": 7,
   "metadata": {},
   "outputs": [
    {
     "data": {
      "text/plain": [
       "[1, 9, 25, 49, 81]"
      ]
     },
     "execution_count": 7,
     "metadata": {},
     "output_type": "execute_result"
    }
   ],
   "source": [
    "# 1~ 10 홀수의 제곱 리스트 -lv.1\n",
    "sq_list = []\n",
    "for i in range(1, 11):\n",
    "    if i % 2 != 0:\n",
    "        sq_list.append(i * i)\n",
    "sq_list"
   ]
  },
  {
   "cell_type": "code",
   "execution_count": 10,
   "metadata": {},
   "outputs": [
    {
     "data": {
      "text/plain": [
       "[1, 9, 25, 49, 81]"
      ]
     },
     "execution_count": 10,
     "metadata": {},
     "output_type": "execute_result"
    }
   ],
   "source": [
    "# 1~ 10 홀수의 제곱 리스트 (lv. 2)\n",
    "odd_sq_list = [i * i for i in range(1, 11, 2)]\n",
    "odd_sq_list"
   ]
  },
  {
   "cell_type": "code",
   "execution_count": 11,
   "metadata": {},
   "outputs": [
    {
     "data": {
      "text/plain": [
       "[1, 9, 25, 49, 81]"
      ]
     },
     "execution_count": 11,
     "metadata": {},
     "output_type": "execute_result"
    }
   ],
   "source": [
    "# 시작 숫자와 끝 숫자를 입력으로 받아 홀수 제곱리스트 만들기 -1\n",
    "start, stop = 1, 10\n",
    "odd_sq_list= []\n",
    "for i in range(start, stop+1):\n",
    "    if i % 2 == 1:\n",
    "        odd_sq_list.append(i * i)\n",
    "odd_sq_list"
   ]
  },
  {
   "cell_type": "code",
   "execution_count": 12,
   "metadata": {},
   "outputs": [
    {
     "data": {
      "text/plain": [
       "[1, 9, 25, 49, 81]"
      ]
     },
     "execution_count": 12,
     "metadata": {},
     "output_type": "execute_result"
    }
   ],
   "source": [
    "# 시작 숫자와 끝 숫자를 입력으로 받아 홀수 제곱리스트 만들기 -1-1\n",
    "start, stop = map(int, input().split())\n",
    "odd_sq_list= []\n",
    "for i in range(start, stop+1):\n",
    "    if i % 2 == 1:\n",
    "        odd_sq_list.append(i * i)\n",
    "odd_sq_list"
   ]
  },
  {
   "cell_type": "code",
   "execution_count": 13,
   "metadata": {},
   "outputs": [
    {
     "data": {
      "text/plain": [
       "[1, 9, 25, 49, 81]"
      ]
     },
     "execution_count": 13,
     "metadata": {},
     "output_type": "execute_result"
    }
   ],
   "source": [
    "odd_sq_list = [i*i for i in range(start, stop+1) if i % 2 == 1]\n",
    "odd_sq_list"
   ]
  },
  {
   "attachments": {},
   "cell_type": "markdown",
   "metadata": {},
   "source": [
    "- in 연산자 써서 리스트 만들기"
   ]
  },
  {
   "cell_type": "code",
   "execution_count": 22,
   "metadata": {},
   "outputs": [
    {
     "data": {
      "text/plain": [
       "['apple', 'banana', 'mango', 'peach']"
      ]
     },
     "execution_count": 22,
     "metadata": {},
     "output_type": "execute_result"
    }
   ],
   "source": [
    "fruits = ['apple', 'banana', 'cherry', 'mango', 'peach', 'melon']\n",
    "\n",
    "# 위 리스트에서 a 문자가 포함되어있는 과일 리스트 a_fruits를 만드세요\n",
    "# in 연산자로\n",
    "a_fruits = [fruit for fruit in fruits if 'a' in fruit]\n",
    "a_fruits"
   ]
  },
  {
   "cell_type": "code",
   "execution_count": 23,
   "metadata": {},
   "outputs": [
    {
     "data": {
      "text/plain": [
       "['apple', 'banana', 'mango', 'peach']"
      ]
     },
     "execution_count": 23,
     "metadata": {},
     "output_type": "execute_result"
    }
   ],
   "source": [
    "# find도 가능함(indexof 같은 것) but in이 더 파이썬스럽고 활용도 높음\n",
    "a_fruits = [fruit for fruit in fruits if fruit.find('a') >= 0]\n",
    "a_fruits"
   ]
  },
  {
   "cell_type": "markdown",
   "metadata": {},
   "source": [
    "- Nested for"
   ]
  },
  {
   "cell_type": "code",
   "execution_count": 25,
   "metadata": {},
   "outputs": [
    {
     "name": "stdout",
     "output_type": "stream",
     "text": [
      "[2, 4, 6, 8, 10, 12, 14, 16, 18, 3, 6, 9, 12, 15, 18, 21, 24, 27, 4, 8, 12, 16, 20, 24, 28, 32, 36, 5, 10, 15, 20, 25, 30, 35, 40, 45, 6, 12, 18, 24, 30, 36, 42, 48, 54, 7, 14, 21, 28, 35, 42, 49, 56, 63, 8, 16, 24, 32, 40, 48, 56, 64, 72, 9, 18, 27, 36, 45, 54, 63, 72, 81]\n"
     ]
    }
   ],
   "source": [
    "# 구구단 출력 식 - for 가 중첩(nested)\n",
    "a = [i * k for i in range(2, 10) for k in range(1, 10)]\n",
    "print(a)"
   ]
  },
  {
   "cell_type": "code",
   "execution_count": 27,
   "metadata": {},
   "outputs": [
    {
     "name": "stdout",
     "output_type": "stream",
     "text": [
      "[2, 4, 6, 8, 10, 12, 14, 16, 18, 3, 6, 9, 12, 15, 18, 21, 24, 27, 4, 8, 12, 16, 20, 24, 28, 32, 36, 5, 10, 15, 20, 25, 30, 35, 40, 45, 6, 12, 18, 24, 30, 36, 42, 48, 54, 7, 14, 21, 28, 35, 42, 49, 56, 63, 8, 16, 24, 32, 40, 48, 56, 64, 72, 9, 18, 27, 36, 45, 54, 63, 72, 81]\n"
     ]
    }
   ],
   "source": [
    "# 인덴테이션으로 nested for 보기 편하게 정리하기(위와 같은 식을)\n",
    "a= [i * k for i in range(2, 10)\n",
    "                for k in range(1, 10)]\n",
    "print(a)"
   ]
  },
  {
   "attachments": {},
   "cell_type": "markdown",
   "metadata": {},
   "source": [
    "- 딕셔너리 표현식"
   ]
  },
  {
   "cell_type": "code",
   "execution_count": 2,
   "metadata": {},
   "outputs": [],
   "source": [
    "d =  {'a':1, 'b':2, 'c':3, 'd':4} "
   ]
  },
  {
   "cell_type": "code",
   "execution_count": 3,
   "metadata": {},
   "outputs": [
    {
     "data": {
      "text/plain": [
       "{'b': 2, 'd': 4}"
      ]
     },
     "execution_count": 3,
     "metadata": {},
     "output_type": "execute_result"
    }
   ],
   "source": [
    "# 값이 짝수인 것의 딕셔너리\n",
    "even_dict = {key:value for key, value in d.items() if value % 2 == 0}\n",
    "even_dict"
   ]
  },
  {
   "cell_type": "code",
   "execution_count": 4,
   "metadata": {},
   "outputs": [
    {
     "data": {
      "text/plain": [
       "{'b': 2, 'd': 4}"
      ]
     },
     "execution_count": 4,
     "metadata": {},
     "output_type": "execute_result"
    }
   ],
   "source": [
    "even_dict = {}\n",
    "for key, value in d.items():\n",
    "    if value % 2 == 0:\n",
    "        even_dict[key] = value\n",
    "even_dict"
   ]
  },
  {
   "attachments": {},
   "cell_type": "markdown",
   "metadata": {},
   "source": [
    "- 1에서 1000까지 숫자에서 0, 1, ..., 9 는 몇번 사용되는가\n",
    "    - 리스트식(기본,권장)\n",
    "    - 딕셔너리로도 한번 써보기"
   ]
  },
  {
   "cell_type": "code",
   "execution_count": 5,
   "metadata": {},
   "outputs": [
    {
     "data": {
      "text/plain": [
       "{0: 192,\n",
       " 1: 301,\n",
       " 2: 300,\n",
       " 3: 300,\n",
       " 4: 300,\n",
       " 5: 300,\n",
       " 6: 300,\n",
       " 7: 300,\n",
       " 8: 300,\n",
       " 9: 300}"
      ]
     },
     "execution_count": 5,
     "metadata": {},
     "output_type": "execute_result"
    }
   ],
   "source": [
    "# 1에서 1000까지 숫자에서 0, 1, ..., 9 는 몇번 사용되는가\n",
    "digits = ''\n",
    "for i in range(1, 1001):\n",
    "    digits += str(i)\n",
    "\n",
    "# num_count = { for i in range(10)}   ---> 1) i 조건 설정\n",
    "# num_count = {i : digits for i in range(10)}  ----> 2) i를 키 값에, digit을 밸류값으로 놓음\n",
    "num_count = {i : digits.count(str(i)) for i in range(10)} # ----> 3) digit의 디테일 붙여주면 완성\n",
    "num_count "
   ]
  },
  {
   "cell_type": "code",
   "execution_count": 8,
   "metadata": {},
   "outputs": [
    {
     "data": {
      "text/plain": [
       "{0: 192,\n",
       " 1: 301,\n",
       " 2: 300,\n",
       " 3: 300,\n",
       " 4: 300,\n",
       " 5: 300,\n",
       " 6: 300,\n",
       " 7: 300,\n",
       " 8: 300,\n",
       " 9: 300}"
      ]
     },
     "execution_count": 8,
     "metadata": {},
     "output_type": "execute_result"
    }
   ],
   "source": [
    "# 딕셔너리로 해봄(위의 방식이 더 많이 쓰임)\n",
    "num_counts = {}\n",
    "for i in range(10):\n",
    "    num_counts[i] = digits.count(str(i))\n",
    "num_counts"
   ]
  },
  {
   "cell_type": "code",
   "execution_count": null,
   "metadata": {},
   "outputs": [],
   "source": []
  }
 ],
 "metadata": {
  "kernelspec": {
   "display_name": "base",
   "language": "python",
   "name": "python3"
  },
  "language_info": {
   "codemirror_mode": {
    "name": "ipython",
    "version": 3
   },
   "file_extension": ".py",
   "mimetype": "text/x-python",
   "name": "python",
   "nbconvert_exporter": "python",
   "pygments_lexer": "ipython3",
   "version": "3.10.9"
  },
  "orig_nbformat": 4
 },
 "nbformat": 4,
 "nbformat_minor": 2
}
