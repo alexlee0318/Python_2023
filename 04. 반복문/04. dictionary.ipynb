{
 "cells": [
  {
   "attachments": {},
   "cell_type": "markdown",
   "metadata": {},
   "source": [
    "### 4-2. 딕셔너리(Dictionary)\n",
    "    - key : value 짝\n",
    "    - 선언은 {}, 사용은 []\n",
    "    - JS가 더 간결하고 사용편리함\n",
    "    - key값 위주로 작업 but 내부적으로 key값 순서가 보장되진 않음. -> O\n"
   ]
  },
  {
   "cell_type": "code",
   "execution_count": 4,
   "metadata": {},
   "outputs": [
    {
     "data": {
      "text/plain": [
       "({'name': 'James', 'height': 175, 'age': 26, 'job': 'programmer'}, dict)"
      ]
     },
     "execution_count": 4,
     "metadata": {},
     "output_type": "execute_result"
    }
   ],
   "source": [
    "person_list = ['James', 175, 26, 'Programmer']\n",
    "#위 리스트를 dict형태로 바꾸기\n",
    "person_dict = {'name': 'James', 'height': 175, 'age': 26, 'job': 'programmer'}\n",
    "person_dict, type(person_dict)"
   ]
  },
  {
   "attachments": {},
   "cell_type": "markdown",
   "metadata": {},
   "source": [
    "- 인덱싱"
   ]
  },
  {
   "cell_type": "code",
   "execution_count": 5,
   "metadata": {},
   "outputs": [
    {
     "data": {
      "text/plain": [
       "('James', 26)"
      ]
     },
     "execution_count": 5,
     "metadata": {},
     "output_type": "execute_result"
    }
   ],
   "source": [
    "person_dict['name'], person_dict['age']"
   ]
  },
  {
   "cell_type": "code",
   "execution_count": 7,
   "metadata": {},
   "outputs": [
    {
     "data": {
      "text/plain": [
       "26"
      ]
     },
     "execution_count": 7,
     "metadata": {},
     "output_type": "execute_result"
    }
   ],
   "source": [
    "# 위 방법이 불편하니까 키값인 문자열 'age'를 변수 key에 저장하여 사용\n",
    "# age = 'age' 변수명은 보통 key로 씀\n",
    "key = 'age'\n",
    "person_dict[key]"
   ]
  },
  {
   "cell_type": "code",
   "execution_count": 30,
   "metadata": {},
   "outputs": [
    {
     "data": {
      "text/plain": [
       "'James'"
      ]
     },
     "execution_count": 30,
     "metadata": {},
     "output_type": "execute_result"
    }
   ],
   "source": [
    "person_dict.get('name')     # 인덱싱에 get도 사용 가능"
   ]
  },
  {
   "attachments": {},
   "cell_type": "markdown",
   "metadata": {},
   "source": [
    "- 복잡한 딕셔너리\n",
    "    - 요소에 접근하기"
   ]
  },
  {
   "cell_type": "code",
   "execution_count": 18,
   "metadata": {},
   "outputs": [],
   "source": [
    "# value에는 리스트, 딕셔너리 등등 복잡한 것들이 올 수 있음\n",
    "movie_maker = {\n",
    "    'director' : ['Anthony', 'Joe'],\n",
    "    'cast': ['Ironman', '타노스', '토르'],\n",
    "    'company': {'name': '마블', 'est': 1900, 'place': ['수원', '장안', '장안공원']}\n",
    "}"
   ]
  },
  {
   "cell_type": "code",
   "execution_count": null,
   "metadata": {},
   "outputs": [],
   "source": [
    "movie_maker['director'][0]      # 'Anthony' / 리스트이므로 인덱스값으로 찾음"
   ]
  },
  {
   "cell_type": "code",
   "execution_count": 9,
   "metadata": {},
   "outputs": [
    {
     "data": {
      "text/plain": [
       "'마블'"
      ]
     },
     "execution_count": 9,
     "metadata": {},
     "output_type": "execute_result"
    }
   ],
   "source": [
    "movie_maker['company']['name']  # '마블'    / 문자열이므로 key값으로 찾음"
   ]
  },
  {
   "cell_type": "code",
   "execution_count": 14,
   "metadata": {},
   "outputs": [
    {
     "data": {
      "text/plain": [
       "({'name': '마블', 'est': 1900, 'place': ['장안', '수원', '수원역']}, dict)"
      ]
     },
     "execution_count": 14,
     "metadata": {},
     "output_type": "execute_result"
    }
   ],
   "source": [
    "# 차근차근, 한 단계씩 그리고 타입도 확인\n",
    "movie_maker['company'], type(movie_maker['company'])    # type이 딕셔너리임을 알 수 있음"
   ]
  },
  {
   "cell_type": "code",
   "execution_count": 19,
   "metadata": {},
   "outputs": [
    {
     "data": {
      "text/plain": [
       "(['수원', '장안', '장안공원'], list)"
      ]
     },
     "execution_count": 19,
     "metadata": {},
     "output_type": "execute_result"
    }
   ],
   "source": [
    "movie_maker['company']['place'], type(movie_maker['company']['place'])    # 결과값 : [ 리스트 형태]\n",
    "                                                                        # 타입도 lis"
   ]
  },
  {
   "cell_type": "code",
   "execution_count": 17,
   "metadata": {},
   "outputs": [
    {
     "data": {
      "text/plain": [
       "'장안'"
      ]
     },
     "execution_count": 17,
     "metadata": {},
     "output_type": "execute_result"
    }
   ],
   "source": [
    "movie_maker['company']['place'][0]"
   ]
  },
  {
   "attachments": {},
   "cell_type": "markdown",
   "metadata": {},
   "source": [
    "- key-value 추가하기\n",
    "    - 딕셔너리에 값 추가할 때는 키를 기반으로 값 입력"
   ]
  },
  {
   "cell_type": "code",
   "execution_count": 20,
   "metadata": {},
   "outputs": [
    {
     "data": {
      "text/plain": [
       "{'name': 'James', 'height': 175, 'age': 26, 'job': 'programmer'}"
      ]
     },
     "execution_count": 20,
     "metadata": {},
     "output_type": "execute_result"
    }
   ],
   "source": [
    "person_dict     # 위에 썼던 딕셔너리 소환"
   ]
  },
  {
   "cell_type": "code",
   "execution_count": 21,
   "metadata": {},
   "outputs": [
    {
     "data": {
      "text/plain": [
       "{'name': 'James', 'height': 175, 'age': 26, 'job': 'programmer', 'gender': '남'}"
      ]
     },
     "execution_count": 21,
     "metadata": {},
     "output_type": "execute_result"
    }
   ],
   "source": [
    "# 딕셔너리에 없는 키갑으로 할당문을 사용하면 , 새로운 키= 밸류 쌍이 만들어짐\n",
    "person_dict['gender'] = '남'    # 새로운 키 값이므로 추가됨\n",
    "person_dict"
   ]
  },
  {
   "cell_type": "code",
   "execution_count": 22,
   "metadata": {},
   "outputs": [
    {
     "data": {
      "text/plain": [
       "{'name': 'James', 'height': 175, 'age': 30, 'job': 'programmer', 'gender': '남'}"
      ]
     },
     "execution_count": 22,
     "metadata": {},
     "output_type": "execute_result"
    }
   ],
   "source": [
    "# 딕셔너리에 있던 키갑으로 할당문을 사용하면 , 값이 변경됨\n",
    "person_dict['age'] = 30     # 기존에 있던 키 값이므로('age' = 26) 값 변경이 일어남\n",
    "person_dict"
   ]
  },
  {
   "cell_type": "code",
   "execution_count": 23,
   "metadata": {},
   "outputs": [
    {
     "data": {
      "text/plain": [
       "{'name': 'James',\n",
       " 'height': 175,\n",
       " 'age': 30,\n",
       " 'job': 'programmer',\n",
       " 'gender': '남',\n",
       " 'weight': None}"
      ]
     },
     "execution_count": 23,
     "metadata": {},
     "output_type": "execute_result"
    }
   ],
   "source": [
    "# setdefault method\n",
    "person_dict.setdefault('weight')    # weight를 None으로 세팅함\n",
    "person_dict"
   ]
  },
  {
   "cell_type": "code",
   "execution_count": 24,
   "metadata": {},
   "outputs": [
    {
     "data": {
      "text/plain": [
       "{'name': 'James',\n",
       " 'height': 175,\n",
       " 'age': 30,\n",
       " 'job': 'programmer',\n",
       " 'gender': '남',\n",
       " 'weight': 70}"
      ]
     },
     "execution_count": 24,
     "metadata": {},
     "output_type": "execute_result"
    }
   ],
   "source": [
    "# update method\n",
    "person_dict.update(weight=70)       # weight값 업데이트\n",
    "person_dict"
   ]
  },
  {
   "attachments": {},
   "cell_type": "markdown",
   "metadata": {},
   "source": [
    "- 제거하기\n",
    "     - del / pop"
   ]
  },
  {
   "cell_type": "code",
   "execution_count": 25,
   "metadata": {},
   "outputs": [
    {
     "data": {
      "text/plain": [
       "{'name': 'James', 'height': 175, 'age': 30, 'job': 'programmer', 'gender': '남'}"
      ]
     },
     "execution_count": 25,
     "metadata": {},
     "output_type": "execute_result"
    }
   ],
   "source": [
    "del person_dict['weight']\n",
    "person_dict"
   ]
  },
  {
   "cell_type": "code",
   "execution_count": 26,
   "metadata": {},
   "outputs": [
    {
     "ename": "TypeError",
     "evalue": "pop expected at least 1 argument, got 0",
     "output_type": "error",
     "traceback": [
      "\u001b[1;31m---------------------------------------------------------------------------\u001b[0m",
      "\u001b[1;31mTypeError\u001b[0m                                 Traceback (most recent call last)",
      "Cell \u001b[1;32mIn[26], line 3\u001b[0m\n\u001b[0;32m      1\u001b[0m \u001b[39m# pop method\u001b[39;00m\n\u001b[0;32m      2\u001b[0m \u001b[39m# 딕셔너리의 키 값은 순서가 보장되지 않음\u001b[39;00m\n\u001b[1;32m----> 3\u001b[0m person_dict\u001b[39m.\u001b[39;49mpop()\n",
      "\u001b[1;31mTypeError\u001b[0m: pop expected at least 1 argument, got 0"
     ]
    }
   ],
   "source": [
    "# pop method\n",
    "# 딕셔너리의 키 값은 순서가 보장되지 않음\n",
    "person_dict.pop()   # 따라서 맨 끝자리를 제거하는 pop 메소드는 에러남"
   ]
  },
  {
   "cell_type": "code",
   "execution_count": 28,
   "metadata": {},
   "outputs": [
    {
     "data": {
      "text/plain": [
       "{'name': 'James', 'height': 175, 'age': 30, 'job': 'programmer'}"
      ]
     },
     "execution_count": 28,
     "metadata": {},
     "output_type": "execute_result"
    }
   ],
   "source": [
    "person_dict.pop('gender')\n",
    "person_dict"
   ]
  },
  {
   "cell_type": "code",
   "execution_count": 29,
   "metadata": {},
   "outputs": [
    {
     "data": {
      "text/plain": [
       "('programmer', {'name': 'James', 'height': 175, 'age': 30})"
      ]
     },
     "execution_count": 29,
     "metadata": {},
     "output_type": "execute_result"
    }
   ],
   "source": [
    "job = person_dict.pop('job')        # pop은 value를 토해내고 제거함\n",
    "job, person_dict"
   ]
  },
  {
   "attachments": {},
   "cell_type": "markdown",
   "metadata": {},
   "source": [
    "- in 연산자\n",
    "    - 딕셔너리 안에 주어진 키가 있는지 여부 확인\n",
    "    - True, False 형태로 알려줌\n",
    "    - * value로는 확인 못함"
   ]
  },
  {
   "cell_type": "code",
   "execution_count": 33,
   "metadata": {},
   "outputs": [
    {
     "data": {
      "text/plain": [
       "False"
      ]
     },
     "execution_count": 33,
     "metadata": {},
     "output_type": "execute_result"
    }
   ],
   "source": [
    "'age' in person_dict    # True \n",
    "'James' in person_dict  # False - 밸류값은 확인 못함"
   ]
  },
  {
   "cell_type": "code",
   "execution_count": null,
   "metadata": {},
   "outputs": [],
   "source": []
  }
 ],
 "metadata": {
  "kernelspec": {
   "display_name": "base",
   "language": "python",
   "name": "python3"
  },
  "language_info": {
   "codemirror_mode": {
    "name": "ipython",
    "version": 3
   },
   "file_extension": ".py",
   "mimetype": "text/x-python",
   "name": "python",
   "nbconvert_exporter": "python",
   "pygments_lexer": "ipython3",
   "version": "3.10.9"
  },
  "orig_nbformat": 4
 },
 "nbformat": 4,
 "nbformat_minor": 2
}
