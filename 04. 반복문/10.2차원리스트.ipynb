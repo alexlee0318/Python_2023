{
 "cells": [
  {
   "attachments": {},
   "cell_type": "markdown",
   "metadata": {},
   "source": [
    "### 2차원 리스트\n",
    "    - 교재에서는 강조하지 않았지만 중요함!!\n",
    "    - numpy등에서 사용할 예정(조금 다름)"
   ]
  },
  {
   "attachments": {},
   "cell_type": "markdown",
   "metadata": {},
   "source": [
    "- 2차원 리스트"
   ]
  },
  {
   "cell_type": "code",
   "execution_count": 1,
   "metadata": {},
   "outputs": [
    {
     "data": {
      "text/plain": [
       "[[10, 20], [30, 40], [50, 60]]"
      ]
     },
     "execution_count": 1,
     "metadata": {},
     "output_type": "execute_result"
    }
   ],
   "source": [
    "# 기본 형태\n",
    "a = [[10, 20], [30, 40],[50, 60]]\n",
    "a"
   ]
  },
  {
   "cell_type": "code",
   "execution_count": 2,
   "metadata": {},
   "outputs": [
    {
     "name": "stdout",
     "output_type": "stream",
     "text": [
      "10 20 \n",
      "30 40 \n",
      "50 60 \n"
     ]
    }
   ],
   "source": [
    "# while 반복문을 사용하여 2차원 리스트의 모든 요소를 출력\n",
    "\n",
    "a = [[10, 20], [30, 40], [50, 60]]\n",
    "\n",
    "i = 0\n",
    "while i < len(a):\n",
    "    j = 0\n",
    "                        \n",
    "    while j < len(a[i]):\n",
    "        print(a[i][j], end=' ')\n",
    "        j += 1\n",
    "        \n",
    "    print()\n",
    "    i += 1\n",
    "\n",
    "    # 설명\n",
    "    #for로 2차원 리스트 a의 모든 요소를 출력할 때는 \n",
    "    #for i in a:와 같이 전체 리스트에서 가로 한 줄씩 꺼내 옵니다. \n",
    "    #다시 for j in i:와 같이 가로 한 줄 i에서 요소를 하나씩 꺼내면 됩니다."
   ]
  },
  {
   "attachments": {},
   "cell_type": "markdown",
   "metadata": {},
   "source": [
    "- pprint\n",
    "    - 입체적 출력 가능"
   ]
  },
  {
   "cell_type": "code",
   "execution_count": 15,
   "metadata": {},
   "outputs": [
    {
     "name": "stdout",
     "output_type": "stream",
     "text": [
      "[[10, 20],\n",
      " [30, 40],\n",
      " [50, 60]]\n"
     ]
    }
   ],
   "source": [
    "# 입체적 출력\n",
    "\n",
    "from pprint import pprint\n",
    "pprint(a, indent=1, width=20)"
   ]
  },
  {
   "attachments": {},
   "cell_type": "markdown",
   "metadata": {},
   "source": [
    "- numpy\n",
    "    * numpy는 데이터타입 일치해야 함(리스트는 아무거나 가능)."
   ]
  },
  {
   "cell_type": "code",
   "execution_count": 25,
   "metadata": {},
   "outputs": [
    {
     "data": {
      "text/plain": [
       "array([[10, 20],\n",
       "       [30, 40],\n",
       "       [50, 60]])"
      ]
     },
     "execution_count": 25,
     "metadata": {},
     "output_type": "execute_result"
    }
   ],
   "source": [
    "import numpy as np  # 리스트는 데이터타입 멋댈로 가능, numpy는 데이터타입 일치해야 함.\n",
    "b = np.arange(1, 7).reshape(3,2)*10\n",
    "b"
   ]
  },
  {
   "attachments": {},
   "cell_type": "markdown",
   "metadata": {},
   "source": [
    "- pandas\n",
    "    * R에서 만들짐- 표를 기반으로 하기에 열이 먼저 옴"
   ]
  },
  {
   "cell_type": "code",
   "execution_count": 27,
   "metadata": {},
   "outputs": [
    {
     "data": {
      "text/html": [
       "<div>\n",
       "<style scoped>\n",
       "    .dataframe tbody tr th:only-of-type {\n",
       "        vertical-align: middle;\n",
       "    }\n",
       "\n",
       "    .dataframe tbody tr th {\n",
       "        vertical-align: top;\n",
       "    }\n",
       "\n",
       "    .dataframe thead th {\n",
       "        text-align: right;\n",
       "    }\n",
       "</style>\n",
       "<table border=\"1\" class=\"dataframe\">\n",
       "  <thead>\n",
       "    <tr style=\"text-align: right;\">\n",
       "      <th></th>\n",
       "      <th>첫째열</th>\n",
       "      <th>둘째열</th>\n",
       "    </tr>\n",
       "  </thead>\n",
       "  <tbody>\n",
       "    <tr>\n",
       "      <th>0</th>\n",
       "      <td>10</td>\n",
       "      <td>20</td>\n",
       "    </tr>\n",
       "    <tr>\n",
       "      <th>1</th>\n",
       "      <td>30</td>\n",
       "      <td>40</td>\n",
       "    </tr>\n",
       "    <tr>\n",
       "      <th>2</th>\n",
       "      <td>50</td>\n",
       "      <td>60</td>\n",
       "    </tr>\n",
       "  </tbody>\n",
       "</table>\n",
       "</div>"
      ],
      "text/plain": [
       "   첫째열  둘째열\n",
       "0   10   20\n",
       "1   30   40\n",
       "2   50   60"
      ]
     },
     "execution_count": 27,
     "metadata": {},
     "output_type": "execute_result"
    }
   ],
   "source": [
    "import pandas as pd\n",
    "df = pd.DataFrame(b, columns = ['첫째열', '둘째열'])\n",
    "df"
   ]
  },
  {
   "attachments": {},
   "cell_type": "markdown",
   "metadata": {},
   "source": [
    "- 인덱싱\n",
    "    - 리스트 인덱싱\n",
    "    - numpy 인덱싱\n",
    "    - pandas 인덱싱"
   ]
  },
  {
   "cell_type": "code",
   "execution_count": 15,
   "metadata": {},
   "outputs": [
    {
     "data": {
      "text/plain": [
       "30"
      ]
     },
     "execution_count": 15,
     "metadata": {},
     "output_type": "execute_result"
    }
   ],
   "source": [
    "# 리스트에서 30 가져오기\n",
    "a[1][0] # [행][열]  -> 괄호로 묶어야하므로 불편함\n"
   ]
  },
  {
   "cell_type": "code",
   "execution_count": 16,
   "metadata": {},
   "outputs": [
    {
     "data": {
      "text/plain": [
       "30"
      ]
     },
     "execution_count": 16,
     "metadata": {},
     "output_type": "execute_result"
    }
   ],
   "source": [
    "# numpy indexing로 30 가져오기 =>  ,로 구별하면 되므로 편리\n",
    "b[1,0] # [행,열]"
   ]
  },
  {
   "cell_type": "code",
   "execution_count": 28,
   "metadata": {},
   "outputs": [
    {
     "data": {
      "text/plain": [
       "30"
      ]
     },
     "execution_count": 28,
     "metadata": {},
     "output_type": "execute_result"
    }
   ],
   "source": [
    "# DataFrame indexing\n",
    "# R에서 만들짐- 표를 기반으로 하기에 열이 먼저 옴\n",
    "df ['첫째열'][1]        # [열][행]"
   ]
  },
  {
   "attachments": {},
   "cell_type": "markdown",
   "metadata": {},
   "source": [
    "- 3, 4차원 리스트(참고)\n",
    "    - 3차원: rgb값 구할 때 -->> (행, 열, color)\n",
    "    - 4차원: 영상 여러개 --> (frame, 행, 열, color)"
   ]
  },
  {
   "attachments": {},
   "cell_type": "markdown",
   "metadata": {},
   "source": [
    "- 2차원 리스트의 반복문"
   ]
  },
  {
   "cell_type": "code",
   "execution_count": 29,
   "metadata": {},
   "outputs": [
    {
     "name": "stdout",
     "output_type": "stream",
     "text": [
      "[10, 20]\n",
      "[30, 40]\n",
      "[50, 60]\n"
     ]
    }
   ],
   "source": [
    "for row in a:\n",
    "    print(row)"
   ]
  },
  {
   "cell_type": "code",
   "execution_count": 30,
   "metadata": {},
   "outputs": [
    {
     "data": {
      "text/plain": [
       "3"
      ]
     },
     "execution_count": 30,
     "metadata": {},
     "output_type": "execute_result"
    }
   ],
   "source": [
    "len(a)"
   ]
  },
  {
   "cell_type": "code",
   "execution_count": 31,
   "metadata": {},
   "outputs": [
    {
     "name": "stdout",
     "output_type": "stream",
     "text": [
      "10\n",
      "20\n",
      "30\n",
      "40\n",
      "50\n",
      "60\n"
     ]
    }
   ],
   "source": [
    "for row in a:\n",
    "    for element in row:\n",
    "        print(element)"
   ]
  },
  {
   "cell_type": "code",
   "execution_count": null,
   "metadata": {},
   "outputs": [],
   "source": [
    "for row in a:\n",
    "    for element in row:\n",
    "        print(element, end =' ')\n",
    "    print()"
   ]
  },
  {
   "attachments": {},
   "cell_type": "markdown",
   "metadata": {},
   "source": [
    "- 반복문으로 2차원 리스트 만들기\n",
    "- [[10, 11],[20, 21],[30, 31]]"
   ]
  },
  {
   "cell_type": "code",
   "execution_count": 9,
   "metadata": {},
   "outputs": [
    {
     "name": "stdout",
     "output_type": "stream",
     "text": [
      "10 11 \n",
      "20 21 \n",
      "30 31 \n"
     ]
    }
   ],
   "source": [
    "# i와 k를 사용해서 아래처럼 출력해보기\n",
    "# 10 11\n",
    "# 20 21 \n",
    "# 30 31\n",
    "\n",
    "for i in range(1, 4):       # i = 행\n",
    "        for k in range(2):  # k = 열\n",
    "                print(i*10 + k, end=' ')        \n",
    "        print()             # 안쪽 for가 끝나면 pint함\n",
    "# for column in a:\n",
    "#     for element in column:\n"
   ]
  },
  {
   "cell_type": "code",
   "execution_count": 17,
   "metadata": {},
   "outputs": [
    {
     "name": "stdout",
     "output_type": "stream",
     "text": [
      "[[10, 11],\n",
      " [20, 21],\n",
      " [30, 31]]\n"
     ]
    }
   ],
   "source": [
    "outer_list = []\n",
    "for i in range(1, 4):\n",
    "    \n",
    "    inner_list = []\n",
    "    for k in range(2):\n",
    "        inner_list.append(i*10 + k)      \n",
    "    outer_list.append(inner_list)\n",
    "    \n",
    "pprint(outer_list, width=20)        #오류나면 상위 블록 식에서 pprint를 실행하기\n"
   ]
  },
  {
   "cell_type": "code",
   "execution_count": null,
   "metadata": {},
   "outputs": [],
   "source": [
    "# 위 식의 아웃라인\n",
    "# out_list = []\n",
    "# for i in range(1, 4):\n",
    "    \n",
    "    \n",
    "\n",
    "#     outer_list.append(None)\n"
   ]
  },
  {
   "cell_type": "markdown",
   "metadata": {},
   "source": []
  },
  {
   "cell_type": "code",
   "execution_count": 20,
   "metadata": {},
   "outputs": [
    {
     "name": "stdout",
     "output_type": "stream",
     "text": [
      "[[6, 1, 5, 5],\n",
      " [1, 1, 2, 1],\n",
      " [6, 4, 1, 4]]\n"
     ]
    }
   ],
   "source": [
    "# 주사위 놀이 -3행 4열로    #random.randint(1, 6)\n",
    "#6 5 1 3\n",
    "#2 4 3 5\n",
    "#4 5 1 6\n",
    "\n",
    "import random\n",
    "dice_list = []\n",
    "for i in range(3):\n",
    "    in_list = []        # 빈 리스트를 만들어줘야 안에서 작업 가능!!\n",
    "    for k in range(4):\n",
    "        in_list.append(random.randint(1, 6))\n",
    "    dice_list.append(in_list)   # for k 룹 작업한걸 in_list[] 에 계속 넣음\n",
    "\n",
    "pprint(dice_list, width=20)\n"
   ]
  },
  {
   "attachments": {},
   "cell_type": "markdown",
   "metadata": {},
   "source": [
    "- 리스트 표현식(2차원)"
   ]
  },
  {
   "cell_type": "code",
   "execution_count": 36,
   "metadata": {},
   "outputs": [],
   "source": [
    "# 바깥쪽 :      [...표현식 위치... for i in range(3)]\n",
    "# 안쪽  :       [...표현식 위치... for k in range(4)]\n",
    "#dice_list = [                                         for i in range(3)]    # 작성 순서1\n",
    "#dice_list = [                     [for k in range(4)] for i in range(3)]\n",
    "dice_list = [[random.randint(1, 6) for k in range(4)] for i in range(3)]"
   ]
  },
  {
   "cell_type": "code",
   "execution_count": null,
   "metadata": {},
   "outputs": [],
   "source": [
    "dice_list = [[random.randint(1, 6) for k in range(4)] for i in range(3)]\n",
    "pprint(dice_list, width=20)"
   ]
  },
  {
   "cell_type": "code",
   "execution_count": null,
   "metadata": {},
   "outputs": [],
   "source": [
    "# 표현식으로 만들기(아래 블록)\n",
    "outer_list = []      #여기에 바깥쪽 for loop + 안쪽 for loop + 수식?구할것 넣으면 표현식 됨\n",
    "for i in range(1, 4):\n",
    "    \n",
    "    inner_list = []\n",
    "    for k in range(2):\n",
    "        inner_list.append(i*10 + k)      \n",
    "    outer_list.append(inner_list)\n",
    "    \n",
    "pprint(outer_list, width=20)"
   ]
  },
  {
   "cell_type": "code",
   "execution_count": 37,
   "metadata": {},
   "outputs": [
    {
     "name": "stdout",
     "output_type": "stream",
     "text": [
      "[[[10, 11],\n",
      "  [20, 21],\n",
      "  [30, 31]]]\n"
     ]
    }
   ],
   "source": [
    "# 위 식을 표현식으로 만들기\n",
    "outer_list = [[[(i*10 + k) for k in range(2)] for i in range(1, 4)]]\n",
    "pprint(outer_list, width=20)"
   ]
  },
  {
   "attachments": {},
   "cell_type": "markdown",
   "metadata": {},
   "source": [
    "- 지뢰찾기\n",
    "    - random() > 0.7 --> 지뢰(*), 아니면 (.) 찍기\n",
    "    - 8 x 8 크기"
   ]
  },
  {
   "attachments": {},
   "cell_type": "markdown",
   "metadata": {},
   "source": [
    "    - 지뢰찾기 1번식 - lv.1"
   ]
  },
  {
   "cell_type": "code",
   "execution_count": 46,
   "metadata": {},
   "outputs": [
    {
     "name": "stdout",
     "output_type": "stream",
     "text": [
      "[['.', '.', '.', '*', '.', '.', '*', '.'],\n",
      " ['*', '*', '.', '*', '.', '*', '*', '.'],\n",
      " ['.', '*', '.', '.', '.', '.', '*', '.'],\n",
      " ['*', '.', '.', '*', '.', '*', '*', '.'],\n",
      " ['.', '.', '.', '.', '*', '*', '.', '.'],\n",
      " ['.', '.', '.', '*', '.', '*', '*', '*'],\n",
      " ['.', '.', '.', '.', '*', '.', '.', '.'],\n",
      " ['.', '.', '.', '.', '*', '.', '.', '.']]\n"
     ]
    }
   ],
   "source": [
    "# mines = []\n",
    "# for _ in range(8):\n",
    "\n",
    "#     for _ in range(8):\n",
    "\n",
    "\n",
    "# mines = []\n",
    "# for _ in range(8):\n",
    "#     row = []\n",
    "#     for _ in range(8):\n",
    "#         row.append()\n",
    "\n",
    "import random\n",
    "mines = []\n",
    "for _ in range(8):\n",
    "    row = []\n",
    "    for _ in range(8):\n",
    "        if random.random() > 0.7:\n",
    "            row.append('*')\n",
    "        else:\n",
    "            row.append('.')\n",
    "    mines.append(row)\n",
    "pprint(mines, width=60)"
   ]
  },
  {
   "attachments": {},
   "cell_type": "markdown",
   "metadata": {},
   "source": [
    "    - 지뢰찾기 2번식 - lv.2"
   ]
  },
  {
   "cell_type": "code",
   "execution_count": 44,
   "metadata": {},
   "outputs": [
    {
     "name": "stdout",
     "output_type": "stream",
     "text": [
      ". . . * . * . . \n",
      "* . . * . * . . \n",
      "* . . . * . * . \n",
      ". . * . . . . . \n",
      "* . . * . . * * \n",
      "* . . . . . . . \n",
      ". . . . . * . . \n",
      ". * . . . * . . \n"
     ]
    }
   ],
   "source": [
    "mines = []\n",
    "for _ in range(8):\n",
    "    row = []\n",
    "    for _ in range(8):\n",
    "        mine = '*' if random.random() > 0.7 else '.'\n",
    "        row.append(mine)\n",
    "    mines.append(row)\n",
    "\n",
    "for i in range(8):\n",
    "    for k in range(8):\n",
    "        print(mines[i][k], end=' ')\n",
    "    print()"
   ]
  },
  {
   "attachments": {},
   "cell_type": "markdown",
   "metadata": {},
   "source": [
    "    - 지뢰찾기 3번식 - lv.3"
   ]
  },
  {
   "cell_type": "code",
   "execution_count": 45,
   "metadata": {},
   "outputs": [
    {
     "name": "stdout",
     "output_type": "stream",
     "text": [
      "* . . . . . . . \n",
      ". . . . * . * * \n",
      "* . . * . . . . \n",
      ". . . . * . * . \n",
      ". . . . * . . . \n",
      ". . * . . . * * \n",
      ". * . . * . . . \n",
      ". * . . * * . * \n"
     ]
    }
   ],
   "source": [
    "mines = [['*' if random.random() > 0.7 else '.' for _ in range(8)]for _ in range(8)]\n",
    "for i in range(8):\n",
    "    for k in range(8):\n",
    "        print(mines[i][k], end=' ')\n",
    "    print()\n"
   ]
  },
  {
   "cell_type": "code",
   "execution_count": null,
   "metadata": {},
   "outputs": [],
   "source": []
  }
 ],
 "metadata": {
  "kernelspec": {
   "display_name": "base",
   "language": "python",
   "name": "python3"
  },
  "language_info": {
   "codemirror_mode": {
    "name": "ipython",
    "version": 3
   },
   "file_extension": ".py",
   "mimetype": "text/x-python",
   "name": "python",
   "nbconvert_exporter": "python",
   "pygments_lexer": "ipython3",
   "version": "3.10.9"
  },
  "orig_nbformat": 4
 },
 "nbformat": 4,
 "nbformat_minor": 2
}
