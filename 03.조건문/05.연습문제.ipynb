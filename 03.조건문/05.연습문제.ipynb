{
 "cells": [
  {
   "attachments": {},
   "cell_type": "markdown",
   "metadata": {},
   "source": [
    "- Q1. 생일을 입력받아 오늘 현재의 만 나이 계산하고, 띠를 알려주세요."
   ]
  },
  {
   "cell_type": "code",
   "execution_count": null,
   "metadata": {},
   "outputs": [],
   "source": [
    "f'{now.year}-{now.month:02d}-{now.day:02d} {now.hour:02d}:{now.minute:02d}:{now.second:02d}'"
   ]
  },
  {
   "cell_type": "code",
   "execution_count": 5,
   "metadata": {},
   "outputs": [
    {
     "data": {
      "text/plain": [
       "(1992, 3, 18)"
      ]
     },
     "execution_count": 5,
     "metadata": {},
     "output_type": "execute_result"
    }
   ],
   "source": [
    "#생년월일을 입력받고 정수로 변환\n",
    "b_year, b_month, b_day = map(int, input().split())\n",
    "b_year, b_month, b_day\n",
    "# f'{b_year:4d}-{b_month:02d}-{b_day:02d}'"
   ]
  },
  {
   "cell_type": "code",
   "execution_count": 6,
   "metadata": {},
   "outputs": [
    {
     "data": {
      "text/plain": [
       "(2023, 3, 30)"
      ]
     },
     "execution_count": 6,
     "metadata": {},
     "output_type": "execute_result"
    }
   ],
   "source": [
    "#오늘 날짜 구하기\n",
    "import datetime     #년월일시 다 구해주는 \n",
    "t = datetime.date.today()\n",
    "t.year, t.month, t.day"
   ]
  },
  {
   "cell_type": "code",
   "execution_count": 9,
   "metadata": {},
   "outputs": [
    {
     "name": "stdout",
     "output_type": "stream",
     "text": [
      "31\n"
     ]
    }
   ],
   "source": [
    "#만 나이 구하기: month 비교 -> day비교\n",
    "if t.month < b_month:\n",
    "    age = (t.year - b_year) - 1     #괄호 생략가능\n",
    "elif t.month > b_month:\n",
    "    age = t.year - b_year\n",
    "else:   #당월인 경우\n",
    "    if t.day < b_day:\n",
    "        age = t.year - b_year -1\n",
    "    else:  #월이 같은 경우 day를 비교\n",
    "        age = t.year - b_year\n",
    "print(age)\n"
   ]
  },
  {
   "cell_type": "code",
   "execution_count": 12,
   "metadata": {},
   "outputs": [
    {
     "name": "stdout",
     "output_type": "stream",
     "text": [
      "신\n"
     ]
    }
   ],
   "source": [
    "# 띠 계산\n",
    "#생년 % 12 값에 따라, 띠 list의 인덱스값 출력\n",
    "# 0 - 원숭이, 1 - 닭, ..., 11 - 양\n",
    "animals = '신유술해자축인묘진사요미'\n",
    "print(animals[b_year % 12])\n"
   ]
  },
  {
   "cell_type": "code",
   "execution_count": 14,
   "metadata": {},
   "outputs": [
    {
     "name": "stdout",
     "output_type": "stream",
     "text": [
      "원숭이\n"
     ]
    }
   ],
   "source": [
    "animals = '원숭이 닭 개 돼지 쥐 소 호랑이 토끼 용 뱀 말 양'.split()\n",
    "print(animals[b_year % 12])"
   ]
  },
  {
   "cell_type": "code",
   "execution_count": 25,
   "metadata": {},
   "outputs": [
    {
     "name": "stdout",
     "output_type": "stream",
     "text": [
      "8 입니다.\n"
     ]
    }
   ],
   "source": [
    "#Fizz_Buzz게임 (방법1)\n",
    "num = int(input('양의 정수> '))\n",
    "if num % 15 == 0:\n",
    "    fb ='FizzBuzz'\n",
    "elif num % 3 == 0:\n",
    "    fb ='Fizz'\n",
    "elif num % 5 == 0:\n",
    "    fb ='Buzz'\n",
    "else:\n",
    "    fb ='입니다.'\n",
    "print(num, fb)"
   ]
  },
  {
   "cell_type": "code",
   "execution_count": 26,
   "metadata": {},
   "outputs": [
    {
     "name": "stdout",
     "output_type": "stream",
     "text": [
      "7 입니다\n"
     ]
    }
   ],
   "source": [
    "#Fizz_Buzz게임 (방법2: Short-circuit rule 적용)\n",
    "num = int(input('양의 정수> '))\n",
    "print(num, 'Fizz'*(num%3==0) + 'Buzz'*(num%5==0) or '입니다')      #str*(null) = False\n"
   ]
  },
  {
   "cell_type": "code",
   "execution_count": null,
   "metadata": {},
   "outputs": [],
   "source": []
  }
 ],
 "metadata": {
  "kernelspec": {
   "display_name": "base",
   "language": "python",
   "name": "python3"
  },
  "language_info": {
   "codemirror_mode": {
    "name": "ipython",
    "version": 3
   },
   "file_extension": ".py",
   "mimetype": "text/x-python",
   "name": "python",
   "nbconvert_exporter": "python",
   "pygments_lexer": "ipython3",
   "version": "3.10.9"
  },
  "orig_nbformat": 4
 },
 "nbformat": 4,
 "nbformat_minor": 2
}
