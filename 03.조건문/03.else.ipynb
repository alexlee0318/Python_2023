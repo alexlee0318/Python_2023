{
 "cells": [
  {
   "attachments": {},
   "cell_type": "markdown",
   "metadata": {},
   "source": [
    "### 3-2. if ~ else"
   ]
  },
  {
   "cell_type": "code",
   "execution_count": 1,
   "metadata": {},
   "outputs": [
    {
     "name": "stdout",
     "output_type": "stream",
     "text": [
      "현재 시각은 11 am입니다.\n"
     ]
    }
   ],
   "source": [
    "# 02.if문 파일에서 -> 현재시간이 오전/오후인지 구분하는 예시 가져옴\n",
    "import datetime\n",
    "now = datetime.datetime.now()\n",
    "if now.hour < 12:\n",
    "    print(f'현재 시각은 {now.hour} am입니다.')\n",
    "if now.hour >= 12:\n",
    "    print(f'현재 시각은 {now.hour} pm입니다.')"
   ]
  },
  {
   "cell_type": "code",
   "execution_count": 2,
   "metadata": {},
   "outputs": [
    {
     "name": "stdout",
     "output_type": "stream",
     "text": [
      "현재 시각은 11 am입니다.\n"
     ]
    }
   ],
   "source": [
    "now = datetime.datetime.now()\n",
    "if now.hour < 12:\n",
    "    print(f'현재 시각은 {now.hour} am입니다.')\n",
    "else:\n",
    "    print(f'현재 {now.hour} pm입니다.')"
   ]
  },
  {
   "attachments": {},
   "cell_type": "markdown",
   "metadata": {},
   "source": [
    "- 조건부 표현식(3항 연산자)"
   ]
  },
  {
   "cell_type": "code",
   "execution_count": null,
   "metadata": {},
   "outputs": [],
   "source": [
    "# JS, Java에서는...\n",
    "# y = (num % 2 == 0) ? '짝수' : '홀수';"
   ]
  },
  {
   "cell_type": "code",
   "execution_count": 8,
   "metadata": {},
   "outputs": [
    {
     "name": "stdout",
     "output_type": "stream",
     "text": [
      "6 짝수\n"
     ]
    }
   ],
   "source": [
    "import random\n",
    "num = random.randint(1, 10)\n",
    "even_odd = '짝수' if num % 2 == 0 else '홀수'\n",
    "print(num, even_odd)"
   ]
  },
  {
   "cell_type": "code",
   "execution_count": 17,
   "metadata": {},
   "outputs": [
    {
     "name": "stdout",
     "output_type": "stream",
     "text": [
      "11시, 상쾌한 오전입니다!\n"
     ]
    }
   ],
   "source": [
    "#오전오후 판별 식 만들기\n",
    "now = datetime.datetime.now()\n",
    "am_pm = '상쾌한 오전' if now.hour < 12 else '따뜻한 오후'\n",
    "print(f'{now.hour}시, {am_pm}입니다!')"
   ]
  },
  {
   "cell_type": "code",
   "execution_count": 21,
   "metadata": {},
   "outputs": [
    {
     "name": "stdout",
     "output_type": "stream",
     "text": [
      "59점, fail입니다!\n"
     ]
    }
   ],
   "source": [
    "#성적(score)이 60점 이상이면 합격, 아니면 불합격\n",
    "score = int(input('성적> '))\n",
    "result = 'pass' if score >=60 else 'fail'\n",
    "print(f'{score}점, {result}입니다!')"
   ]
  },
  {
   "cell_type": "code",
   "execution_count": 25,
   "metadata": {},
   "outputs": [
    {
     "name": "stdout",
     "output_type": "stream",
     "text": [
      "59점, fail!\n"
     ]
    }
   ],
   "source": [
    "#위의 식에서- 성적이 60점 이상 70점 미만이면 재시험, 70점 이상이면 통과, 60점 미만이면 불통\n",
    "score = int(input('성적> '))\n",
    "result = 'pass' if score >=70 else \\\n",
    "            'try again' if 60 <= score < 70 else 'fail'\n",
    "print(f'{score}점, {result}!')"
   ]
  },
  {
   "cell_type": "code",
   "execution_count": null,
   "metadata": {},
   "outputs": [],
   "source": []
  }
 ],
 "metadata": {
  "kernelspec": {
   "display_name": "base",
   "language": "python",
   "name": "python3"
  },
  "language_info": {
   "codemirror_mode": {
    "name": "ipython",
    "version": 3
   },
   "file_extension": ".py",
   "mimetype": "text/x-python",
   "name": "python",
   "nbconvert_exporter": "python",
   "pygments_lexer": "ipython3",
   "version": "3.10.9"
  },
  "orig_nbformat": 4
 },
 "nbformat": 4,
 "nbformat_minor": 2
}
