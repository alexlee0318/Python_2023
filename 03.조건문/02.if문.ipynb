{
 "cells": [
  {
   "attachments": {},
   "cell_type": "markdown",
   "metadata": {},
   "source": [
    "## 3-1 if 조건문"
   ]
  },
  {
   "attachments": {},
   "cell_type": "markdown",
   "metadata": {},
   "source": [
    "- 가장 기본적인 if 조건문"
   ]
  },
  {
   "cell_type": "code",
   "execution_count": 8,
   "metadata": {},
   "outputs": [],
   "source": [
    "num = int(input('정수 입력> '))"
   ]
  },
  {
   "cell_type": "code",
   "execution_count": 9,
   "metadata": {},
   "outputs": [],
   "source": [
    "if num > 0:\n",
    "    print(f'{num}은 양수입니다.')"
   ]
  },
  {
   "cell_type": "code",
   "execution_count": 10,
   "metadata": {},
   "outputs": [],
   "source": [
    "if num < 0:\n",
    "    print(f'{num}은 음수입니다.')"
   ]
  },
  {
   "cell_type": "code",
   "execution_count": 11,
   "metadata": {},
   "outputs": [
    {
     "name": "stdout",
     "output_type": "stream",
     "text": [
      "0입니다.\n"
     ]
    }
   ],
   "source": [
    "if num == 0:\n",
    "    print('0입니다.')"
   ]
  },
  {
   "attachments": {},
   "cell_type": "markdown",
   "metadata": {},
   "source": [
    "- 날짜/ 시간"
   ]
  },
  {
   "cell_type": "code",
   "execution_count": 12,
   "metadata": {},
   "outputs": [
    {
     "data": {
      "text/plain": [
       "datetime.datetime(2023, 3, 30, 10, 27, 52, 399609)"
      ]
     },
     "execution_count": 12,
     "metadata": {},
     "output_type": "execute_result"
    }
   ],
   "source": [
    "import datetime\n",
    "datetime.datetime.now()"
   ]
  },
  {
   "cell_type": "code",
   "execution_count": 13,
   "metadata": {},
   "outputs": [
    {
     "data": {
      "text/plain": [
       "'2023-03-30 10:30:39'"
      ]
     },
     "execution_count": 13,
     "metadata": {},
     "output_type": "execute_result"
    }
   ],
   "source": [
    "# 2023-03-30 10:27:51 형태로 표현하기\n",
    "now = datetime.datetime.now()\n",
    "f'{now.year}-{now.month:02d}-{now.day:02d} {now.hour:02d}:{now.minute:02d}:{now.second:02d}'"
   ]
  },
  {
   "cell_type": "code",
   "execution_count": 15,
   "metadata": {},
   "outputs": [
    {
     "name": "stdout",
     "output_type": "stream",
     "text": [
      "현재 시각은 10 am입니다.\n"
     ]
    }
   ],
   "source": [
    "# 현재시간이 오전/오후인지 구분\n",
    "now = datetime.datetime.now()\n",
    "if now.hour < 12:\n",
    "    print(f'현재 시각은 {now.hour} am입니다.')\n",
    "if now.hour >= 12:\n",
    "    print(f'현재 {now.hour} pm입니다.')"
   ]
  },
  {
   "cell_type": "code",
   "execution_count": 17,
   "metadata": {},
   "outputs": [
    {
     "name": "stdout",
     "output_type": "stream",
     "text": [
      "3월은 봄입니다.\n"
     ]
    }
   ],
   "source": [
    "#계절 구분\n",
    "# 3-5:봄, 6-8:여름, 9-11:가을, 12-2: 겨울\n",
    "if 3 <= now.month <= 5:\n",
    "    print(f'{now.month}월은 봄입니다.')\n",
    "if 6 <= now.month <= 8:\n",
    "    print(f'{now.month}월은 여름입니다.')\n",
    "if 9 <= now.month <= 11:\n",
    "    print(f'{now.month}월은 가을입니다.')\n",
    "if now.month >= 12 or now.month <= 2:\n",
    "    print(f'{now.month}월은 겨울입니다.')"
   ]
  },
  {
   "attachments": {},
   "cell_type": "markdown",
   "metadata": {},
   "source": [
    "- 홀수/짝수 구분\n",
    "    - in 문자열 연산자\n",
    "    - % 모듈러"
   ]
  },
  {
   "cell_type": "code",
   "execution_count": 22,
   "metadata": {},
   "outputs": [
    {
     "name": "stdout",
     "output_type": "stream",
     "text": [
      "6은 짝수입니다.\n"
     ]
    }
   ],
   "source": [
    "# %로 홀짝구분\n",
    "import random\n",
    "num = random.randint(1, 10)\n",
    "if num % 2 == 1:\n",
    "    print(f'{num}은 홀수입니다.')\n",
    "# if num % 2 == 0:\n",
    "#     print(f'{num}은 짝수입니다.')\n",
    "else:\n",
    "    print(f'{num}은 짝수입니다.')\n"
   ]
  },
  {
   "attachments": {},
   "cell_type": "markdown",
   "metadata": {},
   "source": [
    "- pass 키워드\n",
    "    - 코드 임시 비워둘 때 사용- Error출력하지 않음\n",
    "    - 반대 키워드: raise NotImplementedError(오류 강제발생시키기)"
   ]
  },
  {
   "cell_type": "code",
   "execution_count": 2,
   "metadata": {},
   "outputs": [],
   "source": [
    "# 나중에 코드를 구현하려 할 때 pass를 써서 error코드 방지\n",
    "if True:\n",
    "    pass"
   ]
  },
  {
   "attachments": {},
   "cell_type": "markdown",
   "metadata": {},
   "source": [
    "- 들여쓰기(Indentation)\n",
    "    - if문에서 indentation 중요성"
   ]
  },
  {
   "cell_type": "code",
   "execution_count": 28,
   "metadata": {},
   "outputs": [
    {
     "name": "stdout",
     "output_type": "stream",
     "text": [
      "들여쓰기가 끝나면 조건과 관계없이 실행됩니다.\n"
     ]
    }
   ],
   "source": [
    "num = 3\n",
    "if num % 2 == 0:\n",
    "    print(f'{num}은 짝수입니다.')\n",
    "    print('True입니다.')\n",
    "print('들여쓰기가 끝나면 조건과 관계없이 실행됩니다.')"
   ]
  },
  {
   "attachments": {},
   "cell_type": "markdown",
   "metadata": {},
   "source": [
    "- Nested(중첩) 조건문"
   ]
  },
  {
   "cell_type": "code",
   "execution_count": 31,
   "metadata": {},
   "outputs": [
    {
     "name": "stdout",
     "output_type": "stream",
     "text": [
      "indentation을 주의하세요\n"
     ]
    }
   ],
   "source": [
    "num = 12\n",
    "if num % 2 == 1:\n",
    "    print('홀수입니다.')\n",
    "    if num > 10:\n",
    "        print('10보다 큰 홀수입니다.')\n",
    "print('indentation을 주의하세요') "
   ]
  },
  {
   "cell_type": "code",
   "execution_count": null,
   "metadata": {},
   "outputs": [],
   "source": []
  }
 ],
 "metadata": {
  "kernelspec": {
   "display_name": "base",
   "language": "python",
   "name": "python3"
  },
  "language_info": {
   "codemirror_mode": {
    "name": "ipython",
    "version": 3
   },
   "file_extension": ".py",
   "mimetype": "text/x-python",
   "name": "python",
   "nbconvert_exporter": "python",
   "pygments_lexer": "ipython3",
   "version": "3.10.9"
  },
  "orig_nbformat": 4
 },
 "nbformat": 4,
 "nbformat_minor": 2
}
