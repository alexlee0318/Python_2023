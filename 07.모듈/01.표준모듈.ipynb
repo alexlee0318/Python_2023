{
 "cells": [
  {
   "attachments": {},
   "cell_type": "markdown",
   "metadata": {},
   "source": [
    "### 07-1. 표준모듈\n",
    "    - 참고) 파이썬 표준 라이브러리 https://docs.python.org/ko/3.10/library/index.html"
   ]
  },
  {
   "attachments": {},
   "cell_type": "markdown",
   "metadata": {},
   "source": [
    "- math 모듈 :  import math\n",
    "- 수학과 관련된 다양한 기능"
   ]
  },
  {
   "cell_type": "code",
   "execution_count": 10,
   "metadata": {},
   "outputs": [
    {
     "data": {
      "text/plain": [
       "(1.0, 6.123233995736766e-17)"
      ]
     },
     "execution_count": 10,
     "metadata": {},
     "output_type": "execute_result"
    }
   ],
   "source": [
    "import math     # 모듈 안에- 함수 상속값, 모듈 다 들어갈 수 있음\n",
    "math.pi\n",
    "math.sin(math.pi/2), math.cos(math.pi/2)"
   ]
  },
  {
   "cell_type": "code",
   "execution_count": 8,
   "metadata": {},
   "outputs": [
    {
     "data": {
      "text/plain": [
       "(1.0, 6.123233995736766e-17)"
      ]
     },
     "execution_count": 8,
     "metadata": {},
     "output_type": "execute_result"
    }
   ],
   "source": [
    "from math import sin, cos   # 불러오기- math에서 sin, cos\n",
    "sin(math.pi/2), cos(math.pi/2)  "
   ]
  },
  {
   "cell_type": "code",
   "execution_count": 9,
   "metadata": {},
   "outputs": [
    {
     "data": {
      "text/plain": [
       "(1.0, 6.123233995736766e-17)"
      ]
     },
     "execution_count": 9,
     "metadata": {},
     "output_type": "execute_result"
    }
   ],
   "source": [
    "import math as m                # as: alias 약칭\n",
    "m.sin(m.pi/2), m.cos(m.pi/2)  "
   ]
  },
  {
   "attachments": {},
   "cell_type": "markdown",
   "metadata": {},
   "source": [
    "- random 모듈"
   ]
  },
  {
   "cell_type": "code",
   "execution_count": 11,
   "metadata": {},
   "outputs": [
    {
     "data": {
      "text/plain": [
       "(0.7357482679667715, 1)"
      ]
     },
     "execution_count": 11,
     "metadata": {},
     "output_type": "execute_result"
    }
   ],
   "source": [
    "import random as rd\n",
    "rd.random(), rd.randint(1, 6)"
   ]
  },
  {
   "cell_type": "code",
   "execution_count": 15,
   "metadata": {},
   "outputs": [
    {
     "data": {
      "text/plain": [
       "(19.869836185658464, 5)"
      ]
     },
     "execution_count": 15,
     "metadata": {},
     "output_type": "execute_result"
    }
   ],
   "source": [
    "rd.uniform(10, 20), rd.randrange(10)     # 실수값, 정수값"
   ]
  },
  {
   "cell_type": "code",
   "execution_count": 17,
   "metadata": {},
   "outputs": [
    {
     "data": {
      "text/plain": [
       "(5, [1, 4, 5])"
      ]
     },
     "execution_count": 17,
     "metadata": {},
     "output_type": "execute_result"
    }
   ],
   "source": [
    "a = [1, 2, 3, 4, 5]\n",
    "rd.choice(a), rd.sample(a, 3)   # 랜덤 추출 1, 랜덤 추출 3개  "
   ]
  },
  {
   "cell_type": "code",
   "execution_count": 18,
   "metadata": {},
   "outputs": [
    {
     "data": {
      "text/plain": [
       "[5, 2, 1, 3, 4]"
      ]
     },
     "execution_count": 18,
     "metadata": {},
     "output_type": "execute_result"
    }
   ],
   "source": [
    "rd.shuffle(a)\n",
    "a"
   ]
  },
  {
   "attachments": {},
   "cell_type": "markdown",
   "metadata": {},
   "source": [
    "- sys\n",
    "    - 01.sys.py파일에서 별도 실행함"
   ]
  },
  {
   "attachments": {},
   "cell_type": "markdown",
   "metadata": {},
   "source": [
    "- os 모듈\n",
    "    - 운영체제와 관련된 기능을 가짐"
   ]
  },
  {
   "cell_type": "code",
   "execution_count": 19,
   "metadata": {},
   "outputs": [
    {
     "data": {
      "text/plain": [
       "('nt', 'd:\\\\Workspace\\\\02.Python\\\\07.모듈')"
      ]
     },
     "execution_count": 19,
     "metadata": {},
     "output_type": "execute_result"
    }
   ],
   "source": [
    "import os\n",
    "os.name, os.getcwd()"
   ]
  },
  {
   "cell_type": "code",
   "execution_count": 23,
   "metadata": {},
   "outputs": [
    {
     "data": {
      "text/plain": [
       "['01.sys.py', '01.표준모듈.ipynb', 'test']"
      ]
     },
     "execution_count": 23,
     "metadata": {},
     "output_type": "execute_result"
    }
   ],
   "source": [
    "# 현재 폴더의 요소(파일들 출력)\n",
    "os.listdir()"
   ]
  },
  {
   "cell_type": "code",
   "execution_count": 34,
   "metadata": {},
   "outputs": [
    {
     "ename": "FileExistsError",
     "evalue": "[WinError 183] 파일이 이미 있으므로 만들 수 없습니다: 'test'",
     "output_type": "error",
     "traceback": [
      "\u001b[1;31m---------------------------------------------------------------------------\u001b[0m",
      "\u001b[1;31mFileExistsError\u001b[0m                           Traceback (most recent call last)",
      "Cell \u001b[1;32mIn[34], line 1\u001b[0m\n\u001b[1;32m----> 1\u001b[0m os\u001b[39m.\u001b[39;49mmkdir(\u001b[39m'\u001b[39;49m\u001b[39mtest\u001b[39;49m\u001b[39m'\u001b[39;49m)   \u001b[39m# 동잉ㄹ한 이름으로 중복 생성 불가(오류 뜸)\u001b[39;00m\n\u001b[0;32m      2\u001b[0m os\u001b[39m.\u001b[39mlistdir()\n",
      "\u001b[1;31mFileExistsError\u001b[0m: [WinError 183] 파일이 이미 있으므로 만들 수 없습니다: 'test'"
     ]
    }
   ],
   "source": [
    "os.mkdir('test')   # 동잉ㄹ한 이름으로 중복 생성 불가(오류 뜸)\n",
    "os.listdir()"
   ]
  },
  {
   "cell_type": "code",
   "execution_count": 36,
   "metadata": {},
   "outputs": [
    {
     "ename": "OSError",
     "evalue": "[WinError 145] 디렉터리가 비어 있지 않습니다: 'test'",
     "output_type": "error",
     "traceback": [
      "\u001b[1;31m---------------------------------------------------------------------------\u001b[0m",
      "\u001b[1;31mOSError\u001b[0m                                   Traceback (most recent call last)",
      "Cell \u001b[1;32mIn[36], line 1\u001b[0m\n\u001b[1;32m----> 1\u001b[0m os\u001b[39m.\u001b[39;49mrmdir(\u001b[39m'\u001b[39;49m\u001b[39mtest\u001b[39;49m\u001b[39m'\u001b[39;49m)      \u001b[39m# 디렉토리가 비어 있어야만 삭제 가능\u001b[39;00m\n\u001b[0;32m      2\u001b[0m os\u001b[39m.\u001b[39mlistdir()\n",
      "\u001b[1;31mOSError\u001b[0m: [WinError 145] 디렉터리가 비어 있지 않습니다: 'test'"
     ]
    }
   ],
   "source": [
    "os.rmdir('test')      # 디렉토리가 비어 있어야만 삭제 가능\n",
    "os.listdir()"
   ]
  },
  {
   "attachments": {},
   "cell_type": "markdown",
   "metadata": {},
   "source": [
    "- os에서 많이쓰이는 exists "
   ]
  },
  {
   "cell_type": "code",
   "execution_count": 37,
   "metadata": {},
   "outputs": [],
   "source": [
    "# 디렉토리가 없으면 새로 만들어라\n",
    "dir_name= 'test'\n",
    "if not os.path.exists(dir_name):\n",
    "    os.mkdir(dir_name)"
   ]
  },
  {
   "cell_type": "code",
   "execution_count": 38,
   "metadata": {},
   "outputs": [
    {
     "data": {
      "text/plain": [
       "['a.txt']"
      ]
     },
     "execution_count": 38,
     "metadata": {},
     "output_type": "execute_result"
    }
   ],
   "source": [
    "os.listdir(dir_name)"
   ]
  },
  {
   "cell_type": "code",
   "execution_count": 39,
   "metadata": {},
   "outputs": [
    {
     "data": {
      "text/plain": [
       "[]"
      ]
     },
     "execution_count": 39,
     "metadata": {},
     "output_type": "execute_result"
    }
   ],
   "source": [
    "os.remove(dir_name + '/' + 'a.txt')\n",
    "os.listdir(dir_name)"
   ]
  },
  {
   "cell_type": "code",
   "execution_count": 40,
   "metadata": {},
   "outputs": [
    {
     "data": {
      "text/plain": [
       "['01.sys.py', '01.표준모듈.ipynb']"
      ]
     },
     "execution_count": 40,
     "metadata": {},
     "output_type": "execute_result"
    }
   ],
   "source": [
    "os.rmdir(dir_name)\n",
    "os.listdir()"
   ]
  },
  {
   "cell_type": "code",
   "execution_count": 46,
   "metadata": {},
   "outputs": [
    {
     "name": "stdout",
     "output_type": "stream",
     "text": [
      "c:\\Users\\YONSAI\\anaconda3\n",
      "C:\\Users\\YONSAI\\anaconda3\n",
      "C:\\Users\\YONSAI\\anaconda3\\Library\\mingw-w64\\bin\n",
      "C:\\Users\\YONSAI\\anaconda3\\Library\\usr\\bin\n",
      "C:\\Users\\YONSAI\\anaconda3\\Library\\bin\n",
      "C:\\Users\\YONSAI\\anaconda3\\Scripts\n",
      "C:\\Users\\YONSAI\\anaconda3\\bin\n",
      "C:\\Users\\YONSAI\\anaconda3\\condabin\n",
      "C:\\Program Files (x86)\\Common Files\\Intel\\Shared Libraries\\redist\\intel64\\compiler\n",
      "C:\\Windows\\system32\n",
      "C:\\Windows\n",
      "C:\\Windows\\System32\\Wbem\n",
      "C:\\Windows\\System32\\WindowsPowerShell\\v1.0\n",
      "C:\\Windows\\System32\\OpenSSH\n",
      "C:\\Program Files (x86)\\Microsoft SQL Server\\110\\Tools\\Binn\n",
      "C:\\Program Files\\Microsoft SQL Server\\110\\Tools\\Binn\n",
      "C:\\Program Files\\Microsoft SQL Server\\110\\DTS\\Binn\n",
      "C:\\Program Files (x86)\\Microsoft SQL Server\\100\\Tools\\Binn\n",
      "C:\\Program Files\\Microsoft SQL Server\\100\\Tools\\Binn\n",
      "C:\\Program Files\\Microsoft SQL Server\\100\\DTS\\Binn\n",
      "C:\\Program Files\\Git\\cmd\n",
      "C:\\Program Files\\nodejs\n",
      "C:\\Users\\YONSAI\\anaconda3\n",
      "C:\\Users\\YONSAI\\anaconda3\\Library\\mingw-w64\\bin\n",
      "C:\\Users\\YONSAI\\anaconda3\\Library\\usr\\bin\n",
      "C:\\Users\\YONSAI\\anaconda3\\Library\\bin\n",
      "C:\\Users\\YONSAI\\anaconda3\\Scripts\n",
      "C:\\Users\\YONSAI\\AppData\\Local\\Microsoft\\WindowsApps\n",
      "C:\\Users\\YONSAI\\Desktop\\Microsoft VS Code\\bin\n",
      "C:\\Users\\YONSAI\\AppData\\Roaming\\npm\n"
     ]
    }
   ],
   "source": [
    "paths = os.environ['PATH']\n",
    "for path in paths.split(';'):\n",
    "    print(path)"
   ]
  },
  {
   "attachments": {},
   "cell_type": "markdown",
   "metadata": {},
   "source": [
    "- datetime 모듈\n",
    "    - 현재기준 -->>  now = dt.datetime.now()\n",
    "    - ~이후    -->>  after = now + dt.timedelta()"
   ]
  },
  {
   "cell_type": "code",
   "execution_count": 50,
   "metadata": {},
   "outputs": [
    {
     "name": "stdout",
     "output_type": "stream",
     "text": [
      "2023-04-06 10:49:53\n"
     ]
    }
   ],
   "source": [
    "# 연월일시 lv.1\n",
    "import datetime as dt\n",
    "now = dt.datetime.now()\n",
    "print(f'{now.year}-{now.month:02d}-{now.day:02d} {now.hour:02d}:{now.minute:02d}:{now.second:02d}')"
   ]
  },
  {
   "cell_type": "code",
   "execution_count": 51,
   "metadata": {},
   "outputs": [
    {
     "name": "stdout",
     "output_type": "stream",
     "text": [
      "2023-04-06 11:02:15\n"
     ]
    }
   ],
   "source": [
    "# 연월일시 lv.2\n",
    "now = dt.datetime.now()\n",
    "print(now.strftime('%Y-%m-%d %H:%M:%S'))"
   ]
  },
  {
   "cell_type": "code",
   "execution_count": 52,
   "metadata": {},
   "outputs": [
    {
     "data": {
      "text/plain": [
       "3"
      ]
     },
     "execution_count": 52,
     "metadata": {},
     "output_type": "execute_result"
    }
   ],
   "source": [
    "# 요일값 인덱스로 출력\n",
    "names = '월 화 수 목 금 토 일'.split()\n",
    "now.weekday()   # 오늘 요일을 인덱스 값으로 알려줌"
   ]
  },
  {
   "cell_type": "code",
   "execution_count": 53,
   "metadata": {},
   "outputs": [
    {
     "name": "stdout",
     "output_type": "stream",
     "text": [
      "2023-04-06(목) 11:09:19\n"
     ]
    }
   ],
   "source": [
    "# 연월일시 + (요일)\n",
    "now = dt.datetime.now()\n",
    "print(now.strftime('%Y-%m-%d') + f'({names[now.weekday()]}) ' + now.strftime('%H:%M:%S'))"
   ]
  },
  {
   "cell_type": "code",
   "execution_count": 54,
   "metadata": {},
   "outputs": [
    {
     "name": "stdout",
     "output_type": "stream",
     "text": [
      "2023-07-15(토) 11:09:19\n"
     ]
    }
   ],
   "source": [
    "after = now + dt.timedelta(days=100)    # 지금으로부터 100일 후 연월일시(요일)\n",
    "print(after.strftime('%Y-%m-%d') + f'({names[after.weekday()]}) ' + after.strftime('%H:%M:%S'))"
   ]
  },
  {
   "cell_type": "code",
   "execution_count": 57,
   "metadata": {},
   "outputs": [
    {
     "name": "stdout",
     "output_type": "stream",
     "text": [
      "2023-05-01(월) 21:29:29\n"
     ]
    }
   ],
   "source": [
    "after = now + dt.timedelta(weeks=3, days=4, hours=10, minutes=20, seconds=10)    # \n",
    "print(after.strftime('%Y-%m-%d') + f'({names[after.weekday()]}) ' + after.strftime('%H:%M:%S'))"
   ]
  },
  {
   "cell_type": "markdown",
   "metadata": {},
   "source": [
    "- time 모듈"
   ]
  },
  {
   "cell_type": "code",
   "execution_count": 60,
   "metadata": {},
   "outputs": [
    {
     "name": "stdout",
     "output_type": "stream",
     "text": [
      "지금부터 5초 동안 정지\n",
      "5초가 경과했습니다\n"
     ]
    }
   ],
   "source": [
    "import time\n",
    "\n",
    "print('지금부터 5초 동안 정지')\n",
    "time.sleep(5)\n",
    "\n",
    "print('5초가 경과했습니다')"
   ]
  },
  {
   "attachments": {},
   "cell_type": "markdown",
   "metadata": {},
   "source": [
    "- urllib 모듈 ( requests )\n",
    "    - 웹크롤링할 때\n",
    "    - API에서 작업할 때"
   ]
  },
  {
   "cell_type": "code",
   "execution_count": 61,
   "metadata": {},
   "outputs": [],
   "source": [
    "from urllib import request\n",
    "\n",
    "target = request.urlopen('https://www.hanbit.co.kr/academy/')\n",
    "output = target.read()"
   ]
  },
  {
   "cell_type": "code",
   "execution_count": 69,
   "metadata": {},
   "outputs": [
    {
     "name": "stdout",
     "output_type": "stream",
     "text": [
      "b'\">\\r\\n<meta name=\"apple-mobile-web-app-capable\" content=\"yes\" />\\r\\n<meta name=\"naver-site-verification\" content=\"01c29ed1852aecca7a48ac0c3e0869627bc512d8\"/>\\r\\n<link rel=\"stylesheet\" href=\"/css/common.css?20210603093421\" />\\r\\n<link href=\"/css/hover.css\" rel=\"stylesheet\" media=\"all\">\\r\\n<link rel=\"stylesheet\" href=\"/js/jquery.raty.css\" />\\r\\n<script type=\"text/javascript\" src=\"/js/jquery-latest.js\"></script>\\r\\n<script type=\"text/javascript\" src=\"/js/jquery-ui.js\"></script>\\r\\n<script type=\"text/javascript\" src=\"/js/jquery.event.drag-1.5.min.js\"></script>\\r\\n<script type=\"text/javascript\" src=\"/js/jquery.touchSlider.js\"></script>\\r\\n<script type=\"text/javascript\" src=\"/js/jquery.raty.js\"></script>\\r\\n<script type=\"text/javascript\" src=\"/js/main.js\"></script>\\r\\n<script type=\"text/javascript\" src=\"/lib/cheditor/cheditor.js\"></script>\\r\\n<script type=\"text/javascript\" src=\"/js/jquery.ui.datepicker-ko.js\"></script>\\r\\n<script type=\"text/javascript\" src=\"/js/engine.js\"></script>\\r\\n<script type=\"text/javascript\" src=\"/js/vue.js\"></script>\\r\\n\\r\\n<!-- Google Analytics -->\\r\\n<script>\\r\\n(function(i,s,o,g,r,a,m){i[\\'GoogleAnalyticsObject\\']=r;i[r]=i[r]||function(){\\r\\n(i[r].q=i[r].q||[]).push(arguments)},i[r].l=1*new Date();a=s.createElement(o),\\r\\nm=s.getElementsByTagName(o)[0];a.async=1;a.src=g;m.parentNode.insertBefore(a,m)\\r\\n})(window,document,\\'script\\',\\'//www.google-analytics.com/analytics.js\\',\\'ga\\');\\r\\nga(\\'create\\', \\'UA-47080738-1\\', \\'hanbit.co.kr\\');\\r\\nga(\\'require\\', \\'linkid\\', \\'linkid.js\\');\\r\\nga(\\'send\\', \\'pageview\\');\\r\\n</script>\\r\\n<!-- Google Analytics -->\\r\\n\\r\\n<!-- Facebook Pixel Code -->\\r\\n<script>\\r\\n  !function(f,b,e,v,n,t,s)\\r\\n  {if(f.fbq)return;n=f.fbq=function(){n.callMethod?\\r\\n  n.callMethod.apply(n,arguments):n.queue.push(arguments)};\\r\\n  if(!f._fbq)f._fbq=n;n.push=n;n.loaded=!0;n.version=\\'2.0\\';\\r\\n  n.queue=[];t=b.createElement(e);t.async=!0;\\r\\n  t.src=v;s=b.getElementsByTagName(e)[0];\\r\\n  s.parentNode.insertBefore(t,s)}(window, document,\\'script\\',\\r\\n  \\'https://connect.facebook.net/en_US/fbevents.js\\');\\r\\n  fbq(\\'init\\', \\'406459623338891\\');\\r\\n  fbq(\\'track\\', \\'PageView\\');\\r\\n</script>\\r\\n<noscript><img height=\"1\" width=\"1\" style=\"display:none\"\\r\\n  src=\"https://www.facebook.com/tr?id=406459623338891&ev=PageView&noscript=1\"\\r\\n/></noscript>\\r\\n<!-- End Facebook Pixel Code -->\\r\\n\\r\\n<!-- Google Tag Manager -->\\r\\n<script>(function(w,d,s,l,i){w[l]=w[l]||[];w[l].push({\\'gtm.start\\':\\r\\nnew Date().getTime(),event:\\'gtm.js\\'});var f=d.getElementsByTagName(s)[0],\\r\\nj=d.createElement(s),dl=l!=\\'dataLayer\\'?\\'&l=\\'+l:\\'\\';j.async=true;j.src=\\r\\n\\'https://www.googletagmanager.com/gtm.js?id=\\'+i+dl;f.parentNode.insertBefore(j,f);\\r\\n})(window,document,\\'script\\',\\'dataLayer\\',\\'GTM-W9D5PM3\\');</script>\\r\\n<!-- End Google Tag Manager -->\\r\\n\\r\\n<!-- Kakao Pixel Code -->\\r\\n<script type=\"text/javascript\" charset=\"UTF-8\" src=\"//t1.daumcdn.net/adfit/static/kp.js\"></script>\\r\\n<script type=\"text/javascript\">\\r\\n  kakaoPixel(\\'3011392806152551233\\').pageView();\\r\\n</script>\\r\\n<!-- //Kakao Pixel Code -->\\r\\n</head>\\r\\n<body>\\r\\n<!-- Google Tag Manager (noscript) -->\\r\\n<noscript><iframe src=\"https://www.googletagmanager.com/ns.html?id=GTM-W9D5PM3\"\\r\\nheight=\"0\" width=\"0\" style=\"display:none;visibility:hidden\"></iframe></noscript>\\r\\n<!-- End Google Tag Manager (noscript) -->\\r\\n<link rel=\"stylesheet\" href=\"/academy/css/layout-academy.css?202204141945\" />\\r\\n<link rel=\"stylesheet\" href=\"/academy/css/layout-books.css\" />\\r\\n<link rel=\"stylesheet\" href=\"/academy/css/layout-community.css\" />\\r\\n<link rel=\"stylesheet\" href=\"/academy/css/layout-network.css\" />\\r\\n<link rel=\"stylesheet\" href=\"/css/layout-member.css\" />\\r\\n\\r\\n<!-- \\xeb\\xa9\\x94\\xeb\\x89\\xb4 \\xeb\\xb0\\x94\\xeb\\xa1\\x9c\\xea\\xb0\\x80\\xea\\xb8\\xb0 -->\\r\\n<div id=\"quick_skip_menu\">\\r\\n  <a href=\"#gnb\" onclick=\"document.getElementById(\\'gnb\\').tabIndex = -1;document.getElementById(\\'gnb\\').focus();return false;\"><span>\\xeb\\xa9\\x94\\xeb\\x89\\xb4 \\xeb\\xb0\\x94\\xeb\\xa1\\x9c\\xea\\xb0\\x80\\xea\\xb8\\xb0</span></a>\\r\\n  <a href=\"#top_search\" onclick=\"view_hover(\\'main_search_area\\',\\'\\',\\'show\\'), document.getElementById(\\'top_search\\').tabIndex = -1;document.getElementById(\\'top_search\\').focus();return false;\"><span>\\xea\\xb2\\x80\\xec\\x83\\x89 \\xeb\\xb0\\x8f \\xec\\xb9\\xb4\\xed\\x85\\x8c\\xea\\xb3\\xa0\\xeb\\xa6\\xac \\xeb\\xb0\\x94\\xeb\\xa1\\x9c\\xea\\xb0\\x80\\xea\\xb8\\xb0</span></a>\\r\\n  <a href=\"#main_top_box\" onclick=\"document.getElementById(\\'main_top_box\\').tabIndex = -1;document.getElementById(\\'main_top_box\\').focus();return false;\"><span>\\xed\\x94\\x84\\xeb\\xa1\\x9c\\xeb\\xaa\\xa8\\xec\\x85\\x98 \\xeb\\xb0\\x94\\xeb\\xa1\\x9c\\xea\\xb0\\x80\\xea\\xb8\\xb0</span></a>\\r\\n  <a href=\"#main_book_area\" onclick=\"document.getElementById(\\'main_book_area\\').tabIndex = -1;document.getElementById(\\'main_book_area\\').focus();return false;\"><span>\\xec\\xb1\\x85 \\xeb\\xb0\\x94\\xeb\\xa1\\x9c\\xea\\xb0\\x80\\xea\\xb8\\xb0</span></a>\\r\\n  <a href=\"#main_network_area\" onclick=\"document.getElementById(\\'main_network_area\\').tabIndex = -1;document.getElementById(\\'main_network_area\\').focus();return false;\"><span>\\xeb\\x84\\xa4\\xed\\x8a\\xb8\\xec\\x9b\\x8c\\xed\\x81\\xac \\xeb\\xb0\\x94\\xeb\\xa1\\x9c\\xea\\xb0\\x80\\xea\\xb8\\xb0</span></a>\\r\\n</div>\\r\\n<!-- //\\xeb\\xa9\\x94\\xeb\\x89\\xb4 \\xeb\\xb0\\x94\\xeb\\xa1\\x9c\\xea\\xb0\\x80\\xea\\xb8\\xb0 -->\\r\\n\\r\\n<!-- header -->\\r\\n<header>\\r\\n  <!-- top menu -->\\r\\n    <nav>\\r\\n    <div id=\"wrap_nav\">\\r\\n      <ul class=\"top_brand\">\\r\\n        <li><a href=\"https://www.hanbit.co.kr/index.html\" name=\"hanbit_network\"><span>HOME</span></a></li>\\r\\n        <li><a href=\"https://www.hanbit.co.kr/media/\">\\xed\\x95\\x9c\\xeb\\xb9\\x9b\\xeb\\xaf\\xb8\\xeb\\x94\\x94\\xec\\x96\\xb4</a></li>\\r\\n        <li><a href=\"https://www.hanbit.co.kr/academy/\">\\xed\\x95\\x9c\\xeb\\xb9\\x9b\\xec\\x95\\x84\\xec\\xb9\\xb4\\xeb\\x8d\\xb0\\xeb\\xaf\\xb8</a></li>\\r\\n        <li><a href=\"https://www.hanbit.co.kr/biz/\">\\xed\\x95\\x9c\\xeb\\xb9\\x9b\\xeb\\xb9\\x84\\xec\\xa6\\x88</a></li>\\r\\n        <li><a href=\"https://www.hanbit.co.kr/life/\">\\xed\\x95\\x9c\\xeb\\xb9\\x9b\\xeb\\x9d\\xbc\\xec\\x9d\\xb4\\xed\\x94\\x84</a></li>\\r\\n        <li><a href=\"https://www.hanbit.co.kr/edu/\">\\xed\\x95\\x9c\\xeb\\xb9\\x9b\\xec\\x97\\x90\\xeb\\x93\\x80</a></li>\\r\\n        <li><a href=\"https://www.hanbit.co.kr/realtime/\">\\xeb\\xa6\\xac\\xec\\x96\\xbc\\xed\\x83\\x80\\xec\\x9e\\x84</a></li>\\r\\n        <li><a href=\"https://www.hanbit.co.kr/textbook/\" target=\"_blank\">\\xed\\x95\\x9c\\xeb\\xb9\\x9b\\xec\\xa0\\x95\\xeb\\xb3\\xb4\\xea\\xb5\\x90\\xea\\xb3\\xbc\\xec\\x84\\x9c</a></li>\\r\\n        <li><a href=\"https://www.hanbit.co.kr/rent/\" target=\"_blank\">\\xed\\x95\\x9c\\xeb\\xb9\\x9b\\xeb\\x8c\\x80\\xea\\xb4\\x80\\xec\\x84\\x9c\\xeb\\xb9\\x84\\xec\\x8a\\xa4</a></li>\\r\\n      </ul>\\r\\n      \\r\\n      <ul class=\"top_menu\">\\r\\n                <li><a href=\"https://www.hanbit.co.kr/member/login.html\" class=\"login\">\\xeb\\xa1\\x9c\\xea\\xb7\\xb8\\xec\\x9d\\xb8</a></li>\\r\\n        <li><a href=\"https://www.hanbit.co.kr/member/member_agree.html\" class=\"join\">\\xed\\x9a\\x8c\\xec\\x9b\\x90\\xea\\xb0\\x80\\xec\\x9e\\x85</a></li>\\r\\n        <li><a href=\"https://www.hanbit.co.kr/myhanbit/myhanbit.html\" class=\"myhanbit\">\\xeb\\xa7\\x88\\xec\\x9d\\xb4\\xed\\x95\\x9c\\xeb\\xb9\\x9b</a></li>\\r\\n        <li><a href=\"https://www.hanbit.co.kr/myhanbit/cart.html\" class=\"cart\">\\xec\\x9e\\xa5\\xeb\\xb0\\x94\\xea\\xb5\\xac\\xeb\\x8b\\x88</a></li>\\r\\n                    <li class=\"top_menu_store\"><a href=\"https://www.hanbit.co.kr/publisher/foreignrights.html?lang=e\" target=\"_blank\">ENGLISH</a></li>\\r\\n      </ul>\\r\\n    </div>\\r\\n  </nav>\\r\\n  <!-- //top menu -->\\r\\n  \\r\\n  <div id=\"wrap_gnb\">\\r\\n    <!-- logo -->\\r\\n    <h1><a href=\"https://www.hanbit.co.kr/academy/\">\\xed\\x95\\x9c\\xeb\\xb9\\x9b\\xec\\x95\\x84\\xec\\xb9\\xb4\\xeb\\x8d\\xb0\\xeb\\xaf\\xb8</a></h1>\\r\\n    <!-- //logo -->\\r\\n    \\r\\n    <!-- Menu -->\\r\\n    <div id=\"gnb\" name=\"gnb\">\\r\\n      <ul>\\r\\n        <li><a href=\"https://www.hanbit.co.kr/academy/info/info.html\" class=\"\">\\xeb\\xb8\\x8c\\xeb\\x9e\\x9c\\xeb\\x93\\x9c \\xec\\x86\\x8c\\xea\\xb0\\x9c</a></li>\\r\\n        <li><a href=\"https://www.hanbit.co.kr/academy/books/new_book_list.html\" class=\"\">\\xec\\xb1\\x85</a></li>\\r\\n        <li><a href=\"https://www.hanbit.co.kr/academy/channel/list.html\" class=\"\">\\xec\\xb1\\x84\\xeb\\x84\\x90.H</a></li>\\r\\n        <li><a href=\"https://www.hanbit.co.kr/academy/professor/index.html\" class=\"\">\\xea\\xb5\\x90\\xec\\x88\\x98\\xec\\xa0\\x84\\xec\\x9a\\xa9\\xea\\xb3\\xb5\\xea\\xb0\\x84</a></li>\\r\\n        <!--\\r\\n        <li><a href=\"https://www.hanbit.co.kr/academy/electric/electric_book_list.html\" class=\"\">\\xec\\xa0\\x84\\xea\\xb8\\xb0\\xec\\x88\\x98\\xed\\x97\\x98\\xec\\x84\\x9c</a></li>\\r\\n        -->\\r\\n        <!-- <li><a href=\"https://www.hanbit.co.kr/academy/community/index.html\" class=\"\">\\xec\\xbb\\xa4\\xeb\\xae\\xa4\\xeb\\x8b\\x88\\xed\\x8b\\xb0</a></li>-->\\r\\n        <li><a href=\"https://www.hanbit.co.kr/support/help_info.html\" target=\"_blank\" class=\"\">\\xea\\xb3\\xa0\\xea\\xb0\\x9d\\xec\\xa7\\x80\\xec\\x9b\\x90</a></li>\\r\\n        <li id=\"top_search\" class=\"search\"><a href=\"javascript:;\" onClick=\"view_hover(\\'main_search_area\\',\\'\\',\\'show\\'); $(\\'#keyword_str\\').focus();\"><span>SERACH</span></a></li>\\r\\n      </ul>\\r\\n    </div>\\r\\n    <!-- //Menu -->\\r\\n    \\r\\n    <!-- lnb -->\\r\\n    <div class=\"lnb\" style=\"top:92px;\">\\r\\n      <div class=\"lnb_area\">\\r\\n              </div>\\r\\n    </div>\\r\\n    <!-- //lnb -->\\r\\n    \\r\\n  </div>\\r\\n  \\r\\n</header>\\r\\n<!-- //header -->\\r\\n\\r\\n<!-- \\xeb\\xa9\\x94\\xec\\x9d\\xb8 \\xea\\xb2\\x80\\xec\\x83\\x89 \\xeb\\xb0\\x8f \\xec\\xb9\\xb4\\xed\\x85\\x8c\\xea\\xb3\\xa0\\xeb\\xa6\\xac \\xec\\x98\\x81\\xec\\x97\\xad -->\\r\\n<div id=\"main_search_area\" class=\"fixed\" style=\"display:none;\">\\n  <div class=\"msa_wrap\">\\n\\n    <!-- \\xea\\xb2\\x80\\xec\\x83\\x89 -->\\n    <div class=\"msa_srch_wrap\">\\n      <form onsubmit=\"return false;\">\\n      <fieldset class=\"msa_srch_field\">\\n        <legend>\\xed\\x95\\x9c\\xeb\\xb9\\x9b\\xec\\xb6\\x9c\\xed\\x8c\\x90\\xeb\\x84\\xa4\\xed\\x8a\\xb8\\xec\\x9b\\x8c\\xed\\x81\\xac \\xea\\xb2\\x80\\xec\\x83\\x89</legend>\\n        <input title=\"\\xea\\xb2\\x80\\xec\\x83\\x89\\xec\\x96\\xb4\" autocomplete=\"off\" class=\"srch_keyword\" accesskey=\"s\" type=\"text\" name=\"keyword_str\" id=\"keyword_str\" v-model=\"keyword\" @input=\"typeKeyword\">\\n        <input type=\"submit\" class=\"srch_btn\" style=\"cursor:pointer;\" @click=\"clickSearch\">\\n      </fieldset>\\n      </form>\\n    </div>\\n    <!-- //\\xea\\xb2\\x80\\xec\\x83\\x89 -->\\n\\n    <!-- \\xe2\\x91\\xa0 \\xec\\x9d\\xb8\\xea\\xb8\\xb0\\xea\\xb2\\x80\\xec\\x83\\x89\\xec\\x96\\xb4 -->\\n    <div class=\"msa_srch_polular\" v-if=\"showPopularKeyword === true\">\\n      <h2 class=\"tit\">\\xec\\x9d\\xb8\\xea\\xb8\\xb0 \\xea\\xb2\\x80\\xec\\x83\\x89\\xec\\x96\\xb4 <span>(\\xec\\xb5\\x9c\\xea\\xb7\\xbc 1\\xea\\xb0\\x9c\\xec\\x9b\\x94\\xea\\xb0\\x84)</span></h2>\\n        <div class=\"popula_box\">\\n          <ul class=\"left\">\\n            <li v-for=\"keyword in leftPopularKeywordList\">\\n              <a :class=\"keyword.bold\" @click=\"clickPopularKeyword(keyword)\">\\n                  {{ keyword.number }} {{ keyword.bookName }}\\n              </a>\\n            </li>\\n          </ul>\\n          <ul class=\"right\">\\n            <li v-for=\"keyword in rightPopularKeywordList\">\\n              <a :class=\"keyword.bold\" @click=\"clickPopularKeyword(keyword)\">\\n                  {{ keyword.number }} {{ keyword.bookName }}\\n              </a>\\n            </li>\\n          </ul>\\n        </div>\\n    </div>\\n    <!-- \\xe2\\x91\\xa0 \\xec\\x9d\\xb8\\xea\\xb8\\xb0\\xea\\xb2\\x80\\xec\\x83\\x89\\xec\\x96\\xb4 -->\\n\\n    <!-- \\xe2\\x91\\xa1 \\xea\\xb2\\x80\\xec\\x83\\x89\\xea\\xb2\\xb0\\xea\\xb3\\xbc/\\xea\\xb2\\x80\\xec\\x83\\x89\\xec\\x84\\x9c\\xec\\xa0\\x9c\\xec\\x8a\\xa4\\xec\\xb3\\x94 -->\\n    <div class=\"msa_srch_suggestion\" v-if=\"showPopularKeyword === false\">\\n      <div class=\"sugg_left\" v-if=\"bookList.length !== 0\">\\n        <h3 class=\"tit\">BOOK</h3>\\n        <ul class=\"books_list\">\\n          <li v-for=\"book in bookList\" @mouseover=\"mouseOverBook(book.id)\"><a @click=\"clickBookKeyword(book)\"><p v-html=\"book.name\"></p></a></li>\\n        </ul>\\n      </div>\\n\\n      <div class=\"sugg_right\">\\n        <div class=\"sugg_book\" v-if=\"bookList.length !== 0\">\\n          <table class=\"sugg_book_detail\">\\n            <tr>\\n              <td class=\"cover\">\\n                <a @click=\"clickBookKeyword(bookSummary)\">\\n                  <img :src=\"bookSummary.imgUrl\" class=\"b_cover\">\\n                </a>\\n              </td>\\n              <td class=\"draft\">\\n                <a @click=\"clickBookKeyword(bookSummary)\" class=\"b_title\"><strong v-html=\"bookSummary.originName\"></strong></a>\\n                <p class=\"b_int\">\\n                {{ bookSummary.author }} \\xec\\xa7\\x80\\xec\\x9d\\x8c<br />\\n                {{ bookSummary.publishingCompany }} | {{ bookSummary.date }}\\n                </p>\\n                <p class=\"b_type\">\\n                <span>{{ bookSummary.bookType }}</span>\\n                </p>\\n              </td>\\n            </tr>\\n          </table>\\n        </div>\\n\\n        <!--\\n        <div class=\"sugg_edu\" v-if=\"educationList.length !== 0\">\\n          <h3 class=\"tit\">EDUCATION</h3>\\n          <ul class=\"edu_list\">\\n            <li v-for=\"education in educationList\">&#149; <a @click=\"clickEducationKeyword(education)\"><span v-html=\"education.title\"></span></a></li>\\n          </ul>\\n        </div>\\n        -->\\n        \\n        <div class=\"sugg_cont\" v-if=\"contentList.length !== 0\">\\n          <h3 class=\"tit\">CONTENTS</h3>\\n          <ul class=\"cont_list\">\\n            <li v-for=\"content in contentList\">&#149; <a @click=\"clickContentKeyword(content)\"><span v-html=\"content.title\"></span></a></li>\\n          </ul>\\n        </div>\\n      </div>\\n    </div>\\n    <!-- //\\xe2\\x91\\xa1 \\xea\\xb2\\x80\\xec\\x83\\x89\\xea\\xb2\\xb0\\xea\\xb3\\xbc/\\xea\\xb2\\x80\\xec\\x83\\x89\\xec\\x84\\x9c\\xec\\xa0\\x9c\\xec\\x8a\\xa4\\xec\\xb3\\x94 -->\\n\\n  <!-- \\xeb\\x8b\\xab\\xea\\xb8\\xb0 -->\\n  <div class=\"msa_wrap_close\">\\n    <a href=\"javascript:;\" onclick=\"view_hover(\\'main_search_area\\',\\'\\',\\'hide\\')\">\\xeb\\x8b\\xab\\xea\\xb8\\xb0</a>\\n  </div>\\n  <!-- //\\xeb\\x8b\\xab\\xea\\xb8\\xb0 -->\\n\\n  </div>\\n</div>\\n\\n<script type=\"text/javascript\">\\n    \"use strict\";\\n\\n    var common_top_search_vue = new Vue({\\n        el: \\'#main_search_area\\',\\n        data: {\\n            //\\xea\\xb2\\x80\\xec\\x83\\x89\\xec\\x97\\x94\\xec\\xa7\\x84 URL\\n            searchProxyURL: \"https://search.hanbit.co.kr\",\\n            //\\xec\\x9d\\xb8\\xea\\xb8\\xb0 \\xea\\xb2\\x80\\xec\\x83\\x89\\xec\\x96\\xb4 show \\xec\\x97\\xac\\xeb\\xb6\\x80\\n            showPopularKeyword: true,\\n            //\\xec\\x82\\xac\\xec\\x9a\\xa9\\xec\\x9e\\x90 \\xea\\xb2\\x80\\xec\\x83\\x89 \\xed\\x82\\xa4\\xec\\x9b\\x8c\\xeb\\x93\\x9c\\n            keyword: \\'\\',\\n            //\\xec\\x9d\\xb8\\xea\\xb8\\xb0 \\xea\\xb2\\x80\\xec\\x83\\x89\\xec\\x96\\xb4 \\xeb\\xa6\\xac\\xec\\x8a\\xa4\\xed\\x8a\\xb8\\n            popularKeywordList: [],\\n            // \\xec\\x9d\\xb8\\xea\\xb8\\xb0 \\xea\\xb2\\x80\\xec\\x83\\x89\\xec\\x96\\xb4 \\xeb\\xa6\\xac\\xec\\x8a\\xa4\\xed\\x8a\\xb8 (\\xec\\x99\\xbc\\xec\\xaa\\xbd)\\n            leftPopularKeywordList: [],\\n            // \\xec\\x9d\\xb8\\xea\\xb8\\xb0 \\xea\\xb2\\x80\\xec\\x83\\x89\\xec\\x96\\xb4 \\xeb\\xa6\\xac\\xec\\x8a\\xa4\\xed\\x8a\\xb8 (\\xec\\x98\\xa4\\xeb\\xa5\\xb8\\xec\\xaa\\xbd)\\n            rightPopularKeywordList: [],\\n            // \\xec\\x9e\\x90\\xeb\\x8f\\x99\\xec\\x99\\x84\\xec\\x84\\xb1\\xec\\x97\\x90\\xec\\x84\\x9c\\xec\\x9d\\x98 \\xec\\xb1\\x85 \\xeb\\xa6\\xac\\xec\\x8a\\xa4\\xed\\x8a\\xb8\\n            bookList: [],\\n            // \\xec\\x9e\\x90\\xeb\\x8f\\x99\\xec\\x99\\x84\\xec\\x84\\xb1\\xec\\x97\\x90\\xec\\x84\\x9c\\xec\\x9d\\x98 \\xec\\xb1\\x85 \\xec\\xa0\\x95\\xeb\\xb3\\xb4\\n            bookSummary: {\\n                \\'imgUrl\\': \\'\\',\\n                \\'link\\': \\'\\',\\n                \\'name\\': \\'\\',\\n                \\'author\\': \\'\\',\\n                \\'publishingCompany\\': \\'\\',\\n                \\'date\\': \\'\\',\\n                \\'bookType\\': \\'\\'\\n            },\\n            //\\xec\\x97\\x90\\xeb\\x93\\x80\\xec\\xbc\\x80\\xec\\x9d\\xb4\\xec\\x85\\x98 \\xeb\\xa6\\xac\\xec\\x8a\\xa4\\xed\\x8a\\xb8\\n            educationList: [],\\n            //\\xec\\xbb\\xa8\\xed\\x85\\x90\\xec\\xb8\\xa0 \\xeb\\xa6\\xac\\xec\\x8a\\xa4\\xed\\x8a\\xb8\\n            contentList: []\\n        },\\n        created: function created() {\\n            // \\xec\\x9d\\xb8\\xea\\xb8\\xb0 \\xea\\xb2\\x80\\xec\\x83\\x89\\xec\\x96\\xb4 \\xec\\xa1\\xb0\\xed\\x9a\\x8c\\n            this.getPopularKeyword();\\n        },\\n        methods: {\\n            /**\\n             * \\xec\\x82\\xac\\xec\\x9a\\xa9\\xec\\x9e\\x90\\xea\\xb0\\x80 \\xea\\xb2\\x80\\xec\\x83\\x89 \\xed\\x82\\xa4\\xec\\x9b\\x8c\\xeb\\x93\\x9c\\xeb\\xa5\\xbc \\xec\\x9e\\x85\\xeb\\xa0\\xa5\\xed\\x95\\xa0\\xeb\\x95\\x8c \\xeb\\xb0\\x9c\\xec\\x83\\x9d\\xed\\x95\\x98\\xeb\\x8a\\x94 \\xec\\x9d\\xb4\\xeb\\xb2\\xa4\\xed\\x8a\\xb8\\n             */\\n            typeKeyword: function typeKeyword() {\\n                var self = this;\\n                var keyword = $(\"#keyword_str\").val();\\n\\n                if (keyword.length !== 0) {\\n                    //\\xec\\x9e\\x90\\xeb\\x8f\\x99\\xec\\x99\\x84\\xec\\x84\\xb1\\xec\\x96\\xb4\\n                    this.findAutocompleteResult(keyword);\\n                } else {\\n                    //\\xec\\x9d\\xb8\\xea\\xb8\\xb0\\xea\\xb2\\x80\\xec\\x83\\x89\\xec\\x96\\xb4\\n                    self.showPopularKeyword = true;\\n                }\\n            },\\n\\n            /**\\n             * \\xec\\x9d\\xb8\\xea\\xb8\\xb0\\xea\\xb2\\x80\\xec\\x83\\x89\\xec\\x96\\xb4 \\xec\\xa1\\xb0\\xed\\x9a\\x8c\\n             */\\n            getPopularKeyword: function getPopularKeyword() {\\n                var self = this;\\n                this.popularKeywordList = [];\\n                $.get(this.searchProxyURL + \"/querylog/popularKeyword\").done(function (data) {\\n                    if (data != null) {\\n                        self.drawPopularKeyword(data);\\n                    }\\n                });\\n            },\\n\\n            /**\\n             * \\xec\\x9d\\xb8\\xea\\xb8\\xb0 \\xea\\xb2\\x80\\xec\\x83\\x89\\xec\\x96\\xb4 \\xea\\xb7\\xb8\\xeb\\xa6\\xac\\xea\\xb8\\xb0\\n             */\\n            drawPopularKeyword: function drawPopularKeyword(popularBooks) {\\n                var self = this;\\n                popularBooks.forEach(function (item) {\\n                    var popularBook = {\\n                        bookName: item.keyword\\n                    };\\n                    self.popularKeywordList.push(popularBook);\\n                });\\n                var number = 0;\\n\\n                for (var _iterator = this.popularKeywordList, _isArray = Array.isArray(_iterator), _i = 0, _iterator = _isArray ? _iterator : _iterator[Symbol.iterator]();;) {\\n                    var _ref;\\n\\n                    if (_isArray) {\\n                        if (_i >= _iterator.length) break;\\n                        _ref = _iterator[_i++];\\n                    } else {\\n                        _i = _iterator.next();\\n                        if (_i.done) break;\\n                        _ref = _i.value;\\n                    }\\n\\n                    var keyword = _ref;\\n                    number = number + 1;\\n                    keyword.number = number.toString().length < 2 ? \"0\" + number : number;\\n\\n                    if (number > 5) {\\n                        keyword.direction = \"right\";\\n                        self.rightPopularKeywordList.push(keyword);\\n                    } else {\\n                        keyword.direction = \"left\";\\n\\n                        if (number < 4) {\\n                            keyword.bold = \\'active\\';\\n                        }\\n\\n                        self.leftPopularKeywordList.push(keyword);\\n                    }\\n                }\\n            },\\n\\n            /**\\n             * \\xec\\x9e\\x90\\xeb\\x8f\\x99\\xec\\x99\\x84\\xec\\x84\\xb1 \\xea\\xb2\\x80\\xec\\x83\\x89 \\xea\\xb2\\xb0\\xea\\xb3\\xbc\\n             */\\n            findAutocompleteResult: function findAutocompleteResult(keyword) {\\n                var self = this;\\n                var param = {\\n                    q: keyword,\\n                    types: \"education,book,contents\",\\n                    fq: keyword\\n                };\\n                $.post(this.searchProxyURL + \"/autocomplete/search\", param).done(function (data) {\\n                    if (data != null) {\\n                        var bookResult = data.booksResults;\\n                        self.changeBookList(keyword, bookResult);\\n                        var contentResult = data.contentsResults;\\n                        self.changeContentList(keyword, contentResult);\\n                        var educationResult = data.educationResults;\\n                        self.changeEducationList(keyword, educationResult);\\n                    }\\n                });\\n                this.showPopularKeyword = false;\\n            },\\n\\n            /**\\n             * \\xec\\x9e\\x90\\xeb\\x8f\\x99\\xec\\x99\\x84\\xec\\x84\\xb1\\xec\\x96\\xb4\\xec\\x97\\x90\\xec\\x84\\x9c BOOK \\xeb\\xb6\\x80\\xeb\\xb6\\x84\\xec\\x97\\x90\\xec\\x84\\x9c \\xeb\\xa7\\x88\\xec\\x9a\\xb0\\xec\\x8a\\xa4\\xeb\\xa5\\xbc \\xec\\x98\\xac\\xeb\\xa0\\xb8\\xec\\x9d\\x84 \\xec\\x8b\\x9c\\xec\\x97\\x90 \\xeb\\xb0\\x9c\\xec\\x83\\x9d\\xed\\x95\\x98\\xeb\\x8a\\x94 \\xec\\x9d\\xb4\\xeb\\xb2\\xa4\\xed\\x8a\\xb8\\n             * @param bookId\\n             */\\n            mouseOverBook: function mouseOverBook(bookId) {\\n                var currentBook = this.bookList.filter(function (book) {\\n                    return book.id === bookId;\\n                });\\n                this.changeBookSummary(currentBook[0]);\\n            },\\n\\n            /**\\n             * \\xec\\xb1\\x85 \\xec\\x86\\x8c\\xea\\xb0\\x9c \\xeb\\xb3\\x80\\xea\\xb2\\xbd\\n             * @param book\\n             */\\n            changeBookSummary: function changeBookSummary(book) {\\n                if (book !== {}) {\\n                    this.bookSummary.name = book.name;\\n                    this.bookSummary.originName = book.originName;\\n                    this.bookSummary.author = book.author;\\n                    this.bookSummary.bookType = book.bookType;\\n                    this.bookSummary.imgUrl = book.imgUrl;\\n                    this.bookSummary.link = book.link;\\n                    this.bookSummary.publishingCompany = book.publishingCompany;\\n                    this.bookSummary.date = book.date;\\n                    this.bookSummary.bookType = book.bookType;\\n                }\\n            },\\n\\n            /**\\n             * BOOK \\xeb\\xa6\\xac\\xec\\x8a\\xa4\\xed\\x8a\\xb8 \\xeb\\xb3\\x80\\xea\\xb2\\xbd\\n             */\\n            changeBookList: function changeBookList(keyword, bookResultList) {\\n                var self = this;\\n                self.bookList = [];\\n                var index = 0;\\n\\n                if (bookResultList != null) {\\n                    for (var _iterator2 = bookResultList, _isArray2 = Array.isArray(_iterator2), _i2 = 0, _iterator2 = _isArray2 ? _iterator2 : _iterator2[Symbol.iterator]();;) {\\n                        var _ref2;\\n\\n                        if (_isArray2) {\\n                            if (_i2 >= _iterator2.length) break;\\n                            _ref2 = _iterator2[_i2++];\\n                        } else {\\n                            _i2 = _iterator2.next();\\n                            if (_i2.done) break;\\n                            _ref2 = _i2.value;\\n                        }\\n\\n                        var result = _ref2;\\n\\n                        if (index < 10) {\\n                            var book = {};\\n                            book.id = result.code;\\n                            book.originName = result.title;\\n                            book.name = JSON.parse(JSON.stringify(self.replaceHighlightWord(result.title, keyword)));\\n                            book.link = result.code;\\n                            book.imgUrl = self.getBookImageURL(result.code);\\n                            book.author = result.author;\\n                            book.publishingCompany = result.brand;\\n                            book.date = result.pubDate;\\n                            book.bookType = result.bookType;\\n                            self.bookList.push(book); //\\xec\\xb1\\x85 \\xeb\\xaf\\xb8\\xeb\\xa6\\xac\\xeb\\xb3\\xb4\\xea\\xb8\\xb0 \\xeb\\xb3\\x80\\xea\\xb2\\xbd\\n\\n                            self.changeBookSummary(self.bookList[0]);\\n                        }\\n                    }\\n                } else {\\n                    self.initBookSummary();\\n                }\\n            },\\n\\n            /**\\n             * \\xec\\xb1\\x85 \\xec\\x9d\\xb4\\xeb\\xaf\\xb8\\xec\\xa7\\x80 \\xec\\xa3\\xbc\\xec\\x86\\x8c \\xea\\xb0\\x80\\xec\\xa0\\xb8\\xec\\x98\\xa4\\xea\\xb8\\xb0\\n             */\\n            getBookImageURL: function getBookImageURL(bookCode) {\\n                var imgURL;\\n\\n                if (bookCode.substr(0, 1) === \"E\") {\\n                    imgURL = \\'/data/ebook/\\' + bookCode + \\'_m.jpg\\';\\n                } else {\\n                    imgURL = \\'/data/books/\\' + bookCode + \"_m.jpg\";\\n                }\\n\\n                return imgURL;\\n            },\\n\\n            /**\\n             * \\xea\\xb2\\x80\\xec\\x83\\x89 \\xea\\xb2\\xb0\\xea\\xb3\\xbc\\xea\\xb0\\x80 \\xec\\x97\\x86\\xec\\x9d\\x84 \\xea\\xb2\\xbd\\xec\\x9a\\xb0 \\xec\\xb1\\x85 \\xeb\\xaf\\xb8\\xeb\\xa6\\xac\\xeb\\xb3\\xb4\\xea\\xb8\\xb0 \\xec\\xb4\\x88\\xea\\xb8\\xb0\\xed\\x99\\x94\\n             */\\n            initBookSummary: function initBookSummary() {\\n                this.bookSummary = {\\n                    \\'imgUrl\\': \\'\\',\\n                    \\'link\\': \\'\\',\\n                    \\'name\\': \\'\\',\\n                    \\'author\\': \\'\\',\\n                    \\'publishingCompany\\': \\'\\',\\n                    \\'date\\': \\'\\',\\n                    \\'bookType\\': \\'\\'\\n                };\\n            },\\n\\n            /**\\n             * education \\xeb\\xa6\\xac\\xec\\x8a\\xa4\\xed\\x8a\\xb8 \\xeb\\xb3\\x80\\xea\\xb2\\xbd\\n             */\\n            changeEducationList: function changeEducationList(keyword, educationResultList) {\\n                var self = this;\\n                self.educationList = [];\\n                var index = 0;\\n\\n                if (educationResultList != null) {\\n                    for (var _iterator3 = educationResultList, _isArray3 = Array.isArray(_iterator3), _i3 = 0, _iterator3 = _isArray3 ? _iterator3 : _iterator3[Symbol.iterator]();;) {\\n                        var _ref3;\\n\\n                        if (_isArray3) {\\n                            if (_i3 >= _iterator3.length) break;\\n                            _ref3 = _iterator3[_i3++];\\n                        } else {\\n                            _i3 = _iterator3.next();\\n                            if (_i3.done) break;\\n                            _ref3 = _i3.value;\\n                        }\\n\\n                        var result = _ref3;\\n\\n                        if (index < 3) {\\n                            var content = {};\\n                            content.title = JSON.parse(JSON.stringify(self.replaceHighlightWord(result.title, keyword)));\\n                            content.link = result.code;\\n                            self.educationList.push(content);\\n                            index = index + 1;\\n                        }\\n                    }\\n                }\\n            },\\n\\n            /**\\n             * contents \\xeb\\xa6\\xac\\xec\\x8a\\xa4\\xed\\x8a\\xb8 \\xeb\\xb3\\x80\\xea\\xb2\\xbd\\n             */\\n            changeContentList: function changeContentList(keyword, contentResult) {\\n                var self = this;\\n                self.contentList = [];\\n                var index = 0;\\n\\n                if (contentResult != null) {\\n                    for (var _iterator4 = contentResult, _isArray4 = Array.isArray(_iterator4), _i4 = 0, _iterator4 = _isArray4 ? _iterator4 : _iterator4[Symbol.iterator]();;) {\\n                        var _ref4;\\n\\n                        if (_isArray4) {\\n                            if (_i4 >= _iterator4.length) break;\\n                            _ref4 = _iterator4[_i4++];\\n                        } else {\\n                            _i4 = _iterator4.next();\\n                            if (_i4.done) break;\\n                            _ref4 = _i4.value;\\n                        }\\n\\n                        var result = _ref4;\\n\\n                        if (index < 7) {\\n                            var content = {};\\n                            content.title = JSON.parse(JSON.stringify(self.replaceHighlightWord(result.title, keyword)));\\n                            content.link = result.code;\\n                            self.contentList.push(content);\\n                            index = index + 1;\\n                        }\\n                    }\\n                }\\n            },\\n\\n            /**\\n             * \\xed\\x95\\x98\\xec\\x9d\\xb4\\xeb\\x9d\\xbc\\xec\\x9d\\xb4\\xed\\x8a\\xb8 \\xed\\x91\\x9c\\xec\\x8b\\x9c\\n             */\\n            replaceHighlightWord: function replaceHighlightWord(str, highlightKeyword) {\\n                var replaceHighlightKeyword = highlightKeyword.replace(/[^a-z0-9\\xea\\xb0\\x80-\\xed\\x9e\\xa3_ ]/gi, \\'\\');\\n                var regEx = new RegExp(replaceHighlightKeyword, \"gi\");\\n                str = str.replace(regEx, function (a) {\\n                    return \\'<span class=\"keysel\">\\' + a + \\'</span>\\';\\n                });\\n                return str;\\n            },\\n\\n            /**\\n             * \\xea\\xb2\\x80\\xec\\x83\\x89 \\xeb\\xb2\\x84\\xed\\x8a\\xbc \\xed\\x81\\xb4\\xeb\\xa6\\xad \\xec\\x8b\\x9c\\n             * @param e\\n             */\\n            clickSearch: function clickSearch(e) {\\n                if (!this.keyword || this.keyword.length === 0) {\\n                    alert(\"\\xea\\xb2\\x80\\xec\\x83\\x89\\xec\\x96\\xb4\\xeb\\xa5\\xbc \\xec\\x9e\\x85\\xeb\\xa0\\xa5\\xed\\x95\\x98\\xec\\x84\\xb8\\xec\\x9a\\x94\");\\n                    $(\"#keyword_str\").focus();\\n                    e.preventDefault();\\n                } else {\\n                    location.href = \"/search/search_list.html?keyword=\" + this.keyword;\\n                }\\n            },\\n\\n            /**\\n             * \\xec\\x9d\\xb8\\xea\\xb8\\xb0 \\xea\\xb2\\x80\\xec\\x83\\x89\\xec\\x96\\xb4 \\xed\\x81\\xb4\\xeb\\xa6\\xad\\xec\\x8b\\x9c\\n             * @param book\\n             */\\n            clickPopularKeyword: function clickPopularKeyword(book) {\\n                var searchKeyword = book.bookName;\\n                location.href = \"/search/search_list.html?keyword=\" + searchKeyword;\\n            },\\n\\n            /**\\n             * \\xec\\xb1\\x85 \\xea\\xb2\\x80\\xec\\x83\\x89\\xec\\x96\\xb4 \\xed\\x81\\xb4\\xeb\\xa6\\xad\\xec\\x8b\\x9c \\xec\\xb1\\x85 \\xec\\x83\\x81\\xec\\x84\\xb8\\xeb\\xa1\\x9c \\xec\\x9d\\xb4\\xeb\\x8f\\x99\\n             * @param book\\n             */\\n            clickBookKeyword: function clickBookKeyword(book) {\\n                location.href = \"/store/books/look.php?p_code=\" + book.link;\\n            },\\n\\n            /**\\n             * \\xea\\xb5\\x90\\xec\\x9c\\xa1 \\xed\\x81\\xb4\\xeb\\xa6\\xad\\xec\\x8b\\x9c \\xea\\xb5\\x90\\xec\\x9c\\xa1 \\xec\\x83\\x81\\xec\\x84\\xb8\\xeb\\xa1\\x9c \\xec\\x9d\\xb4\\xeb\\x8f\\x99\\n             * @param education\\n             */\\n            clickEducationKeyword: function clickEducationKeyword(education) {\\n                location.href = \"/store/education/edu_view.html?p_code=\" + education.link;\\n            },\\n\\n            /**\\n             * \\xec\\xbb\\xa8\\xed\\x85\\x90\\xec\\xb8\\xa0 \\xed\\x81\\xb4\\xeb\\xa6\\xad\\xec\\x8b\\x9c \\xec\\xbb\\xa8\\xed\\x85\\x90\\xec\\xb8\\xa0 \\xec\\x83\\x81\\xec\\x84\\xb8\\xeb\\xa1\\x9c \\xec\\x9d\\xb4\\xeb\\x8f\\x99\\n             * @param contents\\n             */\\n            clickContentKeyword: function clickContentKeyword(content) {\\n                location.href = \"/channel/category/category_view.html?cms_code=\" + content.link;\\n            }\\n        }\\n    });\\n</script>\\n<!-- //\\xeb\\xa9\\x94\\xec\\x9d\\xb8 \\xea\\xb2\\x80\\xec\\x83\\x89 \\xeb\\xb0\\x8f \\xec\\xb9\\xb4\\xed\\x85\\x8c\\xea\\xb3\\xa0\\xeb\\xa6\\xac \\xec\\x98\\x81\\xec\\x97\\xad -->\\r\\n\\r\\n\\r\\n<!-- \\xec\\x95\\x84\\xec\\xb9\\xb4\\xeb\\x8d\\xb0\\xeb\\xaf\\xb8 \\xeb\\xa9\\x94\\xec\\x9d\\xb8 wrap -->\\r\\n<div class=\"brand_m_wrap\">\\r\\n\\r\\n <!-- \\xec\\x83\\x81\\xeb\\x8b\\xa8 \\xeb\\xb0\\xb0\\xeb\\x84\\x88 -->\\r\\n  <div class=\"brand_m_banner\">\\r\\n  <div class=\"aca_banner_wrap\">\\r\\n    <div class=\"sidenav\">\\r\\n      <p class=\"sidenav_p\"><span class=\"academy_slid_title\"><img src=\"/images/design/academy_slid_title.png\"/></span>\\xeb\\x8c\\x80\\xed\\x95\\x99\\xea\\xb5\\x90\\xec\\x9e\\xac \\xec\\xb9\\xb4\\xed\\x85\\x8c\\xea\\xb3\\xa0\\xeb\\xa6\\xac</p>\\r\\n      <a class=\"a_txt\" href=\"/academy/books/category_list.html?cate_cd=004003\">&#149; \\xec\\x88\\x98\\xed\\x95\\x99/\\xed\\x86\\xb5\\xea\\xb3\\x84</a>\\r\\n      <a class=\"a_txt\" href=\"/academy/books/category_list.html?cate_cd=004010\">&#149; \\xea\\xb3\\xbc\\xed\\x95\\x99/\\xea\\xb3\\xb5\\xed\\x95\\x99\\xec\\x9d\\xbc\\xeb\\xb0\\x98</a>\\r\\n      <a class=\"a_txt\" href=\"/academy/books/category_list.html?cate_cd=004007\">&#149; \\xec\\xbb\\xb4\\xed\\x93\\xa8\\xed\\x84\\xb0\\xea\\xb3\\xb5\\xed\\x95\\x99</a>\\r\\n      <a class=\"a_txt\" href=\"/academy/books/category_list.html?cate_cd=004004\">&#149; \\xed\\x94\\x84\\xeb\\xa1\\x9c\\xea\\xb7\\xb8\\xeb\\x9e\\x98\\xeb\\xb0\\x8d</a>\\r\\n      <a class=\"a_txt\" href=\"/academy/books/category_list.html?cate_cd=004011\">&#149; \\xeb\\x8d\\xb0\\xec\\x9d\\xb4\\xed\\x84\\xb0\\xea\\xb3\\xbc\\xed\\x95\\x99/\\xec\\x9d\\xb8\\xea\\xb3\\xb5\\xec\\xa7\\x80\\xeb\\x8a\\xa5</a>\\r\\n      <a class=\"a_txt\" href=\"/academy/books/category_list.html?cate_cd=004008\">&#149; \\xec\\xa0\\x84\\xea\\xb8\\xb0/\\xec\\xa0\\x84\\xec\\x9e\\x90</a>\\r\\n      <a class=\"a_txt\" href=\"/academy/books/category_list.html?cate_cd=004009\">&#149; \\xea\\xb8\\xb0\\xea\\xb3\\x84/\\xec\\x9e\\x90\\xeb\\x8f\\x99\\xec\\xb0\\xa8</a>\\r\\n      <a class=\"a_txt\" href=\"/academy/books/category_list.html?cate_cd=004006\">&#149; OA/\\xea\\xb7\\xb8\\xeb\\x9e\\x98\\xed\\x94\\xbd</a>\\r\\n      <a class=\"a_txt\" href=\"/academy/books/category_list.html?cate_cd=004012\">&#149; \\xea\\xb2\\xbd\\xec\\x98\\x81/\\xea\\xb2\\xbd\\xec\\xa0\\x9c</a>\\r\\n      <a class=\"a_txt\" href=\"/academy/books/category_list.html?cate_cd=004005\">&#149; \\xeb\\x85\\xbc\\xeb\\xac\\xb8</a>\\r\\n      <a class=\"poin_txt topli\" href=\"/academy/professor/reference_list.html\"><p class=\"icon_lecture\"><img class=\"lecture_span\" src=\"/images/design/icon_lecture.png\"/>\\xea\\xb0\\x95\\xec\\x9d\\x98\\xec\\x9e\\x90\\xeb\\xa3\\x8c</p></a>\\r\\n      <a class=\"poin_txt\" href=\"/academy/professor/cart.html\"><p class=\"icon_book\"><img class=\"lecture_span\" src=\"/images/design/icon_book.png\"/>\\xea\\xb2\\xac\\xeb\\xb3\\xb8\\xeb\\x8f\\x84\\xec\\x84\\x9c \\xec\\x8b\\xa0\\xec\\xb2\\xad</p></a>\\r\\n\\t  <a class=\"poin_txt\" href=\"/academy/professor/preview_list.html\"><p class=\"icon_book\"><img class=\"lecture_span\" src=\"/images/design/icon_study.png\"/>\\xea\\xb5\\x90\\xec\\x9e\\xac\\xeb\\x82\\xb4\\xec\\x9a\\xa9 \\xeb\\xaf\\xb8\\xeb\\xa6\\xac\\xeb\\xb3\\xb4\\xea\\xb8\\xb0</p></a>\\r\\n    </div>\\r\\n\\r\\n    <div class=\"main_text\">\\r\\n      <span class=\"main_text_sp\">\\xeb\\x8d\\x94 \\xeb\\x82\\x98\\xec\\x9d\\x80 \\xea\\xb0\\x80\\xeb\\xa5\\xb4\\xec\\xb9\\xa8\\xea\\xb3\\xbc \\xeb\\xb0\\xb0\\xec\\x9b\\x80,</span>\\r\\n      <h1>\\xeb\\x82\\xb4\\xec\\x9d\\xbc\\xec\\x9d\\x84 \\xec\\xa4\\x80\\xeb\\xb9\\x84\\xed\\x95\\x98\\xeb\\x8a\\x94 \\xea\\xb5\\x90\\xec\\x9e\\xac</h1>\\r\\n      <p>\\xed\\x95\\x9c\\xeb\\xb9\\x9b\\xec\\x95\\x84\\xec\\xb9\\xb4\\xeb\\x8d\\xb0\\xeb\\xaf\\xb8\\xeb\\x8a\\x94 \\xea\\xb5\\x90\\xec\\x9c\\xa1 \\xec\\xb6\\x9c\\xed\\x8c\\x90 \\xec\\xa0\\x84\\xeb\\xac\\xb8 \\xeb\\xb8\\x8c\\xeb\\x9e\\x9c\\xeb\\x93\\x9c\\xeb\\xa1\\x9c\\xec\\x9d\\x98 \\xeb\\xb9\\x84\\xec\\xa0\\x84\\xec\\x9d\\x84 \\xea\\xb8\\xb0\\xeb\\xb0\\x98\\xec\\x9c\\xbc\\xeb\\xa1\\x9c, \\xea\\xb0\\x80\\xeb\\xa5\\xb4\\xec\\xb9\\xa8\\xec\\x9d\\x98 \\xeb\\xa7\\x90\\xea\\xb3\\xbc \\xeb\\xb0\\xb0\\xec\\x9b\\x80\\xec\\x9d\\x98 \\xea\\xb8\\x80\\xec\\x9d\\xb4 \\xeb\\xa7\\x8c\\xeb\\x82\\x98\\xeb\\x8a\\x94 \\xec\\x86\\x8c\\xed\\x86\\xb5 \\xea\\xb3\\xb5\\xea\\xb0\\x84\\xec\\x9d\\xb4 \\xeb\\x90\\x98\\xea\\xb3\\xa0\\xec\\x9e\\x90 \\xed\\x95\\xa9\\xeb\\x8b\\x88\\xeb\\x8b\\xa4. \\xea\\xb3\\xb5\\xea\\xb0\\x84\\xea\\xb3\\xbc \\xed\\x8b\\x80\\xec\\x9d\\x98 \\xed\\x95\\x9c\\xea\\xb3\\x84\\xeb\\xa5\\xbc \\xeb\\xb2\\x97\\xec\\x96\\xb4\\xeb\\x82\\x98 \\xea\\xb0\\x80\\xeb\\xa5\\xb4\\xec\\xb9\\xa8\\xea\\xb3\\xbc \\xeb\\xb0\\xb0\\xec\\x9b\\x80\\xec\\x9d\\x84 \\xed\\x95\\x84\\xec\\x9a\\x94\\xeb\\xa1\\x9c \\xed\\x95\\x98\\xeb\\x8a\\x94 \\xeb\\x8b\\xa4\\xec\\x96\\x91\\xed\\x95\\x9c \\xec\\x82\\xac\\xeb\\x9e\\x8c\\xeb\\x93\\xa4\\xec\\x9d\\x98 \\xec\\x84\\xb1\\xec\\x9e\\xa5 \\xea\\xb3\\xb5\\xea\\xb0\\x84\\xec\\x9c\\xbc\\xeb\\xa1\\x9c \\xea\\xb1\\xb0\\xeb\\x93\\xad\\xeb\\x82\\x98\\xea\\xb2\\xa0\\xec\\x8a\\xb5\\xeb\\x8b\\x88\\xeb\\x8b\\xa4.</p>\\r\\n      <div class=\"brand_btn\">\\r\\n        <a href=\"/academy/info/info.html\" class=\"btn_brand_intro\">\\xed\\x95\\x9c\\xeb\\xb9\\x9b\\xec\\x95\\x84\\xec\\xb9\\xb4\\xeb\\x8d\\xb0\\xeb\\xaf\\xb8 \\xeb\\xb8\\x8c\\xeb\\x9e\\x9c\\xeb\\x93\\x9c \\xec\\x86\\x8c\\xea\\xb0\\x9c ></a>\\r\\n      </div>\\r\\n    </div>\\r\\n   </div>\\r\\n  </div>\\r\\n  <!-- //\\xec\\x83\\x81\\xeb\\x8b\\xa8 \\xeb\\xb0\\xb0\\xeb\\x84\\x88 -->\\r\\n\\r\\n</section>\\r\\n<!-- //\\xeb\\xa9\\x94\\xec\\x9d\\xb8 \\xec\\x83\\x81\\xeb\\x8b\\xa8 \\xec\\x98\\x81\\xec\\x97\\xad -->\\r\\n\\r\\n\\r\\n  <!-- \\xeb\\xb8\\x8c\\xeb\\x9e\\x9c\\xeb\\x93\\x9c \\xeb\\xa9\\x94\\xec\\x9d\\xb8 \\xec\\xb1\\x85 -->\\r\\n  <div class=\"brand_main_book\">\\r\\n\\r\\n    <!-- \\xec\\x83\\x88\\xeb\\xa1\\x9c\\xeb\\x82\\x98\\xec\\x98\\xa8 \\xec\\xb1\\x85 -->\\r\\n    <div id=\"main_new_book\">\\r\\n      <!-- \\xed\\x83\\xad\\xeb\\xa9\\x94\\xeb\\x89\\xb4 -->\\r\\n      <div class=\"brand_main_tab\">\\r\\n        <ul class=\"main_tab_menu\">\\r\\n          <li><a href=\"javascript:;\" class=\"curr\">\\xec\\x83\\x88\\xeb\\xa1\\x9c\\xeb\\x82\\x98\\xec\\x98\\xa8\\xec\\xb1\\x85</a></li><span> | </span>\\r\\n          <li><a href=\"javascript:;\" onClick=\"view_hover(\\'main_new_book\\',\\'\\',\\'hide\\',\\'main_best_book\\',\\'\\',\\'show\\')\">\\xeb\\xb2\\xa0\\xec\\x8a\\xa4\\xed\\x8a\\xb8\\xec\\x85\\x80\\xeb\\x9f\\xac</a></li>\\r\\n        </ul>\\r\\n      </div>\\r\\n      <!-- //\\xed\\x83\\xad\\xeb\\xa9\\x94\\xeb\\x89\\xb4 -->\\r\\n      \\r\\n      <!-- \\xec\\xb1\\x85 \\xeb\\xa6\\xac\\xec\\x8a\\xa4\\xed\\x8a\\xb8 -->\\r\\n      <div class=\"sub_book_list_area\">\\r\\n        <ul>\\r\\n        \\r\\n          <li class=\"sub_book_list\">\\r\\n            <div class=\"view_box\">\\r\\n              <span class=\"view_box_block\">\\r\\n                <span class=\"img_hidden_a\">\\r\\n                  <span class=\"pop_quick_menu\">\\r\\n                      <a href=\"/academy/books/book_view.html?p_code=B9111135793\"><img src=\"https://www.hanbit.co.kr/images/common/icon_view_detail.png\" alt=\"\\xec\\x83\\x81\\xec\\x84\\xb8\\xeb\\xb3\\xb4\\xea\\xb8\\xb0\" /></a>\\r\\n                                        </span>\\r\\n                  <span class=\"price\">34,000<span>\\xec\\x9b\\x90</span></span>\\r\\n                  <span class=\"pop_quick_bg\" onClick=\"location=\\'/academy/books/book_view.html?p_code=B9111135793\\'\"></span>\\r\\n                </span>\\r\\n              <!-- \\xec\\x98\\x88\\xec\\x95\\xbd\\xeb\\x8f\\x84\\xec\\x84\\x9c\\xec\\x9d\\xb8 \\xea\\xb2\\xbd\\xec\\x9a\\xb0 -->\\r\\n               <!-- ebook\\xec\\x9d\\xb4 \\xeb\\x8f\\x84\\xec\\x84\\x9c\\xec\\x9d\\xb8 \\xea\\xb2\\xbd\\xec\\x9a\\xb0 -->\\r\\n              <img src=\"/data/books/B9111135793_m.jpg\" alt=\"\" class=\"thumb\" />\\r\\n              </span>\\r\\n              <div class=\"info\">\\r\\n              <p class=\"book_tit\"><a href=\"/academy/books/book_view.html?p_code=B9111135793\">SAS\\xec\\x99\\x80 \\xeb\\xa9\\x94\\xed\\x83\\x80\\xeb\\xb6\\x84\\xec\\x84\\x9d\\xec\\x9d\\x84 \\xed\\x99\\x9c\\xec\\x9a\\xa9\\xed\\x95\\x9c \\xed\\x95\\x9c\\xeb\\xb2\\x88\\xec\\x97\\x90 \\xec\\xa0\\x81\\xec\\x9a\\xa9\\xed\\x95\\x98\\xeb\\x8a\\x94 \\xec\\x9d\\x98\\xed\\x95\\x99\\xeb\\xb3\\xb4\\xea\\xb1\\xb4\\xed\\x86\\xb5\\xea\\xb3\\x84</a></p>\\r\\n              <p class=\"book_writer\">\\xed\\x9e\\x88\\xeb\\x93\\xa0\\xea\\xb7\\xb8\\xeb\\xa0\\x88\\xec\\x9d\\xb4\\xec\\x8a\\xa4 \\xeb\\x8d\\xb0\\xec\\x9d\\xb4\\xed\\x84\\xb0\\xeb\\xb6\\x84\\xec\\x84\\x9d\\xed\\x8c\\x80 </p>\\r\\n              </div>\\r\\n            </div>\\r\\n          </li>\\r\\n          \\r\\n          <li class=\"sub_book_list\">\\r\\n            <div class=\"view_box\">\\r\\n              <span class=\"view_box_block\">\\r\\n                <span class=\"img_hidden_a\">\\r\\n                  <span class=\"pop_quick_menu\">\\r\\n                      <a href=\"/academy/books/book_view.html?p_code=B6983226439\"><img src=\"https://www.hanbit.co.kr/images/common/icon_view_detail.png\" alt=\"\\xec\\x83\\x81\\xec\\x84\\xb8\\xeb\\xb3\\xb4\\xea\\xb8\\xb0\" /></a>\\r\\n                                        </span>\\r\\n                  <span class=\"price\">30,000<span>\\xec\\x9b\\x90</span></span>\\r\\n                  <span class=\"pop_quick_bg\" onClick=\"location=\\'/academy/books/book_view.html?p_code=B6983226439\\'\"></span>\\r\\n                </span>\\r\\n              <!-- \\xec\\x98\\x88\\xec\\x95\\xbd\\xeb\\x8f\\x84\\xec\\x84\\x9c\\xec\\x9d\\xb8 \\xea\\xb2\\xbd\\xec\\x9a\\xb0 -->\\r\\n               <!-- ebook\\xec\\x9d\\xb4 \\xeb\\x8f\\x84\\xec\\x84\\x9c\\xec\\x9d\\xb8 \\xea\\xb2\\xbd\\xec\\x9a\\xb0 -->\\r\\n              <img src=\"/data/books/B6983226439_m.jpg\" alt=\"\" class=\"thumb\" />\\r\\n              </span>\\r\\n              <div class=\"info\">\\r\\n              <p class=\"book_tit\"><a href=\"/academy/books/book_view.html?p_code=B6983226439\">\\xec\\xa0\\x95\\xeb\\xb3\\xb4\\xea\\xb5\\x90\\xea\\xb3\\xbc\\xea\\xb5\\x90\\xec\\x9c\\xa1\\xeb\\xa1\\xa0&#40;3\\xed\\x8c\\x90&#41;</a></p>\\r\\n              <p class=\"book_writer\">\\xec\\xb5\\x9c\\xed\\x98\\x84\\xec\\xa2\\x85 , \\xec\\xa0\\x84\\xec\\x9a\\xa9\\xec\\xa3\\xbc </p>\\r\\n              </div>\\r\\n            </div>\\r\\n          </li>\\r\\n          \\r\\n          <li class=\"sub_book_list\">\\r\\n            <div class=\"view_box\">\\r\\n              <span class=\"view_box_block\">\\r\\n                <span class=\"img_hidden_a\">\\r\\n                  <span class=\"pop_quick_menu\">\\r\\n                      <a href=\"/academy/books/book_view.html?p_code=B5432656562\"><img src=\"https://www.hanbit.co.kr/images/common/icon_view_detail.png\" alt=\"\\xec\\x83\\x81\\xec\\x84\\xb8\\xeb\\xb3\\xb4\\xea\\xb8\\xb0\" /></a>\\r\\n                                        </span>\\r\\n                  <span class=\"price\">22,000<span>\\xec\\x9b\\x90</span></span>\\r\\n                  <span class=\"pop_quick_bg\" onClick=\"location=\\'/academy/books/book_view.html?p_code=B5432656562\\'\"></span>\\r\\n                </span>\\r\\n              <!-- \\xec\\x98\\x88\\xec\\x95\\xbd\\xeb\\x8f\\x84\\xec\\x84\\x9c\\xec\\x9d\\xb8 \\xea\\xb2\\xbd\\xec\\x9a\\xb0 -->\\r\\n               <!-- ebook\\xec\\x9d\\xb4 \\xeb\\x8f\\x84\\xec\\x84\\x9c\\xec\\x9d\\xb8 \\xea\\xb2\\xbd\\xec\\x9a\\xb0 -->\\r\\n              <img src=\"/data/books/B5432656562_m.jpg\" alt=\"\" class=\"thumb\" />\\r\\n              </span>\\r\\n              <div class=\"info\">\\r\\n              <p class=\"book_tit\"><a href=\"/academy/books/book_view.html?p_code=B5432656562\">IT CookBook, \\xea\\xb8\\xb0\\xec\\xb4\\x88\\xec\\xa0\\x84\\xec\\x9e\\x90\\xec\\x8b\\xa4\\xed\\x97\\x98 with PSpice&#40;3\\xed\\x8c\\x90&#41;</a></p>\\r\\n              <p class=\"book_writer\">\\xed\\x99\\x8d\\xec\\x88\\x9c\\xea\\xb4\\x80 </p>\\r\\n              </div>\\r\\n            </div>\\r\\n          </li>\\r\\n          \\r\\n          <li class=\"sub_book_list\">\\r\\n            <div class=\"view_box\">\\r\\n              <span class=\"view_box_block\">\\r\\n                <span class=\"img_hidden_a\">\\r\\n                  <span class=\"pop_quick_menu\">\\r\\n                      <a href=\"/academy/books/book_view.html?p_code=B3469288289\"><img src=\"https://www.hanbit.co.kr/images/common/icon_view_detail.png\" alt=\"\\xec\\x83\\x81\\xec\\x84\\xb8\\xeb\\xb3\\xb4\\xea\\xb8\\xb0\" /></a>\\r\\n                                        </span>\\r\\n                  <span class=\"price\">23,000<span>\\xec\\x9b\\x90</span></span>\\r\\n                  <span class=\"pop_quick_bg\" onClick=\"location=\\'/academy/books/book_view.html?p_code=B3469288289\\'\"></span>\\r\\n                </span>\\r\\n              <!-- \\xec\\x98\\x88\\xec\\x95\\xbd\\xeb\\x8f\\x84\\xec\\x84\\x9c\\xec\\x9d\\xb8 \\xea\\xb2\\xbd\\xec\\x9a\\xb0 -->\\r\\n               <!-- ebook\\xec\\x9d\\xb4 \\xeb\\x8f\\x84\\xec\\x84\\x9c\\xec\\x9d\\xb8 \\xea\\xb2\\xbd\\xec\\x9a\\xb0 -->\\r\\n              <img src=\"/data/books/B3469288289_m.jpg\" alt=\"\" class=\"thumb\" />\\r\\n              </span>\\r\\n              <div class=\"info\">\\r\\n              <p class=\"book_tit\"><a href=\"/academy/books/book_view.html?p_code=B3469288289\">\\xea\\xb2\\xbd\\xec\\xa0\\x9c\\xec\\x88\\x98\\xed\\x95\\x99 \\xea\\xb0\\x95\\xec\\x9d\\x98&#40;3\\xed\\x8c\\x90&#41;</a></p>\\r\\n              <p class=\"book_writer\">\\xea\\xb9\\x80\\xec\\x84\\xb1\\xed\\x98\\x84 </p>\\r\\n              </div>\\r\\n            </div>\\r\\n          </li>\\r\\n          \\r\\n          <li class=\"sub_book_list\">\\r\\n            <div class=\"view_box\">\\r\\n              <span class=\"view_box_block\">\\r\\n                <span class=\"img_hidden_a\">\\r\\n                  <span class=\"pop_quick_menu\">\\r\\n                      <a href=\"/academy/books/book_view.html?p_code=B7971953055\"><img src=\"https://www.hanbit.co.kr/images/common/icon_view_detail.png\" alt=\"\\xec\\x83\\x81\\xec\\x84\\xb8\\xeb\\xb3\\xb4\\xea\\xb8\\xb0\" /></a>\\r\\n                                        </span>\\r\\n                  <span class=\"price\">28,000<span>\\xec\\x9b\\x90</span></span>\\r\\n                  <span class=\"pop_quick_bg\" onClick=\"location=\\'/academy/books/book_view.html?p_code=B7971953055\\'\"></span>\\r\\n                </span>\\r\\n              <!-- \\xec\\x98\\x88\\xec\\x95\\xbd\\xeb\\x8f\\x84\\xec\\x84\\x9c\\xec\\x9d\\xb8 \\xea\\xb2\\xbd\\xec\\x9a\\xb0 -->\\r\\n               <!-- ebook\\xec\\x9d\\xb4 \\xeb\\x8f\\x84\\xec\\x84\\x9c\\xec\\x9d\\xb8 \\xea\\xb2\\xbd\\xec\\x9a\\xb0 -->\\r\\n              <img src=\"/data/books/B7971953055_m.jpg\" alt=\"\" class=\"thumb\" />\\r\\n              </span>\\r\\n              <div class=\"info\">\\r\\n              <p class=\"book_tit\"><a href=\"/academy/books/book_view.html?p_code=B7971953055\">\\xea\\xb8\\x80\\xeb\\xa1\\x9c\\xeb\\xb2\\x8c \\xec\\x82\\xac\\xed\\x9a\\x8c\\xec\\x99\\x80 \\xeb\\xa6\\xac\\xeb\\x8d\\x94\\xec\\x8b\\xad&#40;2\\xed\\x8c\\x90&#41;</a></p>\\r\\n              <p class=\"book_writer\">\\xec\\x95\\x88\\xea\\xb4\\x91\\xed\\x98\\x84 </p>\\r\\n              </div>\\r\\n            </div>\\r\\n          </li>\\r\\n          \\r\\n          <li class=\"sub_book_list\">\\r\\n            <div class=\"view_box\">\\r\\n              <span class=\"view_box_block\">\\r\\n                <span class=\"img_hidden_a\">\\r\\n                  <span class=\"pop_quick_menu\">\\r\\n                      <a href=\"/academy/books/book_view.html?p_code=B9032308335\"><img src=\"https://www.hanbit.co.kr/images/common/icon_view_detail.png\" alt=\"\\xec\\x83\\x81\\xec\\x84\\xb8\\xeb\\xb3\\xb4\\xea\\xb8\\xb0\" /></a>\\r\\n                                        </span>\\r\\n                  <span class=\"price\">32,000<span>\\xec\\x9b\\x90</span></span>\\r\\n                  <span class=\"pop_quick_bg\" onClick=\"location=\\'/academy/books/book_view.html?p_code=B9032308335\\'\"></span>\\r\\n                </span>\\r\\n              <!-- \\xec\\x98\\x88\\xec\\x95\\xbd\\xeb\\x8f\\x84\\xec\\x84\\x9c\\xec\\x9d\\xb8 \\xea\\xb2\\xbd\\xec\\x9a\\xb0 -->\\r\\n               <!-- ebook\\xec\\x9d\\xb4 \\xeb\\x8f\\x84\\xec\\x84\\x9c\\xec\\x9d\\xb8 \\xea\\xb2\\xbd\\xec\\x9a\\xb0 -->\\r\\n              <img src=\"/data/books/B9032308335_m.jpg\" alt=\"\" class=\"thumb\" />\\r\\n              </span>\\r\\n              <div class=\"info\">\\r\\n              <p class=\"book_tit\"><a href=\"/academy/books/book_view.html?p_code=B9032308335\">\\xed\\x96\\x89\\xeb\\x8f\\x99 \\xec\\x9e\\xac\\xeb\\xac\\xb4\\xeb\\xa1\\xa0</a></p>\\r\\n              <p class=\"book_writer\">\\xea\\xb3\\xa0\\xea\\xb4\\x91\\xec\\x88\\x98 </p>\\r\\n              </div>\\r\\n            </div>\\r\\n          </li>\\r\\n          \\r\\n          <li class=\"sub_book_list\">\\r\\n            <div class=\"view_box\">\\r\\n              <span class=\"view_box_block\">\\r\\n                <span class=\"img_hidden_a\">\\r\\n                  <span class=\"pop_quick_menu\">\\r\\n                      <a href=\"/academy/books/book_view.html?p_code=B7224713122\"><img src=\"https://www.hanbit.co.kr/images/common/icon_view_detail.png\" alt=\"\\xec\\x83\\x81\\xec\\x84\\xb8\\xeb\\xb3\\xb4\\xea\\xb8\\xb0\" /></a>\\r\\n                                        </span>\\r\\n                  <span class=\"price\">24,000<span>\\xec\\x9b\\x90</span></span>\\r\\n                  <span class=\"pop_quick_bg\" onClick=\"location=\\'/academy/books/book_view.html?p_code=B7224713122\\'\"></span>\\r\\n                </span>\\r\\n              <!-- \\xec\\x98\\x88\\xec\\x95\\xbd\\xeb\\x8f\\x84\\xec\\x84\\x9c\\xec\\x9d\\xb8 \\xea\\xb2\\xbd\\xec\\x9a\\xb0 -->\\r\\n               <!-- ebook\\xec\\x9d\\xb4 \\xeb\\x8f\\x84\\xec\\x84\\x9c\\xec\\x9d\\xb8 \\xea\\xb2\\xbd\\xec\\x9a\\xb0 -->\\r\\n              <img src=\"/data/books/B7224713122_m.jpg\" alt=\"\" class=\"thumb\" />\\r\\n              </span>\\r\\n              <div class=\"info\">\\r\\n              <p class=\"book_tit\"><a href=\"/academy/books/book_view.html?p_code=B7224713122\">IT CookBook, \\xec\\x95\\x8c\\xea\\xb8\\xb0 \\xec\\x89\\xbd\\xea\\xb2\\x8c \\xed\\x95\\xb4\\xec\\x84\\xa4\\xed\\x95\\x9c \\xed\\x8c\\x8c\\xec\\x9d\\xb4\\xec\\x8d\\xac with \\xec\\xbb\\xb4\\xed\\x93\\xa8\\xed\\x8c\\x85 \\xec\\x82\\xac\\xea\\xb3\\xa0\\xeb\\xa0\\xa5</a></p>\\r\\n              <p class=\"book_writer\">\\xea\\xb9\\x80\\xec\\xb6\\xa9\\xec\\x84\\x9d , \\xea\\xb9\\x80\\xec\\xa7\\x80\\xec\\x97\\xb0 </p>\\r\\n              </div>\\r\\n            </div>\\r\\n          </li>\\r\\n          \\r\\n          <li class=\"sub_book_list\">\\r\\n            <div class=\"view_box\">\\r\\n              <span class=\"view_box_block\">\\r\\n                <span class=\"img_hidden_a\">\\r\\n                  <span class=\"pop_quick_menu\">\\r\\n                      <a href=\"/academy/books/book_view.html?p_code=B2271641400\"><img src=\"https://www.hanbit.co.kr/images/common/icon_view_detail.png\" alt=\"\\xec\\x83\\x81\\xec\\x84\\xb8\\xeb\\xb3\\xb4\\xea\\xb8\\xb0\" /></a>\\r\\n                                        </span>\\r\\n                  <span class=\"price\">28,000<span>\\xec\\x9b\\x90</span></span>\\r\\n                  <span class=\"pop_quick_bg\" onClick=\"location=\\'/academy/books/book_view.html?p_code=B2271641400\\'\"></span>\\r\\n                </span>\\r\\n              <!-- \\xec\\x98\\x88\\xec\\x95\\xbd\\xeb\\x8f\\x84\\xec\\x84\\x9c\\xec\\x9d\\xb8 \\xea\\xb2\\xbd\\xec\\x9a\\xb0 -->\\r\\n               <!-- ebook\\xec\\x9d\\xb4 \\xeb\\x8f\\x84\\xec\\x84\\x9c\\xec\\x9d\\xb8 \\xea\\xb2\\xbd\\xec\\x9a\\xb0 -->\\r\\n              <img src=\"/data/books/B2271641400_m.jpg\" alt=\"\" class=\"thumb\" />\\r\\n              </span>\\r\\n              <div class=\"info\">\\r\\n              <p class=\"book_tit\"><a href=\"/academy/books/book_view.html?p_code=B2271641400\">MATLAB\\xec\\x9c\\xbc\\xeb\\xa1\\x9c \\xeb\\xb0\\xb0\\xec\\x9a\\xb0\\xeb\\x8a\\x94 \\xea\\xb3\\xb5\\xed\\x95\\x99 \\xec\\x88\\x98\\xec\\xb9\\x98\\xed\\x95\\xb4\\xec\\x84\\x9d&#40;3\\xed\\x8c\\x90&#41;</a></p>\\r\\n              <p class=\"book_writer\">\\xeb\\xb0\\xa9\\xec\\x84\\xb1\\xec\\x99\\x84 </p>\\r\\n              </div>\\r\\n            </div>\\r\\n          </li>\\r\\n          \\r\\n          <li class=\"sub_book_list\">\\r\\n            <div class=\"view_box\">\\r\\n              <span class=\"view_box_block\">\\r\\n                <span class=\"img_hidden_a\">\\r\\n                  <span class=\"pop_quick_menu\">\\r\\n                      <a href=\"/academy/books/book_view.html?p_code=B3411540576\"><img src=\"https://www.hanbit.co.kr/images/common/icon_view_detail.png\" alt=\"\\xec\\x83\\x81\\xec\\x84\\xb8\\xeb\\xb3\\xb4\\xea\\xb8\\xb0\" /></a>\\r\\n                                        </span>\\r\\n                  <span class=\"price\">34,000<span>\\xec\\x9b\\x90</span></span>\\r\\n                  <span class=\"pop_quick_bg\" onClick=\"location=\\'/academy/books/book_view.html?p_code=B3411540576\\'\"></span>\\r\\n                </span>\\r\\n              <!-- \\xec\\x98\\x88\\xec\\x95\\xbd\\xeb\\x8f\\x84\\xec\\x84\\x9c\\xec\\x9d\\xb8 \\xea\\xb2\\xbd\\xec\\x9a\\xb0 -->\\r\\n               <!-- ebook\\xec\\x9d\\xb4 \\xeb\\x8f\\x84\\xec\\x84\\x9c\\xec\\x9d\\xb8 \\xea\\xb2\\xbd\\xec\\x9a\\xb0 -->\\r\\n              <img src=\"/data/books/B3411540576_m.jpg\" alt=\"\" class=\"thumb\" />\\r\\n              </span>\\r\\n              <div class=\"info\">\\r\\n              <p class=\"book_tit\"><a href=\"/academy/books/book_view.html?p_code=B3411540576\">Cengel\\xec\\x9d\\x98 \\xec\\x95\\x8c\\xea\\xb8\\xb0 \\xec\\x89\\xac\\xec\\x9a\\xb4 \\xec\\x97\\xb4\\xec\\x97\\xad\\xed\\x95\\x99&#40;6\\xed\\x8c\\x90&#41;</a></p>\\r\\n              <p class=\"book_writer\">Yunus A. \\xc3\\x87engel , John M. Cimbala , Afshin J. Ghajar </p>\\r\\n              </div>\\r\\n            </div>\\r\\n          </li>\\r\\n          \\r\\n          <li class=\"sub_book_list\">\\r\\n            <div class=\"view_box\">\\r\\n              <span class=\"view_box_block\">\\r\\n                <span class=\"img_hidden_a\">\\r\\n                  <span class=\"pop_quick_menu\">\\r\\n                      <a href=\"/academy/books/book_view.html?p_code=B6426315656\"><img src=\"https://www.hanbit.co.kr/images/common/icon_view_detail.png\" alt=\"\\xec\\x83\\x81\\xec\\x84\\xb8\\xeb\\xb3\\xb4\\xea\\xb8\\xb0\" /></a>\\r\\n                                        </span>\\r\\n                  <span class=\"price\">34,000<span>\\xec\\x9b\\x90</span></span>\\r\\n                  <span class=\"pop_quick_bg\" onClick=\"location=\\'/academy/books/book_view.html?p_code=B6426315656\\'\"></span>\\r\\n                </span>\\r\\n              <!-- \\xec\\x98\\x88\\xec\\x95\\xbd\\xeb\\x8f\\x84\\xec\\x84\\x9c\\xec\\x9d\\xb8 \\xea\\xb2\\xbd\\xec\\x9a\\xb0 -->\\r\\n               <!-- ebook\\xec\\x9d\\xb4 \\xeb\\x8f\\x84\\xec\\x84\\x9c\\xec\\x9d\\xb8 \\xea\\xb2\\xbd\\xec\\x9a\\xb0 -->\\r\\n              <img src=\"/data/books/B6426315656_m.jpg\" alt=\"\" class=\"thumb\" />\\r\\n              </span>\\r\\n              <div class=\"info\">\\r\\n              <p class=\"book_tit\"><a href=\"/academy/books/book_view.html?p_code=B6426315656\">Cengel\\xec\\x9d\\x98 \\xec\\x95\\x8c\\xea\\xb8\\xb0 \\xec\\x89\\xac\\xec\\x9a\\xb4 \\xec\\x97\\xb4\\xec\\xa0\\x84\\xeb\\x8b\\xac&#40;6\\xed\\x8c\\x90&#41;</a></p>\\r\\n              <p class=\"book_writer\">Yunus A. \\xc3\\x87engel , John M. Cimbala , Afshin J. Ghajar </p>\\r\\n              </div>\\r\\n            </div>\\r\\n          </li>\\r\\n              \\r\\n        </ul>\\r\\n      </div>\\r\\n      <!-- //\\xec\\xb1\\x85 \\xeb\\xa6\\xac\\xec\\x8a\\xa4\\xed\\x8a\\xb8 -->\\r\\n      \\r\\n      <div class=\"btn_more\"><a href=\"/academy/books/new_book_list.html\"><span>\\xeb\\x8d\\x94\\xeb\\xb3\\xb4\\xea\\xb8\\xb0</span></a></div>\\r\\n    </div>\\r\\n    <!-- //\\xec\\x83\\x88\\xeb\\xa1\\x9c\\xeb\\x82\\x98\\xec\\x98\\xa8 \\xec\\xb1\\x85 -->\\r\\n    \\r\\n    <!-- \\xeb\\xb2\\xa0\\xec\\x8a\\xa4\\xed\\x8a\\xb8\\xec\\x85\\x80\\xeb\\x9f\\xac \\xec\\xb1\\x85 -->\\r\\n    <div id=\"main_best_book\" style=\"display:none;\">\\r\\n      <!-- \\xed\\x83\\xad\\xeb\\xa9\\x94\\xeb\\x89\\xb4 -->\\r\\n      <div class=\"brand_main_tab\">\\r\\n        <ul class=\"main_tab_menu\">\\r\\n          <li><a href=\"javascript:;\" onClick=\"view_hover(\\'main_new_book\\',\\'\\',\\'show\\',\\'main_best_book\\',\\'\\',\\'hide\\')\">\\xec\\x83\\x88\\xeb\\xa1\\x9c\\xeb\\x82\\x98\\xec\\x98\\xa8\\xec\\xb1\\x85</a></li><span> | </span>\\r\\n          <li><a href=\"javascript:;\" class=\"curr\">\\xeb\\xb2\\xa0\\xec\\x8a\\xa4\\xed\\x8a\\xb8\\xec\\x85\\x80\\xeb\\x9f\\xac</a></li>\\r\\n        </ul>\\r\\n      </div>\\r\\n      <!-- //\\xed\\x83\\xad\\xeb\\xa9\\x94\\xeb\\x89\\xb4 -->\\r\\n      \\r\\n      <!-- \\xec\\xb1\\x85 \\xeb\\xa6\\xac\\xec\\x8a\\xa4\\xed\\x8a\\xb8 -->\\r\\n      <div class=\"sub_book_list_area\">\\r\\n                \\r\\n          <li class=\"sub_book_list\">\\r\\n            <div class=\"view_box\">\\r\\n              <span class=\"view_box_block\">\\r\\n                <span class=\"img_hidden_a\">\\r\\n                  <span class=\"pop_quick_menu\">\\r\\n                    <a href=\"/academy/books/book_view.html?p_code=B2132529019\"><img src=\"https://www.hanbit.co.kr/images/common/icon_view_detail.png\" alt=\"\\xec\\x83\\x81\\xec\\x84\\xb8\\xeb\\xb3\\xb4\\xea\\xb8\\xb0\" /></a>\\r\\n                                      </span>\\r\\n                  <span class=\"price\">32,000<span>\\xec\\x9b\\x90</span></span>\\r\\n                  <span class=\"pop_quick_bg\" onClick=\"location=\\'/academy/books/book_view.html?p_code=B2132529019\\'\"></span>\\r\\n                </span>\\r\\n              <!-- \\xec\\x98\\x88\\xec\\x95\\xbd\\xeb\\x8f\\x84\\xec\\x84\\x9c\\xec\\x9d\\xb8 \\xea\\xb2\\xbd\\xec\\x9a\\xb0 -->\\r\\n              <!-- ebook\\xec\\x9d\\xb4 \\xeb\\x8f\\x84\\xec\\x84\\x9c\\xec\\x9d\\xb8 \\xea\\xb2\\xbd\\xec\\x9a\\xb0 -->\\r\\n              <img src=\"/data/books/B2132529019_m.jpg\" alt=\"\" class=\"thumb\" />\\r\\n              </span>\\r\\n              <div class=\"info\">\\r\\n              <p class=\"book_tit\"><a href=\"/academy/books/book_view.html?p_code=B2132529019\">IT CookBook, \\xeb\\x94\\x94\\xec\\xa7\\x80\\xed\\x84\\xb8 \\xeb\\x85\\xbc\\xeb\\xa6\\xac\\xed\\x9a\\x8c\\xeb\\xa1\\x9c&#40;4\\xed\\x8c\\x90&#41;</a></p>\\r\\n              <p class=\"book_writer\">\\xec\\x9e\\x84\\xec\\x84\\x9d\\xea\\xb5\\xac , \\xed\\x99\\x8d\\xea\\xb2\\xbd\\xed\\x98\\xb8 </p>\\r\\n              </div>\\r\\n            </div>\\r\\n          </li>    \\r\\n                  \\r\\n          <li class=\"sub_book_list\">\\r\\n            <div class=\"view_box\">\\r\\n              <span class=\"view_box_block\">\\r\\n                <span class=\"img_hidden_a\">\\r\\n                  <span class=\"pop_quick_menu\">\\r\\n                    <a href=\"/academy/books/book_view.html?p_code=B3589179269\"><img src=\"https://www.hanbit.co.kr/images/common/icon_view_detail.png\" alt=\"\\xec\\x83\\x81\\xec\\x84\\xb8\\xeb\\xb3\\xb4\\xea\\xb8\\xb0\" /></a>\\r\\n                                      </span>\\r\\n                  <span class=\"price\">28,000<span>\\xec\\x9b\\x90</span></span>\\r\\n                  <span class=\"pop_quick_bg\" onClick=\"location=\\'/academy/books/book_view.html?p_code=B3589179269\\'\"></span>\\r\\n                </span>\\r\\n              <!-- \\xec\\x98\\x88\\xec\\x95\\xbd\\xeb\\x8f\\x84\\xec\\x84\\x9c\\xec\\x9d\\xb8 \\xea\\xb2\\xbd\\xec\\x9a\\xb0 -->\\r\\n              <!-- ebook\\xec\\x9d\\xb4 \\xeb\\x8f\\x84\\xec\\x84\\x9c\\xec\\x9d\\xb8 \\xea\\xb2\\xbd\\xec\\x9a\\xb0 -->\\r\\n              <img src=\"/data/books/B3589179269_m.jpg\" alt=\"\" class=\"thumb\" />\\r\\n              </span>\\r\\n              <div class=\"info\">\\r\\n              <p class=\"book_tit\"><a href=\"/academy/books/book_view.html?p_code=B3589179269\">\\xec\\xa0\\x9c\\xeb\\x8c\\x80\\xeb\\xa1\\x9c \\xec\\x95\\x8c\\xea\\xb3\\xa0 \\xec\\x93\\xb0\\xeb\\x8a\\x94 \\xeb\\x85\\xbc\\xeb\\xac\\xb8 \\xed\\x86\\xb5\\xea\\xb3\\x84\\xeb\\xb6\\x84\\xec\\x84\\x9d : SPSS & AMOS &#40;\\xea\\xb0\\x9c\\xec\\xa0\\x95\\xec\\xa6\\x9d\\xeb\\xb3\\xb4\\xed\\x8c\\x90&#41;</a></p>\\r\\n              <p class=\"book_writer\">\\xeb\\x85\\xb8\\xea\\xb2\\xbd\\xec\\x84\\xad </p>\\r\\n              </div>\\r\\n            </div>\\r\\n          </li>    \\r\\n                  \\r\\n          <li class=\"sub_book_list\">\\r\\n            <div class=\"view_box\">\\r\\n              <span class=\"view_box_block\">\\r\\n                <span class=\"img_hidden_a\">\\r\\n                  <span class=\"pop_quick_menu\">\\r\\n                    <a href=\"/academy/books/book_view.html?p_code=B5199139984\"><img src=\"https://www.hanbit.co.kr/images/common/icon_view_detail.png\" alt=\"\\xec\\x83\\x81\\xec\\x84\\xb8\\xeb\\xb3\\xb4\\xea\\xb8\\xb0\" /></a>\\r\\n                                      </span>\\r\\n                  <span class=\"price\">25,000<span>\\xec\\x9b\\x90</span></span>\\r\\n                  <span class=\"pop_quick_bg\" onClick=\"location=\\'/academy/books/book_view.html?p_code=B5199139984\\'\"></span>\\r\\n                </span>\\r\\n              <!-- \\xec\\x98\\x88\\xec\\x95\\xbd\\xeb\\x8f\\x84\\xec\\x84\\x9c\\xec\\x9d\\xb8 \\xea\\xb2\\xbd\\xec\\x9a\\xb0 -->\\r\\n              <!-- ebook\\xec\\x9d\\xb4 \\xeb\\x8f\\x84\\xec\\x84\\x9c\\xec\\x9d\\xb8 \\xea\\xb2\\xbd\\xec\\x9a\\xb0 -->\\r\\n              <img src=\"/data/books/B5199139984_m.jpg\" alt=\"\" class=\"thumb\" />\\r\\n              </span>\\r\\n              <div class=\"info\">\\r\\n              <p class=\"book_tit\"><a href=\"/academy/books/book_view.html?p_code=B5199139984\">IT CookBook, \\xed\\x8c\\x8c\\xec\\x9d\\xb4\\xec\\x8d\\xac for Beginner&#40;3\\xed\\x8c\\x90&#41;</a></p>\\r\\n              <p class=\"book_writer\">\\xec\\x9a\\xb0\\xec\\x9e\\xac\\xeb\\x82\\xa8 </p>\\r\\n              </div>\\r\\n            </div>\\r\\n          </li>    \\r\\n                  \\r\\n          <li class=\"sub_book_list\">\\r\\n            <div class=\"view_box\">\\r\\n              <span class=\"view_box_block\">\\r\\n                <span class=\"img_hidden_a\">\\r\\n                  <span class=\"pop_quick_menu\">\\r\\n                    <a href=\"/academy/books/book_view.html?p_code=B4831829497\"><img src=\"https://www.hanbit.co.kr/images/common/icon_view_detail.png\" alt=\"\\xec\\x83\\x81\\xec\\x84\\xb8\\xeb\\xb3\\xb4\\xea\\xb8\\xb0\" /></a>\\r\\n                                      </span>\\r\\n                  <span class=\"price\">26,000<span>\\xec\\x9b\\x90</span></span>\\r\\n                  <span class=\"pop_quick_bg\" onClick=\"location=\\'/academy/books/book_view.html?p_code=B4831829497\\'\"></span>\\r\\n                </span>\\r\\n              <!-- \\xec\\x98\\x88\\xec\\x95\\xbd\\xeb\\x8f\\x84\\xec\\x84\\x9c\\xec\\x9d\\xb8 \\xea\\xb2\\xbd\\xec\\x9a\\xb0 -->\\r\\n              <!-- ebook\\xec\\x9d\\xb4 \\xeb\\x8f\\x84\\xec\\x84\\x9c\\xec\\x9d\\xb8 \\xea\\xb2\\xbd\\xec\\x9a\\xb0 -->\\r\\n              <img src=\"/data/books/B4831829497_m.jpg\" alt=\"\" class=\"thumb\" />\\r\\n              </span>\\r\\n              <div class=\"info\">\\r\\n              <p class=\"book_tit\"><a href=\"/academy/books/book_view.html?p_code=B4831829497\">IT CookBook, HTML5 \\xec\\x9b\\xb9 \\xed\\x94\\x84\\xeb\\xa1\\x9c\\xea\\xb7\\xb8\\xeb\\x9e\\x98\\xeb\\xb0\\x8d \\xec\\x9e\\x85\\xeb\\xac\\xb8&#40;3\\xed\\x8c\\x90&#41;</a></p>\\r\\n              <p class=\"book_writer\">\\xec\\x9c\\xa4\\xec\\x9d\\xb8\\xec\\x84\\xb1 </p>\\r\\n              </div>\\r\\n            </div>\\r\\n          </li>    \\r\\n                  \\r\\n          <li class=\"sub_book_list\">\\r\\n            <div class=\"view_box\">\\r\\n              <span class=\"view_box_block\">\\r\\n                <span class=\"img_hidden_a\">\\r\\n                  <span class=\"pop_quick_menu\">\\r\\n                    <a href=\"/academy/books/book_view.html?p_code=B4474033401\"><img src=\"https://www.hanbit.co.kr/images/common/icon_view_detail.png\" alt=\"\\xec\\x83\\x81\\xec\\x84\\xb8\\xeb\\xb3\\xb4\\xea\\xb8\\xb0\" /></a>\\r\\n                                      </span>\\r\\n                  <span class=\"price\">22,000<span>\\xec\\x9b\\x90</span></span>\\r\\n                  <span class=\"pop_quick_bg\" onClick=\"location=\\'/academy/books/book_view.html?p_code=B4474033401\\'\"></span>\\r\\n                </span>\\r\\n              <!-- \\xec\\x98\\x88\\xec\\x95\\xbd\\xeb\\x8f\\x84\\xec\\x84\\x9c\\xec\\x9d\\xb8 \\xea\\xb2\\xbd\\xec\\x9a\\xb0 -->\\r\\n              <!-- ebook\\xec\\x9d\\xb4 \\xeb\\x8f\\x84\\xec\\x84\\x9c\\xec\\x9d\\xb8 \\xea\\xb2\\xbd\\xec\\x9a\\xb0 -->\\r\\n              <img src=\"/data/books/B4474033401_m.jpg\" alt=\"\" class=\"thumb\" />\\r\\n              </span>\\r\\n              <div class=\"info\">\\r\\n              <p class=\"book_tit\"><a href=\"/academy/books/book_view.html?p_code=B4474033401\">IT CookBook, \\xec\\xb2\\x98\\xec\\x9d\\x8c \\xeb\\xa7\\x8c\\xeb\\x82\\x98\\xeb\\x8a\\x94 \\xeb\\x94\\x94\\xec\\xa7\\x80\\xed\\x84\\xb8 \\xeb\\x85\\xbc\\xeb\\xa6\\xac\\xed\\x9a\\x8c\\xeb\\xa1\\x9c</a></p>\\r\\n              <p class=\"book_writer\">\\xec\\x9e\\x84\\xec\\x84\\x9d\\xea\\xb5\\xac , \\xed\\x99\\x8d\\xea\\xb2\\xbd\\xed\\x98\\xb8 </p>\\r\\n              </div>\\r\\n            </div>\\r\\n          </li>    \\r\\n                  \\r\\n          <li class=\"sub_book_list\">\\r\\n            <div class=\"view_box\">\\r\\n              <span class=\"view_box_block\">\\r\\n                <span class=\"img_hidden_a\">\\r\\n                  <span class=\"pop_quick_menu\">\\r\\n                    <a href=\"/academy/books/book_view.html?p_code=B5351150617\"><img src=\"https://www.hanbit.co.kr/images/common/icon_view_detail.png\" alt=\"\\xec\\x83\\x81\\xec\\x84\\xb8\\xeb\\xb3\\xb4\\xea\\xb8\\xb0\" /></a>\\r\\n                                      </span>\\r\\n                  <span class=\"price\">32,000<span>\\xec\\x9b\\x90</span></span>\\r\\n                  <span class=\"pop_quick_bg\" onClick=\"location=\\'/academy/books/book_view.html?p_code=B5351150617\\'\"></span>\\r\\n                </span>\\r\\n              <!-- \\xec\\x98\\x88\\xec\\x95\\xbd\\xeb\\x8f\\x84\\xec\\x84\\x9c\\xec\\x9d\\xb8 \\xea\\xb2\\xbd\\xec\\x9a\\xb0 -->\\r\\n              <!-- ebook\\xec\\x9d\\xb4 \\xeb\\x8f\\x84\\xec\\x84\\x9c\\xec\\x9d\\xb8 \\xea\\xb2\\xbd\\xec\\x9a\\xb0 -->\\r\\n              <img src=\"/data/books/B5351150617_m.jpg\" alt=\"\" class=\"thumb\" />\\r\\n              </span>\\r\\n              <div class=\"info\">\\r\\n              <p class=\"book_tit\"><a href=\"/academy/books/book_view.html?p_code=B5351150617\">IT CookBook, \\xec\\x89\\xbd\\xea\\xb2\\x8c \\xeb\\xb0\\xb0\\xec\\x9a\\xb0\\xeb\\x8a\\x94 \\xec\\x9a\\xb4\\xec\\x98\\x81\\xec\\xb2\\xb4\\xec\\xa0\\x9c&#40;2\\xed\\x8c\\x90&#41;</a></p>\\r\\n              <p class=\"book_writer\">\\xec\\xa1\\xb0\\xec\\x84\\xb1\\xed\\x98\\xb8 </p>\\r\\n              </div>\\r\\n            </div>\\r\\n          </li>    \\r\\n                  \\r\\n          <li class=\"sub_book_list\">\\r\\n            <div class=\"view_box\">\\r\\n              <span class=\"view_box_block\">\\r\\n                <span class=\"img_hidden_a\">\\r\\n                  <span class=\"pop_quick_menu\">\\r\\n                    <a href=\"/academy/books/book_view.html?p_code=B6772148484\"><img src=\"https://www.hanbit.co.kr/images/common/icon_view_detail.png\" alt=\"\\xec\\x83\\x81\\xec\\x84\\xb8\\xeb\\xb3\\xb4\\xea\\xb8\\xb0\" /></a>\\r\\n                                      </span>\\r\\n                  <span class=\"price\">25,000<span>\\xec\\x9b\\x90</span></span>\\r\\n                  <span class=\"pop_quick_bg\" onClick=\"location=\\'/academy/books/book_view.html?p_code=B6772148484\\'\"></span>\\r\\n                </span>\\r\\n              <!-- \\xec\\x98\\x88\\xec\\x95\\xbd\\xeb\\x8f\\x84\\xec\\x84\\x9c\\xec\\x9d\\xb8 \\xea\\xb2\\xbd\\xec\\x9a\\xb0 -->\\r\\n              <!-- ebook\\xec\\x9d\\xb4 \\xeb\\x8f\\x84\\xec\\x84\\x9c\\xec\\x9d\\xb8 \\xea\\xb2\\xbd\\xec\\x9a\\xb0 -->\\r\\n              <img src=\"/data/books/B6772148484_m.jpg\" alt=\"\" class=\"thumb\" />\\r\\n              </span>\\r\\n              <div class=\"info\">\\r\\n              <p class=\"book_tit\"><a href=\"/academy/books/book_view.html?p_code=B6772148484\">IT CookBook, \\xeb\\x82\\x9c\\xec\\x83\\x9d\\xec\\xb2\\x98\\xec\\x9d\\x8c \\xec\\x9d\\xb8\\xea\\xb3\\xb5\\xec\\xa7\\x80\\xeb\\x8a\\xa5 \\xec\\x9e\\x85\\xeb\\xac\\xb8</a></p>\\r\\n              <p class=\"book_writer\">\\xec\\x84\\x9c\\xec\\xa7\\x80\\xec\\x98\\x81 </p>\\r\\n              </div>\\r\\n            </div>\\r\\n          </li>    \\r\\n                  \\r\\n          <li class=\"sub_book_list\">\\r\\n            <div class=\"view_box\">\\r\\n              <span class=\"view_box_block\">\\r\\n                <span class=\"img_hidden_a\">\\r\\n                  <span class=\"pop_quick_menu\">\\r\\n                    <a href=\"/academy/books/book_view.html?p_code=B6505632990\"><img src=\"https://www.hanbit.co.kr/images/common/icon_view_detail.png\" alt=\"\\xec\\x83\\x81\\xec\\x84\\xb8\\xeb\\xb3\\xb4\\xea\\xb8\\xb0\" /></a>\\r\\n                                      </span>\\r\\n                  <span class=\"price\">29,000<span>\\xec\\x9b\\x90</span></span>\\r\\n                  <span class=\"pop_quick_bg\" onClick=\"location=\\'/academy/books/book_view.html?p_code=B6505632990\\'\"></span>\\r\\n                </span>\\r\\n              <!-- \\xec\\x98\\x88\\xec\\x95\\xbd\\xeb\\x8f\\x84\\xec\\x84\\x9c\\xec\\x9d\\xb8 \\xea\\xb2\\xbd\\xec\\x9a\\xb0 -->\\r\\n              <!-- ebook\\xec\\x9d\\xb4 \\xeb\\x8f\\x84\\xec\\x84\\x9c\\xec\\x9d\\xb8 \\xea\\xb2\\xbd\\xec\\x9a\\xb0 -->\\r\\n              <img src=\"/data/books/B6505632990_m.jpg\" alt=\"\" class=\"thumb\" />\\r\\n              </span>\\r\\n              <div class=\"info\">\\r\\n              <p class=\"book_tit\"><a href=\"/academy/books/book_view.html?p_code=B6505632990\">IT CookBook, \\xeb\\x8d\\xb0\\xec\\x9d\\xb4\\xed\\x84\\xb0\\xeb\\xb2\\xa0\\xec\\x9d\\xb4\\xec\\x8a\\xa4 \\xea\\xb0\\x9c\\xeb\\xa1\\xa0&#40;3\\xed\\x8c\\x90&#41;</a></p>\\r\\n              <p class=\"book_writer\">\\xea\\xb9\\x80\\xec\\x97\\xb0\\xed\\x9d\\xac </p>\\r\\n              </div>\\r\\n            </div>\\r\\n          </li>    \\r\\n                  \\r\\n          <li class=\"sub_book_list\">\\r\\n            <div class=\"view_box\">\\r\\n              <span class=\"view_box_block\">\\r\\n                <span class=\"img_hidden_a\">\\r\\n                  <span class=\"pop_quick_menu\">\\r\\n                    <a href=\"/academy/books/book_view.html?p_code=B7099909363\"><img src=\"https://www.hanbit.co.kr/images/common/icon_view_detail.png\" alt=\"\\xec\\x83\\x81\\xec\\x84\\xb8\\xeb\\xb3\\xb4\\xea\\xb8\\xb0\" /></a>\\r\\n                                      </span>\\r\\n                  <span class=\"price\">34,000<span>\\xec\\x9b\\x90</span></span>\\r\\n                  <span class=\"pop_quick_bg\" onClick=\"location=\\'/academy/books/book_view.html?p_code=B7099909363\\'\"></span>\\r\\n                </span>\\r\\n              <!-- \\xec\\x98\\x88\\xec\\x95\\xbd\\xeb\\x8f\\x84\\xec\\x84\\x9c\\xec\\x9d\\xb8 \\xea\\xb2\\xbd\\xec\\x9a\\xb0 -->\\r\\n              <!-- ebook\\xec\\x9d\\xb4 \\xeb\\x8f\\x84\\xec\\x84\\x9c\\xec\\x9d\\xb8 \\xea\\xb2\\xbd\\xec\\x9a\\xb0 -->\\r\\n              <img src=\"/data/books/B7099909363_m.jpg\" alt=\"\" class=\"thumb\" />\\r\\n              </span>\\r\\n              <div class=\"info\">\\r\\n              <p class=\"book_tit\"><a href=\"/academy/books/book_view.html?p_code=B7099909363\">IT CookBook, Android Studio\\xeb\\xa5\\xbc \\xed\\x99\\x9c\\xec\\x9a\\xa9\\xed\\x95\\x9c \\xec\\x95\\x88\\xeb\\x93\\x9c\\xeb\\xa1\\x9c\\xec\\x9d\\xb4\\xeb\\x93\\x9c \\xed\\x94\\x84\\xeb\\xa1\\x9c\\xea\\xb7\\xb8\\xeb\\x9e\\x98\\xeb\\xb0\\x8d&#40;8\\xed\\x8c\\x90&#41;</a></p>\\r\\n              <p class=\"book_writer\">\\xec\\x9a\\xb0\\xec\\x9e\\xac\\xeb\\x82\\xa8 , \\xeb\\xb0\\x95\\xea\\xb8\\xb8\\xec\\x8b\\x9d </p>\\r\\n              </div>\\r\\n            </div>\\r\\n          </li>    \\r\\n                  \\r\\n          <li class=\"sub_book_list\">\\r\\n            <div class=\"view_box\">\\r\\n              <span class=\"view_box_block\">\\r\\n                <span class=\"img_hidden_a\">\\r\\n                  <span class=\"pop_quick_menu\">\\r\\n                    <a href=\"/academy/books/book_view.html?p_code=B4766499846\"><img src=\"https://www.hanbit.co.kr/images/common/icon_view_detail.png\" alt=\"\\xec\\x83\\x81\\xec\\x84\\xb8\\xeb\\xb3\\xb4\\xea\\xb8\\xb0\" /></a>\\r\\n                                      </span>\\r\\n                  <span class=\"price\">30,000<span>\\xec\\x9b\\x90</span></span>\\r\\n                  <span class=\"pop_quick_bg\" onClick=\"location=\\'/academy/books/book_view.html?p_code=B4766499846\\'\"></span>\\r\\n                </span>\\r\\n              <!-- \\xec\\x98\\x88\\xec\\x95\\xbd\\xeb\\x8f\\x84\\xec\\x84\\x9c\\xec\\x9d\\xb8 \\xea\\xb2\\xbd\\xec\\x9a\\xb0 -->\\r\\n              <!-- ebook\\xec\\x9d\\xb4 \\xeb\\x8f\\x84\\xec\\x84\\x9c\\xec\\x9d\\xb8 \\xea\\xb2\\xbd\\xec\\x9a\\xb0 -->\\r\\n              <img src=\"/data/books/B4766499846_m.jpg\" alt=\"\" class=\"thumb\" />\\r\\n              </span>\\r\\n              <div class=\"info\">\\r\\n              <p class=\"book_tit\"><a href=\"/academy/books/book_view.html?p_code=B4766499846\">IT CookBook, \\xec\\x89\\xbd\\xea\\xb2\\x8c \\xeb\\xb0\\xb0\\xec\\x9a\\xb0\\xeb\\x8a\\x94 \\xec\\x86\\x8c\\xed\\x94\\x84\\xed\\x8a\\xb8\\xec\\x9b\\xa8\\xec\\x96\\xb4 \\xea\\xb3\\xb5\\xed\\x95\\x99&#40;2\\xed\\x8c\\x90&#41;</a></p>\\r\\n              <p class=\"book_writer\">\\xea\\xb9\\x80\\xec\\xb9\\x98\\xec\\x88\\x98 </p>\\r\\n              </div>\\r\\n            </div>\\r\\n          </li>    \\r\\n                  </ul>\\r\\n      </div>\\r\\n      <!-- //\\xec\\xb1\\x85 \\xeb\\xa6\\xac\\xec\\x8a\\xa4\\xed\\x8a\\xb8 -->\\r\\n      <div class=\"btn_more\"><a href=\"/academy/books/bestseller_list.html\"><span>\\xeb\\x8d\\x94\\xeb\\xb3\\xb4\\xea\\xb8\\xb0</span></a></div>\\r\\n    </div>\\r\\n    <!-- //\\xeb\\xb2\\xa0\\xec\\x8a\\xa4\\xed\\x8a\\xb8\\xec\\x85\\x80\\xeb\\x9f\\xac \\xec\\xb1\\x85 -->\\r\\n  </div>\\r\\n  <!-- //\\xeb\\xb8\\x8c\\xeb\\x9e\\x9c\\xeb\\x93\\x9c \\xeb\\xa9\\x94\\xec\\x9d\\xb8 \\xec\\xb1\\x85 -->\\r\\n  \\r\\n    <!-- \\xeb\\xa9\\x94\\xec\\x9d\\xb8 \\xeb\\x84\\xa4\\xed\\x8a\\xb8\\xec\\x9b\\x8c\\xed\\x81\\xac \\xec\\x98\\x81\\xec\\x97\\xad -->\\r\\n  <section id=\"main_sns_area\" name=\"main_sns_area\" onmouseover=\"view_hover(\\'main_network_btn\\',\\'\\',\\'show\\')\" onmouseout=\"view_hover(\\'main_network_btn\\',\\'\\',\\'hide\\')\">\\r\\n    <!-- \\xed\\x83\\x80\\xec\\x9d\\xb4\\xed\\x8b\\x80 -->\\r\\n    <div class=\"main_sns_area_tit\">\\xec\\xb1\\x84\\xeb\\x84\\x90.H</div>\\r\\n    <div class=\"btn_more\"><a href=\"/academy/channel/list.html\"><span>\\xeb\\x8d\\x94\\xeb\\xb3\\xb4\\xea\\xb8\\xb0</span></a></div>\\r\\n    <!-- //\\xed\\x83\\x80\\xec\\x9d\\xb4\\xed\\x8b\\x80 -->\\r\\n    \\r\\n    <!-- \\xeb\\x84\\xa4\\xed\\x8a\\xb8\\xec\\x9b\\x8c\\xed\\x81\\xac \\xeb\\xa6\\xac\\xec\\x8a\\xa4\\xed\\x8a\\xb8 -->\\r\\n    <div id=\"sns_network\">\\r\\n    <ul>\\r\\n      <li>\\r\\n        <div class=\"main_sns_list_area\">\\r\\n          <div class=\"main_sns_list\">\\r\\n                      \\r\\n            <div class=\"thumb\">\\r\\n            <!--<img src=\"/images/design/thum_sns_hb.png\" alt=\"\\xec\\xb1\\x84\\xeb\\x84\\x90.H\" class=\"sns_icon1\"/>-->\\r\\n            <a href=\"https://www.hanbit.co.kr/academy/channel/view.html?cms_code=CMS6840003649\">\\r\\n            <img src=\"/data/cms/CMS6840003649_thumb.jpg\" alt=\"\\xed\\x8f\\xac\\xeb\\xa5\\xb4\\xec\\x9e\\x94 C++ \\xeb\\xb0\\x94\\xec\\x9d\\xb4\\xeb\\xb8\\x94\\xec\\x9d\\x98 \\xec\\x97\\xad\\xec\\x9e\\x90 \\xec\\x9c\\xa4\\xec\\x9d\\xb8\\xec\\x84\\xb1\\xeb\\x8b\\x98\\xea\\xbb\\x98 \\xeb\\xac\\xbb\\xeb\\x8b\\xa4\" class=\"thumb hv1\"/>\\r\\n            <span><p>\\xed\\x8f\\xac\\xeb\\xa5\\xb4\\xec\\x9e\\x94 C++ \\xeb\\xb0\\x94\\xec\\x9d\\xb4\\xeb\\xb8\\x94\\xec\\x9d\\x98 \\xec\\x97\\xad\\xec\\x9e\\x90 \\xec\\x9c\\xa4\\xec\\x9d\\xb8\\xec\\x84\\xb1\\xeb\\x8b\\x98\\xea\\xbb\\x98 \\xeb\\xac\\xbb\\xeb\\x8b\\xa4</p></span>\\r\\n            </a>\\r\\n            </div>\\r\\n                      \\r\\n            <div class=\"thumb\">\\r\\n            <!--<img src=\"/images/design/thum_sns_hb.png\" alt=\"\\xec\\xb1\\x84\\xeb\\x84\\x90.H\" class=\"sns_icon1\"/>-->\\r\\n            <a href=\"https://www.hanbit.co.kr/academy/channel/view.html?cms_code=CMS1290946902\">\\r\\n            <img src=\"/data/cms/CMS1290946902_thumb.jpg\" alt=\"\\xeb\\xa6\\xac\\xeb\\x88\\x85\\xec\\x8a\\xa4  \\xec\\xb4\\x88\\xeb\\xb3\\xb4\\xec\\x9e\\x90\\xeb\\xa5\\xbc \\xec\\x9c\\x84\\xed\\x95\\x9c CentOS - \\xec\\x9d\\xb4\\xec\\xa2\\x85\\xec\\x9b\\x90\" class=\"thumb hv1\"/>\\r\\n            <span><p>\\xeb\\xa6\\xac\\xeb\\x88\\x85\\xec\\x8a\\xa4  \\xec\\xb4\\x88\\xeb\\xb3\\xb4\\xec\\x9e\\x90\\xeb\\xa5\\xbc \\xec\\x9c\\x84\\xed\\x95\\x9c CentOS - \\xec\\x9d\\xb4\\xec\\xa2\\x85\\xec\\x9b\\x90</p></span>\\r\\n            </a>\\r\\n            </div>\\r\\n                      \\r\\n            <div class=\"thumb\">\\r\\n            <!--<img src=\"/images/design/thum_sns_hb.png\" alt=\"\\xec\\xb1\\x84\\xeb\\x84\\x90.H\" class=\"sns_icon1\"/>-->\\r\\n            <a href=\"https://www.hanbit.co.kr/academy/channel/view.html?cms_code=CMS5158657609\">\\r\\n            <img src=\"/data/cms/CMS5158657609_thumb.jpg\" alt=\"\\xeb\\xa7\\x88\\xeb\\xb2\\x95\\xec\\xb2\\x98\\xeb\\x9f\\xbc \\xeb\\xb9\\xa0\\xec\\xa0\\xb8\\xeb\\x93\\x9c\\xeb\\x8a\\x94 \\xeb\\xac\\x98\\xed\\x95\\x9c \\xeb\\xa7\\xa4\\xeb\\xa0\\xa5\\xec\\x9d\\x98 \\xec\\x86\\x8c\\xec\\x9c\\xa0\\xec\\x9e\\x90 - \\xec\\x8b\\xa0\\xec\\x9c\\xa4\\xed\\x99\\x98\" class=\"thumb hv1\"/>\\r\\n            <span><p>\\xeb\\xa7\\x88\\xeb\\xb2\\x95\\xec\\xb2\\x98\\xeb\\x9f\\xbc \\xeb\\xb9\\xa0\\xec\\xa0\\xb8\\xeb\\x93\\x9c\\xeb\\x8a\\x94 \\xeb\\xac\\x98\\xed\\x95\\x9c \\xeb\\xa7\\xa4\\xeb\\xa0\\xa5\\xec\\x9d\\x98 \\xec\\x86\\x8c\\xec\\x9c\\xa0\\xec\\x9e\\x90 - \\xec\\x8b\\xa0\\xec\\x9c\\xa4\\xed\\x99\\x98</p></span>\\r\\n            </a>\\r\\n            </div>\\r\\n                      \\r\\n            <div class=\"thumb\">\\r\\n            <!--<img src=\"/images/design/thum_sns_hb.png\" alt=\"\\xec\\xb1\\x84\\xeb\\x84\\x90.H\" class=\"sns_icon1\"/>-->\\r\\n            <a href=\"https://www.hanbit.co.kr/academy/channel/view.html?cms_code=CMS8038761325\">\\r\\n            <img src=\"/data/cms/CMS8038761325_thumb.jpg\" alt=\"\\xec\\x82\\xac\\xed\\x9a\\x8c\\xec\\xa1\\xb0\\xec\\x82\\xac\\xeb\\xb6\\x84\\xec\\x84\\x9d\\xec\\x82\\xac \\xed\\x95\\x84\\xea\\xb8\\xb0 \\xec\\xa0\\x95\\xea\\xb8\\xb0\\xea\\xb8\\xb0\\xec\\x82\\xac 1\\xed\\x9a\\x8c\\xeb\\xa5\\xbc \\xeb\\x8c\\x80\\xeb\\xb9\\x84\\xed\\x95\\x9c \\xec\\xa1\\xb1\\xec\\xa7\\x91\\xea\\xb2\\x8c \\xea\\xb0\\x95\\xec\\x9d\\x98 \\xed\\x9b\\x84\\xea\\xb8\\xb0\" class=\"thumb hv1\"/>\\r\\n            <span><p>\\xec\\x82\\xac\\xed\\x9a\\x8c\\xec\\xa1\\xb0\\xec\\x82\\xac\\xeb\\xb6\\x84\\xec\\x84\\x9d\\xec\\x82\\xac \\xed\\x95\\x84\\xea\\xb8\\xb0 \\xec\\xa0\\x95\\xea\\xb8\\xb0\\xea\\xb8\\xb0\\xec\\x82\\xac 1\\xed\\x9a\\x8c\\xeb\\xa5\\xbc \\xeb\\x8c\\x80\\xeb\\xb9\\x84\\xed\\x95\\x9c \\xec\\xa1\\xb1\\xec\\xa7\\x91\\xea\\xb2\\x8c \\xea\\xb0\\x95\\xec\\x9d\\x98 \\xed\\x9b\\x84\\xea\\xb8\\xb0</p></span>\\r\\n            </a>\\r\\n            </div>\\r\\n                    </div>\\r\\n        </div>\\r\\n       </div>\\r\\n      </li>      \\r\\n    </ul>\\r\\n    </div>\\r\\n    <!-- //\\xeb\\x84\\xa4\\xed\\x8a\\xb8\\xec\\x9b\\x8c\\xed\\x81\\xac \\xeb\\xa6\\xac\\xec\\x8a\\xa4\\xed\\x8a\\xb8 -->\\r\\n  </section>\\r\\n  <!-- //\\xeb\\xa9\\x94\\xec\\x9d\\xb8 \\xeb\\x84\\xa4\\xed\\x8a\\xb8\\xec\\x9b\\x8c\\xed\\x81\\xac \\xec\\x98\\x81\\xec\\x97\\xad -->\\r\\n\\r\\n</div>\\r\\n<!-- //\\xec\\x95\\x84\\xec\\xb9\\xb4\\xeb\\x8d\\xb0\\xeb\\xaf\\xb8 \\xeb\\xa9\\x94\\xec\\x9d\\xb8 wrap -->\\r\\n\\r\\n<!-- \\xec\\xb9\\xb4\\xed\\x8a\\xb8 \\xeb\\x8b\\xb4\\xea\\xb8\\xb0 \\xeb\\xa0\\x88\\xec\\x9d\\xb4\\xec\\x96\\xb4 \\xed\\x8c\\x9d\\xec\\x97\\x85 -->\\r\\n\\t<div class=\"add_cart_layer\">\\r\\n\\t\\t<div class=\"bg\"></div>\\r\\n\\t\\t<div class=\"add_cart_pop-layer\" id=\"layer_add_cart\">\\r\\n\\t\\t\\t<div class=\"pop-container\">\\r\\n\\t\\t\\t\\t<div class=\"pop-conts\">\\r\\n\\t\\t\\t\\t\\t\\r\\n\\t\\t\\t\\t\\t<!--content //-->\\r\\n\\t\\t\\t\\t\\t<div class=\"close\"><a class=\"cbtn\" href=\"javascript:;\" onClick=\"\"><img src=\"https://www.hanbit.co.kr/images/common/icon_close.png\" width=\"38\" height=\"38\" alt=\"\\xeb\\x8b\\xab\\xea\\xb8\\xb0\" /></a></div>\\r\\n\\t\\t\\t\\t\\t<p class=\"ctxt\"><span id=\\'cartmsg\\'>\\xed\\x95\\xb4\\xeb\\x8b\\xb9 \\xec\\x83\\x81\\xed\\x92\\x88\\xec\\x9d\\x84 \\xec\\x9e\\xa5\\xeb\\xb0\\x94\\xea\\xb5\\xac\\xeb\\x8b\\x88\\xec\\x97\\x90 \\xeb\\x8b\\xb4\\xec\\x95\\x98\\xec\\x8a\\xb5\\xeb\\x8b\\x88\\xeb\\x8b\\xa4.</span><span id=\\'cartmsg2\\'>\\xec\\x9d\\xb4\\xeb\\xaf\\xb8 \\xec\\x9e\\xa5\\xeb\\xb0\\x94\\xea\\xb5\\xac\\xeb\\x8b\\x88\\xec\\x97\\x90 \\xec\\xb6\\x94\\xea\\xb0\\x80\\xeb\\x90\\x9c \\xec\\x83\\x81\\xed\\x92\\x88\\xec\\x9e\\x85\\xeb\\x8b\\x88\\xeb\\x8b\\xa4.</span><br />\\xec\\x9e\\xa5\\xeb\\xb0\\x94\\xea\\xb5\\xac\\xeb\\x8b\\x88\\xeb\\xa1\\x9c \\xec\\x9d\\xb4\\xeb\\x8f\\x99\\xed\\x95\\x98\\xec\\x8b\\x9c\\xea\\xb2\\xa0\\xec\\x8a\\xb5\\xeb\\x8b\\x88\\xea\\xb9\\x8c?</p>\\r\\n\\t\\t\\t\\t\\t<div class=\"btn_layer\">\\r\\n\\t\\t\\t\\t\\t\\t<a href=\"/myhanbit/cart.html\">\\xec\\x9e\\xa5\\xeb\\xb0\\x94\\xea\\xb5\\xac\\xeb\\x8b\\x88<br />\\xec\\x9d\\xb4\\xeb\\x8f\\x99</a>\\r\\n\\t\\t\\t\\t\\t\\t<!--<a href=\"javascript:;\" onClick=\"$(\\'.add_cart_layer\\').hide();\">\\xec\\x87\\xbc\\xed\\x95\\x91<br />\\xea\\xb3\\x84\\xec\\x86\\x8d</a>-->\\r\\n\\t\\t\\t\\t\\t\\t<a class=\"cbtn\" href=\"javascript:;\" onClick=\"\">\\xec\\x87\\xbc\\xed\\x95\\x91<br />\\xea\\xb3\\x84\\xec\\x86\\x8d</a>\\r\\n\\t\\t\\t\\t\\t</div>\\r\\n\\t\\t\\t\\t\\t<!--// content-->\\r\\n\\t\\t\\t\\t\\t\\r\\n\\t\\t\\t\\t</div>\\r\\n\\t\\t\\t</div>\\r\\n\\t\\t</div>\\r\\n\\t</div><!-- //\\xec\\xb9\\xb4\\xed\\x8a\\xb8 \\xeb\\x8b\\xb4\\xea\\xb8\\xb0 \\xeb\\xa0\\x88\\xec\\x9d\\xb4\\xec\\x96\\xb4 \\xed\\x8c\\x9d\\xec\\x97\\x85 -->\\r\\n\\r\\n<!-- Footer -->\\r\\n<footer>\\r\\n  <!-- \\xea\\xb3\\xb5\\xec\\xa7\\x80\\xec\\x82\\xac\\xed\\x95\\xad -->\\r\\n    <div class=\"foot_notice\" style=\"height:6px;\"></div>    <!-- //\\xea\\xb3\\xb5\\xec\\xa7\\x80\\xec\\x82\\xac\\xed\\x95\\xad -->\\r\\n  \\r\\n  <div class=\"foot_contents\">\\r\\n    <!-- \\xed\\x95\\x98\\xeb\\x8b\\xa8 \\xeb\\xa9\\x94\\xeb\\x89\\xb4 -->\\r\\n    <div class=\"foot_menu\">\\r\\n      <!-- added by coffin -->\\r\\n            <ul>\\r\\n        <li><a href=\"https://www.hanbit.co.kr/publisher/index.html\" target=\"_blank\">\\xed\\x9a\\x8c\\xec\\x82\\xac\\xec\\x86\\x8c\\xea\\xb0\\x9c</a>(<a href=\"https://www.hanbit.co.kr/publisher/index.html\" target=\"_blank\">KOR</a> | <a href=\"https://www.hanbit.co.kr/publisher/index.html?lang=e\" target=\"_blank\">ENG</a>) &#149; <a href=\"https://www.hanbit.co.kr/publisher/contact.html?lang=k\" target=\"_blank\">\\xec\\x95\\xbd\\xeb\\x8f\\x84</a></li>\\r\\n        <li><a href=\"https://www.hanbit.co.kr/publisher/write.html\" target=\"_blank\">\\xea\\xb8\\xb0\\xed\\x9a\\x8d \\xeb\\xb0\\x8f \\xec\\x9b\\x90\\xea\\xb3\\xa0 \\xeb\\xaa\\xa8\\xec\\xa7\\x91</a></li>\\r\\n        <li><a href=\"https://www.hanbit.co.kr/publisher/career.html\" target=\"_blank\">\\xec\\xb1\\x84\\xec\\x9a\\xa9</a> &#149; \\xec\\x9e\\x85\\xec\\x82\\xac\\xec\\xa7\\x80\\xec\\x9b\\x90 <a href=\"mailto:jobs@hanbit.co.kr\">jobs@hanbit.co.kr</a></li>\\r\\n        <li><a href=\"https://www.hanbit.co.kr/publisher/foreignrights.html\" target=\"_blank\">FOREIGN RIGHTS</a></li>\\r\\n        <li><a href=\"https://www.hanbit.co.kr/member/use_agreement.html\">\\xec\\x9d\\xb4\\xec\\x9a\\xa9\\xec\\x95\\xbd\\xea\\xb4\\x80</a> &#149; <a href=\"https://www.hanbit.co.kr/member/privacy_policy.html\"><strong>\\xea\\xb0\\x9c\\xec\\x9d\\xb8\\xec\\xa0\\x95\\xeb\\xb3\\xb4\\xec\\xb2\\x98\\xeb\\xa6\\xac\\xeb\\xb0\\xa9\\xec\\xb9\\xa8</strong></a></li>\\r\\n        <li><a href=\"https://www.hanbit.co.kr/sitemap/sitemap.html\">\\xec\\x82\\xac\\xec\\x9d\\xb4\\xed\\x8a\\xb8\\xeb\\xa7\\xb5</a></li>\\r\\n      </ul>\\r\\n          </div>\\r\\n    <!-- //\\xed\\x95\\x98\\xeb\\x8b\\xa8 \\xeb\\xa9\\x94\\xeb\\x89\\xb4 -->\\r\\n\\r\\n    <!-- SNS -->\\r\\n    <div class=\"foot_sns\">\\r\\n            \\r\\n      <ul>\\r\\n        <li class=\"foot_facebook\"><a href=\"https://www.facebook.com/hanbitacademy/\" target=\"_blank\"><span>\\xed\\x8e\\x98\\xec\\x9d\\xb4\\xec\\x8a\\xa4\\xeb\\xb6\\x81</span></a></li>\\r\\n        <li class=\"foot_youtube\"><a href=\"https://www.youtube.com/channel/UCHfxmM0R8HZDJQoBOFkpDKA\" target=\"_blank\"><span>\\xec\\x9c\\xa0\\xed\\x8a\\x9c\\xeb\\xb8\\x8c</span></a></li>\\r\\n      </ul>\\r\\n      \\r\\n           \\r\\n     \\r\\n        <fieldset class=\"foot_srch\">\\r\\n          <legend>\\xed\\x95\\x98\\xeb\\x8b\\xa8 \\xea\\xb2\\x80\\xec\\x83\\x89\\xec\\x98\\x81\\xec\\x97\\xad</legend>\\r\\n          <input title=\"\\xea\\xb2\\x80\\xec\\x83\\x89\\xec\\x96\\xb4\" class=\"foot_srch_keyword\" accesskey=\"s\" type=\"text\" value=\"\"  id=\"foot_keyword_str\" style=\"font-size:16px;\">\\r\\n          <input type=\"button\" alt=\"\" class=\"foot_srch_btn\" onclick=\"foot_sch_smit();\" style=\"cursor: pointer;\">\\r\\n        </fieldset>\\r\\n\\r\\n      <script>\\r\\n        $(document).ready(function() {       \\r\\n          $(\\'#foot_keyword_str\\').keyup(function(e) {\\r\\n            if (e.keyCode == 13) \\r\\n              foot_sch_smit();\\r\\n          });        \\r\\n        });\\r\\n\\r\\n        function foot_sch_smit(){            \\r\\n          var foot_keyword_str = $(\"#foot_keyword_str\").val();      \\r\\n          var searchUrl = \"/search/search_list.html?keyword=\"+foot_keyword_str;\\r\\n\\r\\n          if(!foot_keyword_str){\\r\\n            alert(\"\\xea\\xb2\\x80\\xec\\x83\\x89\\xec\\x96\\xb4\\xeb\\xa5\\xbc \\xec\\x9e\\x85\\xeb\\xa0\\xa5\\xed\\x95\\xb4\\xec\\xa3\\xbc\\xec\\x84\\xb8\\xec\\x9a\\x94\");\\r\\n            $(\"#foot_keyword_str\").focus();\\r\\n          }else{\\r\\n            location.href = searchUrl;\\r\\n          }\\r\\n        }\\r\\n      </script>  \\r\\n          </div>\\r\\n    <!-- //SNS -->\\r\\n    \\r\\n    <!-- \\xed\\x95\\x9c\\xeb\\xb9\\x9b \\xec\\xa0\\x95\\xeb\\xb3\\xb4 -->\\r\\n    <div class=\"foot_about\">\\r\\n      <div class=\"foot_about_area\">\\r\\n        \\r\\n      \\r\\n        <p>\\xed\\x95\\x9c\\xeb\\xb9\\x9b\\xec\\x95\\x84\\xec\\xb9\\xb4\\xeb\\x8d\\xb0\\xeb\\xaf\\xb8\\xe3\\x88\\x9c</p>\\r\\n        <p>(03785) \\xec\\x84\\x9c\\xec\\x9a\\xb8 \\xec\\x84\\x9c\\xeb\\x8c\\x80\\xeb\\xac\\xb8\\xea\\xb5\\xac \\xec\\x97\\xb0\\xed\\x9d\\xac\\xeb\\xa1\\x9c2\\xea\\xb8\\xb8 62 2\\xec\\xb8\\xb5</p>\\r\\n        <p>TEL : 02-336-7112 / FAX : 02-336-7199</p>\\r\\n        <p>\\xeb\\x8c\\x80\\xed\\x91\\x9c\\xec\\x9d\\xb4\\xec\\x82\\xac : \\xec\\xa0\\x84\\xed\\x83\\x9c\\xed\\x98\\xb8</p>\\r\\n        <p>\\xec\\x82\\xac\\xec\\x97\\x85\\xec\\x9e\\x90\\xeb\\x93\\xb1\\xeb\\xa1\\x9d\\xeb\\xb2\\x88\\xed\\x98\\xb8 : 105-87-81648</p>\\r\\n\\r\\n        \\r\\n\\r\\n      </div>\\r\\n    </div>\\r\\n    <!-- //\\xed\\x95\\x9c\\xeb\\xb9\\x9b \\xec\\xa0\\x95\\xeb\\xb3\\xb4 -->\\r\\n  </div>\\r\\n  \\r\\n  <div class=\"copyright\">&copy;1993-2023 Hanbit Publishing Network, Inc. All rights reserved.</div>\\r\\n</footer>\\r\\n<!-- //\\xed\\x91\\xb8\\xed\\x84\\xb0 -->\\r\\n<div class=\"foot_download_btn\"><a href=\"https://www.hanbit.co.kr/support/supplement_list.html\">\\xec\\x9e\\x90\\xeb\\xa3\\x8c\\xec\\x8b\\xa4</a></div>\\r\\n\\r\\n<!-- \\xea\\xb3\\xb5\\xed\\x86\\xb5 JS \\xed\\x98\\xb8\\xec\\xb6\\x9c -->\\r\\n<script type=\"text/javascript\" src=\"/js/common.js\"></script>\\r\\n<!-- //\\xea\\xb3\\xb5\\xed\\x86\\xb5 JS \\xed\\x98\\xb8\\xec\\xb6\\x9c -->\\r\\n\\r\\n</body>\\r\\n</html>\\r\\n'\n"
     ]
    }
   ],
   "source": [
    "print(output[:1000:])   # 바이너리 데이터라 읽기 불편"
   ]
  },
  {
   "cell_type": "code",
   "execution_count": 70,
   "metadata": {},
   "outputs": [
    {
     "name": "stdout",
     "output_type": "stream",
     "text": [
      "<!DOCTYPE html>\n",
      "<html lang=\"ko\">\n",
      "<head>\n",
      "<!--[if lte IE 8]>\n",
      "<script>\n",
      "  location.replace('/support/explorer_upgrade.html');\n",
      "</script>\n",
      "<![endif]-->\n",
      "<meta charset=\"utf-8\"/>\n",
      "<title>한빛아카데미</title>\n",
      "<link rel=\"shortcut icon\" href=\"https://www.hanbit.co.kr/images/common/hanbit.ico\"> \n",
      "<meta http-equiv=\"X-UA-Compatible\" content=\"IE=Edge\" />\n",
      "<meta property=\"og:type\" content=\"website\"/>\n",
      "<meta property=\"og:title\" content=\"한빛아카데미\"/>\n",
      "<meta property=\"og:description\" content=\"이공계 분야 종합 교재 출판사로, 독자의 신뢰를 최우선 원칙으로 삼고 가르치는 교수님들과 배우는 학생들에게 든든한 조력자가 되도록 노력하고 있습니다.\"/>\n",
      "<meta property=\"og:image\" content=\"https://www.hanbit.co.kr/images/hanbitpubnet_logo.jpg\" />\n",
      "<meta property=\"og:url\" content=\"https://www.hanbit.co.kr/academy/\"/>\n",
      "<link rel=\"canonical\" href=\"https://www.hanbit.co.kr/academy/\" />\n",
      "<meta name=\"keywords\" content=\"한빛아카데미,책,전자책,ebook,대학교재,교재출판사,강의교안,교수회원,자격증,정보교과서\" />\n",
      "<meta name=\"description\" content=\"이공계 분야 종합 교재 출판사로, 독자의 신뢰를 최우선 원칙으로 삼고 가르치는 교수님들과 배우는 학생들에게 든든한 조력자가 되도록 노력하고 있습니다.\n"
     ]
    }
   ],
   "source": [
    "import requests         # 텍스트로 가져오므로 위 urllib보다 읽기 편함\n",
    "req = requests.get('https://www.hanbit.co.kr/academy/')\n",
    "print(req.text[:1000])"
   ]
  },
  {
   "cell_type": "code",
   "execution_count": null,
   "metadata": {},
   "outputs": [],
   "source": []
  }
 ],
 "metadata": {
  "kernelspec": {
   "display_name": "base",
   "language": "python",
   "name": "python3"
  },
  "language_info": {
   "codemirror_mode": {
    "name": "ipython",
    "version": 3
   },
   "file_extension": ".py",
   "mimetype": "text/x-python",
   "name": "python",
   "nbconvert_exporter": "python",
   "pygments_lexer": "ipython3",
   "version": "3.10.9"
  },
  "orig_nbformat": 4
 },
 "nbformat": 4,
 "nbformat_minor": 2
}
