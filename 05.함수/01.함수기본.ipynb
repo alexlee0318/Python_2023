{
 "cells": [
  {
   "attachments": {},
   "cell_type": "markdown",
   "metadata": {},
   "source": [
    "## 5-1. 함수 기본"
   ]
  },
  {
   "attachments": {},
   "cell_type": "markdown",
   "metadata": {},
   "source": [
    "- 함수의 개념은 JS와 다를게 없다 but 매개변수 차이있음\n",
    "- 파이썬은 호이스팅 불가하므로 def로 함수선언 먼저 하고 사용해야 함(JS는 호이스팅 가능)"
   ]
  },
  {
   "cell_type": "code",
   "execution_count": 7,
   "metadata": {},
   "outputs": [
    {
     "name": "stdout",
     "output_type": "stream",
     "text": [
      "안녕하세요\n",
      "안녕하세요\n",
      "안녕하세요\n"
     ]
    }
   ],
   "source": [
    "# 함수 만듦\n",
    "def print_3_times():\n",
    "    for _ in range(3):\n",
    "        print('안녕하세요')\n",
    "\n",
    "# 함수 호출\n",
    "print_3_times()"
   ]
  },
  {
   "cell_type": "code",
   "execution_count": 12,
   "metadata": {},
   "outputs": [],
   "source": [
    "# 함수를 사용하기 전에 반드시 함수가 정의되어 있어야 함\n",
    "# 호이스팅 불가- Error 케이스\n",
    "print_2_times()\n",
    "\n",
    "def print_2_times():\n",
    "    for _ in range(2):\n",
    "        print('안녕하세요')"
   ]
  },
  {
   "attachments": {},
   "cell_type": "markdown",
   "metadata": {},
   "source": [
    "- #### 매개변수(순서대로)\n",
    "    - 위치형 매개변수(positional argument), pos\n",
    "    - 가변 위치 매개변수(variable positional argument), *pos\n",
    "    - 키워드 매개변수(keyword argument), key=val\n",
    "    - 가변 키워드 매개변수(variable keyword argument), **key"
   ]
  },
  {
   "attachments": {},
   "cell_type": "markdown",
   "metadata": {},
   "source": [
    "- 매개변수"
   ]
  },
  {
   "cell_type": "code",
   "execution_count": 12,
   "metadata": {},
   "outputs": [
    {
     "name": "stdout",
     "output_type": "stream",
     "text": [
      "Hello world\n",
      "Hello world\n",
      "Hello world\n"
     ]
    }
   ],
   "source": [
    "def print_n_times(msg, n):\n",
    "    for _ in range(n):\n",
    "        print(msg)\n",
    "print_n_times('Hello world', 3)"
   ]
  },
  {
   "cell_type": "code",
   "execution_count": 13,
   "metadata": {},
   "outputs": [
    {
     "ename": "TypeError",
     "evalue": "print_n_times() takes 2 positional arguments but 3 were given",
     "output_type": "error",
     "traceback": [
      "\u001b[1;31m---------------------------------------------------------------------------\u001b[0m",
      "\u001b[1;31mTypeError\u001b[0m                                 Traceback (most recent call last)",
      "Cell \u001b[1;32mIn[13], line 1\u001b[0m\n\u001b[1;32m----> 1\u001b[0m print_n_times(\u001b[39m'\u001b[39;49m\u001b[39mHello world\u001b[39;49m\u001b[39m'\u001b[39;49m, \u001b[39m3\u001b[39;49m, \u001b[39m5\u001b[39;49m)\n",
      "\u001b[1;31mTypeError\u001b[0m: print_n_times() takes 2 positional arguments but 3 were given"
     ]
    }
   ],
   "source": [
    "print_n_times('Hello world', 3, 5)  # 위 결과에서 5 추가하면 에러"
   ]
  },
  {
   "attachments": {},
   "cell_type": "markdown",
   "metadata": {},
   "source": [
    "- 가변 매개변수"
   ]
  },
  {
   "cell_type": "code",
   "execution_count": 1,
   "metadata": {},
   "outputs": [
    {
     "name": "stdout",
     "output_type": "stream",
     "text": [
      "Hello\n",
      "world\n",
      "\n",
      "Hello\n",
      "world\n",
      "\n",
      "Hello\n",
      "world\n",
      "\n"
     ]
    }
   ],
   "source": [
    "def print_n_times(n, *values):\n",
    "    for _ in range(n):\n",
    "        for value in values:\n",
    "            print(value)        # 가변 매개변수로 전달된 내용 출력\n",
    "        print()             # indentation 확인\n",
    "\n",
    "print_n_times(3, 'Hello', 'world')"
   ]
  },
  {
   "attachments": {},
   "cell_type": "markdown",
   "metadata": {},
   "source": [
    "- 기본 매개변수"
   ]
  },
  {
   "cell_type": "code",
   "execution_count": 16,
   "metadata": {},
   "outputs": [],
   "source": [
    "def print_n_times(*values, n=3):\n",
    "    for _ in range(n):\n",
    "        for value in values:\n",
    "            print(value)        # 가변 매개변수로 전달된 내용 출력\n",
    "        print()        "
   ]
  },
  {
   "cell_type": "code",
   "execution_count": null,
   "metadata": {},
   "outputs": [],
   "source": [
    "# 문자, 숫자 자료형 모두 가능\n",
    "print_n_times(2, 'world', 3, 9,'hi', 2)"
   ]
  },
  {
   "cell_type": "code",
   "execution_count": null,
   "metadata": {},
   "outputs": [],
   "source": [
    "# 반복 출력 값(n = )값 반드시 지정!!\n",
    "print_n_times('Hello', 'world', n=2)  # 2번 반복하기"
   ]
  },
  {
   "attachments": {},
   "cell_type": "markdown",
   "metadata": {},
   "source": [
    "- 키워드 매개변수 : 값에 영향을 주지 않는다. \n",
    "    - 위치인수는 위치에 따라 영향 줌(앞 두 자리 중요-데이터가 와야할 곳)"
   ]
  },
  {
   "cell_type": "code",
   "execution_count": 27,
   "metadata": {},
   "outputs": [
    {
     "name": "stdout",
     "output_type": "stream",
     "text": [
      "Hello\n",
      "world\n",
      "\n",
      "Hello\n",
      "world\n",
      "\n"
     ]
    }
   ],
   "source": [
    "print_n_times('Hello', 'world', n=2)    # n 값을 지정-> 지정한 값으로 바뀜"
   ]
  },
  {
   "attachments": {},
   "cell_type": "markdown",
   "metadata": {},
   "source": [
    "    - 가변*이 없는경우 그대로 맵핑(할당)됨"
   ]
  },
  {
   "cell_type": "code",
   "execution_count": 28,
   "metadata": {},
   "outputs": [],
   "source": [
    "def test(a, b=10, c =100):\n",
    "    print(a+b+c)"
   ]
  },
  {
   "cell_type": "code",
   "execution_count": 29,
   "metadata": {},
   "outputs": [
    {
     "name": "stdout",
     "output_type": "stream",
     "text": [
      "60\n"
     ]
    }
   ],
   "source": [
    "test(10, 20, 30)    # 각각 a, b, c에 그대로 할당됨"
   ]
  },
  {
   "cell_type": "code",
   "execution_count": 32,
   "metadata": {},
   "outputs": [
    {
     "name": "stdout",
     "output_type": "stream",
     "text": [
      "310\n"
     ]
    }
   ],
   "source": [
    "test(a=10, b=100, c =200)   # 위치 매개변수도 키워드 매개변수같이 사용해도 됨"
   ]
  },
  {
   "cell_type": "code",
   "execution_count": 34,
   "metadata": {},
   "outputs": [
    {
     "name": "stdout",
     "output_type": "stream",
     "text": [
      "310\n"
     ]
    }
   ],
   "source": [
    "test(c=200, a=10, b=100)    # 키워드 매개변수(c,a,b) 순서로 바꿔도 값 같음 - 중요 x"
   ]
  },
  {
   "cell_type": "code",
   "execution_count": 35,
   "metadata": {},
   "outputs": [
    {
     "name": "stdout",
     "output_type": "stream",
     "text": [
      "230\n"
     ]
    }
   ],
   "source": [
    "test(20, c=200)     # 키워드 매개변수 중 일부만 전달할 수 있음"
   ]
  },
  {
   "attachments": {},
   "cell_type": "markdown",
   "metadata": {},
   "source": [
    "- ### return(반환)  : 함수를 실행했던 위치로 돌아가기 / 함수를 여기서 끝내기"
   ]
  },
  {
   "cell_type": "code",
   "execution_count": 36,
   "metadata": {},
   "outputs": [
    {
     "name": "stdout",
     "output_type": "stream",
     "text": [
      "Hello\n"
     ]
    }
   ],
   "source": [
    "value = input()\n",
    "print(value)"
   ]
  },
  {
   "cell_type": "code",
   "execution_count": 49,
   "metadata": {},
   "outputs": [
    {
     "name": "stdout",
     "output_type": "stream",
     "text": [
      "Hello\n"
     ]
    }
   ],
   "source": [
    "def return_test():\n",
    "    print('Hello')\n",
    "    return          # 호출된 곳으로 반환+ 끝내기\n",
    "    print('world')  # unreachable code : 절대로 값이 나오지 못함(흐리게 나옴)\n",
    "\n",
    "return_test()"
   ]
  },
  {
   "cell_type": "code",
   "execution_count": 44,
   "metadata": {},
   "outputs": [
    {
     "name": "stdout",
     "output_type": "stream",
     "text": [
      "Hello\n"
     ]
    }
   ],
   "source": [
    "# 자료를 가지고 리턴하는 경우-1 리턴 과정이 더 정확하게 과정이 보임\n",
    "def return_test2():\n",
    "    return 'Hello'\n",
    "\n",
    "val = return_test2()\n",
    "print(val)"
   ]
  },
  {
   "cell_type": "code",
   "execution_count": 51,
   "metadata": {},
   "outputs": [
    {
     "data": {
      "text/plain": [
       "'Hello'"
      ]
     },
     "execution_count": 51,
     "metadata": {},
     "output_type": "execute_result"
    }
   ],
   "source": [
    "# 자료를 가지고 리턴하는 경우-2     **왜 'Hello'로 출력?(따옴표)\n",
    "def return_test2():\n",
    "    return 'Hello'\n",
    "\n",
    "return_test2()"
   ]
  },
  {
   "cell_type": "code",
   "execution_count": 45,
   "metadata": {},
   "outputs": [
    {
     "name": "stdout",
     "output_type": "stream",
     "text": [
      "Hello\n",
      "None\n"
     ]
    }
   ],
   "source": [
    "val = return_test()\n",
    "print(val)          # 받은게 없어서 Non으로 나옴"
   ]
  },
  {
   "attachments": {},
   "cell_type": "markdown",
   "metadata": {},
   "source": [
    "- 여러개의 값을 return할 수 있다. -> 파이썬의 특장점"
   ]
  },
  {
   "cell_type": "code",
   "execution_count": 46,
   "metadata": {},
   "outputs": [
    {
     "name": "stdout",
     "output_type": "stream",
     "text": [
      "10 20 30\n"
     ]
    }
   ],
   "source": [
    "def return_test_multi():\n",
    "    return 10, 20, 30\n",
    "\n",
    "a, b, c = return_test_multi()\n",
    "print(a, b, c)"
   ]
  },
  {
   "attachments": {},
   "cell_type": "markdown",
   "metadata": {},
   "source": [
    "- 활용 사례"
   ]
  },
  {
   "cell_type": "code",
   "execution_count": 56,
   "metadata": {},
   "outputs": [
    {
     "data": {
      "text/plain": [
       "5050"
      ]
     },
     "execution_count": 56,
     "metadata": {},
     "output_type": "execute_result"
    }
   ],
   "source": [
    "# 범위를 매개변수로 받아, 범위 내부의 정수를 모두 더한 함수\n",
    "def sum_all(start, end):\n",
    "    # sum = 0\n",
    "    # for i in range(start, end+1):\n",
    "    #     sum += i\n",
    "    # return sum\n",
    "    return sum([i for i in range(start, end+1)])\n",
    "\n",
    "sum_all(1, 100)\n"
   ]
  },
  {
   "cell_type": "code",
   "execution_count": 63,
   "metadata": {},
   "outputs": [
    {
     "data": {
      "text/plain": [
       "2550"
      ]
     },
     "execution_count": 63,
     "metadata": {},
     "output_type": "execute_result"
    }
   ],
   "source": [
    "# 범위를 매개변수로 받아, 범위 내부의 짝수를 모두 더한 함수\n",
    "def sum_even_all(start, end):\n",
    "\n",
    "    return sum([i for i in range(start, end+1) if i % 2 == 0])\n",
    "\n",
    "sum_even_all(1, 100)"
   ]
  },
  {
   "cell_type": "code",
   "execution_count": 18,
   "metadata": {},
   "outputs": [
    {
     "ename": "SyntaxError",
     "evalue": "invalid syntax. Perhaps you forgot a comma? (186925765.py, line 3)",
     "output_type": "error",
     "traceback": [
      "\u001b[1;36m  Cell \u001b[1;32mIn[18], line 3\u001b[1;36m\u001b[0m\n\u001b[1;33m    return sum([[i for i in range(start, end+1) if i % 2 == 0]\u001b[0m\n\u001b[1;37m                ^\u001b[0m\n\u001b[1;31mSyntaxError\u001b[0m\u001b[1;31m:\u001b[0m invalid syntax. Perhaps you forgot a comma?\n"
     ]
    }
   ],
   "source": [
    "# 범위를 매개변수로 받아, 범위 내부의 홀수의 합과 짝수의 합을 반환하는 함수\n",
    "def even_odd(start, end):\n",
    "    return sum([[i for i in range(start, end+1) if i % 2 == 0] \n",
    "                 k for k in range(start, end+1) if i % 2 == 1])\n",
    "\n",
    "even_odd(1, 100)"
   ]
  },
  {
   "cell_type": "code",
   "execution_count": 66,
   "metadata": {},
   "outputs": [
    {
     "data": {
      "text/plain": [
       "(2550, 2500)"
      ]
     },
     "execution_count": 66,
     "metadata": {},
     "output_type": "execute_result"
    }
   ],
   "source": [
    "def even_odd(start, end):\n",
    "    return sum([i for i in range(start, end+1) if i % 2 == 0]), \\\n",
    "        sum([i for i in range(start, end+1) if i % 2 == 1]) \n",
    "\n",
    "even_odd(1, 100)"
   ]
  },
  {
   "attachments": {},
   "cell_type": "markdown",
   "metadata": {},
   "source": [
    "- 어떤 수의 약수의 합을 반환하는 함수"
   ]
  },
  {
   "cell_type": "code",
   "execution_count": 69,
   "metadata": {},
   "outputs": [
    {
     "data": {
      "text/plain": [
       "56"
      ]
     },
     "execution_count": 69,
     "metadata": {},
     "output_type": "execute_result"
    }
   ],
   "source": [
    "# 약수 구하기 / 합 구하기\n",
    "def sum_of_divisors(num):\n",
    "    return sum([i for i in range(1, num+1) if num % i == 0])    # range범위 주의!!\n",
    "\n",
    "sum_of_divisors(28)"
   ]
  },
  {
   "cell_type": "code",
   "execution_count": null,
   "metadata": {},
   "outputs": [],
   "source": [
    "    # sum = 0\n",
    "    # for i in range(start, end+1):\n",
    "    #     sum += i\n",
    "    # return sum\n",
    "    \n",
    "return sum([i for i in range(start, end+1)])\n"
   ]
  },
  {
   "attachments": {},
   "cell_type": "markdown",
   "metadata": {},
   "source": [
    "- 어떤 수가 대칭수인지 확인하는 함수"
   ]
  },
  {
   "cell_type": "code",
   "execution_count": 75,
   "metadata": {},
   "outputs": [
    {
     "data": {
      "text/plain": [
       "True"
      ]
     },
     "execution_count": 75,
     "metadata": {},
     "output_type": "execute_result"
    }
   ],
   "source": [
    "def is_palindrome(num):\n",
    "    return str(num) == str(num)[::-1]\n",
    "\n",
    "is_palindrome(12321)"
   ]
  },
  {
   "attachments": {},
   "cell_type": "markdown",
   "metadata": {},
   "source": [
    "- 세자리 수 두개를 곱한 결과가 대칭수일 때가장 큰 대칭수는?\n",
    "    - 100~999 중 두개의 수 곱하기\n",
    "    - palin인지 확인\n",
    "    - 두 수 곱하기"
   ]
  },
  {
   "attachments": {},
   "cell_type": "markdown",
   "metadata": {},
   "source": [
    "1. 대칭수의 리스트 만들기\n",
    "2."
   ]
  },
  {
   "cell_type": "code",
   "execution_count": 79,
   "metadata": {},
   "outputs": [
    {
     "data": {
      "text/plain": [
       "90909"
      ]
     },
     "execution_count": 79,
     "metadata": {},
     "output_type": "execute_result"
    }
   ],
   "source": [
    "palindromes = [i*k for k in range(i, 1000) for i in range(1, 1000) if is_palindrome(i*k)]\n",
    "max(palindromes)\n"
   ]
  },
  {
   "cell_type": "code",
   "execution_count": 78,
   "metadata": {},
   "outputs": [
    {
     "name": "stdout",
     "output_type": "stream",
     "text": [
      "913 993 906609\n"
     ]
    }
   ],
   "source": [
    "max_i, max_k, max_val = 0, 0, 0\n",
    "for i in range(100, 1000):\n",
    "    for k in range(i, 1000):\n",
    "        if is_palindrome(i*k):  # 팔린드롬인지 확인하는 함수\n",
    "            if i*k > max_val:\n",
    "                max_val, max_i, max_k = i*k, i, k   # 곱한값, i값, k값\n",
    "print(max_i, max_k, max_val)"
   ]
  },
  {
   "cell_type": "code",
   "execution_count": null,
   "metadata": {},
   "outputs": [],
   "source": [
    "# 1. 대칭수의 리스트 만들기\n",
    "palindromes = []\n",
    "for i in range(100, 1000):\n",
    "    for k in range(i, 1000):\n",
    "        if is_palindromes(i*k):\n",
    "            palindromes.append(i*k)\n",
    "    \n",
    "    if n > maxval:\n",
    "        maxval = n\n",
    "sum_of_divisors(12321)"
   ]
  }
 ],
 "metadata": {
  "kernelspec": {
   "display_name": "base",
   "language": "python",
   "name": "python3"
  },
  "language_info": {
   "codemirror_mode": {
    "name": "ipython",
    "version": 3
   },
   "file_extension": ".py",
   "mimetype": "text/x-python",
   "name": "python",
   "nbconvert_exporter": "python",
   "pygments_lexer": "ipython3",
   "version": "3.10.9"
  },
  "orig_nbformat": 4
 },
 "nbformat": 4,
 "nbformat_minor": 2
}
