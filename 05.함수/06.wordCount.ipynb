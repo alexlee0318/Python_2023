{
 "cells": [
  {
   "attachments": {},
   "cell_type": "markdown",
   "metadata": {},
   "source": [
    "### 도전문제 : 파일의 단어 갯수 세기\n",
    "    - 총 단어 수\n",
    "    - 고유 단어 수\n",
    "    - 가장 많이 사용된 단어 10개"
   ]
  },
  {
   "attachments": {},
   "cell_type": "markdown",
   "metadata": {},
   "source": [
    "- step 1. 파일에서 데이터 읽기"
   ]
  },
  {
   "cell_type": "code",
   "execution_count": 1,
   "metadata": {},
   "outputs": [],
   "source": [
    "with open ('data/lorem.txt') as file:\n",
    "    contents = file.read()"
   ]
  },
  {
   "attachments": {},
   "cell_type": "markdown",
   "metadata": {},
   "source": [
    "- step 2. 구둣점을 제거/ 소문자로 만들기"
   ]
  },
  {
   "cell_type": "code",
   "execution_count": 11,
   "metadata": {},
   "outputs": [],
   "source": [
    "clean_contents = contents.replace('.', '').replace(',', '') \\\n",
    "                         .replace('\"', '').replace(\"'\", '') \\\n",
    "                         .replace('?', '').replace('!', '') \\\n",
    "                         .replace('(', '').replace(')', '') \\\n",
    "                         .replace('\\n', ' ') \\\n",
    "                         .lower()               # \\n은 ' ' 공백으로 분리해야 붙지 않음"
   ]
  },
  {
   "cell_type": "code",
   "execution_count": 25,
   "metadata": {},
   "outputs": [],
   "source": [
    "import re, string\n",
    "\n",
    "# clean_contents = re.sub('['+string.puctuation+']', ' ', contents')\n",
    "# clean_contents= contents.replace.replace('\\n', ' ').lower\n",
    "\n",
    "clean_contents = re.sub('['+string.punctuation+']',' ',contents)\n",
    "clean_contents = clean_contents.replace('\\n','').lower()"
   ]
  },
  {
   "attachments": {},
   "cell_type": "markdown",
   "metadata": {},
   "source": [
    "- step 3. 공백으로 분리하여 words 리스트 만들기"
   ]
  },
  {
   "cell_type": "code",
   "execution_count": 12,
   "metadata": {},
   "outputs": [
    {
     "data": {
      "text/plain": [
       "['what', 'is', 'lorem', 'ipsum', 'lorem']"
      ]
     },
     "execution_count": 12,
     "metadata": {},
     "output_type": "execute_result"
    }
   ],
   "source": [
    "words = clean_contents.split()\n",
    "words[:5]"
   ]
  },
  {
   "cell_type": "code",
   "execution_count": 14,
   "metadata": {},
   "outputs": [
    {
     "name": "stdout",
     "output_type": "stream",
     "text": [
      "총 단어는 511개 이고, 고유 단어는 256입니다.\n"
     ]
    }
   ],
   "source": [
    "# 총 단어수\n",
    "print(f'총 단어는 {len(words):,d}개 이고, 고유 단어는 {len(set(words))}입니다.')"
   ]
  },
  {
   "attachments": {},
   "cell_type": "markdown",
   "metadata": {},
   "source": [
    "- Step 4. 고유 단어가 key이고, 빈도가 value인 딕셔너리 만들기"
   ]
  },
  {
   "cell_type": "code",
   "execution_count": 18,
   "metadata": {},
   "outputs": [
    {
     "data": {
      "text/plain": [
       "256"
      ]
     },
     "execution_count": 18,
     "metadata": {},
     "output_type": "execute_result"
    }
   ],
   "source": [
    "dic = {}\n",
    "for word in words:\n",
    "   for word in words:\n",
    "        dic[word] += 1\n",
    "    else:\n",
    "        dic[word] = 1\n",
    "len(dic)\n"
   ]
  },
  {
   "attachments": {},
   "cell_type": "markdown",
   "metadata": {},
   "source": [
    "- Step 5. 빈도의 내림차순으로 딕셔너리 정렬하기\n",
    "     - value값 기준 정렬 > https://blockdmask.tistory.com/566 참고"
   ]
  },
  {
   "cell_type": "code",
   "execution_count": 22,
   "metadata": {},
   "outputs": [
    {
     "data": {
      "text/plain": [
       "[('the', 28),\n",
       " ('of', 21),\n",
       " ('lorem', 19),\n",
       " ('ipsum', 19),\n",
       " ('a', 15),\n",
       " ('it', 11),\n",
       " ('and', 10),\n",
       " ('in', 10),\n",
       " ('is', 8),\n",
       " ('from', 8)]"
      ]
     },
     "execution_count": 22,
     "metadata": {},
     "output_type": "execute_result"
    }
   ],
   "source": [
    "# d2 = sorted(d.items(), key=lambda x: x[1], reverse=True)\n",
    "result = sorted(dic.items(), key=lambda x: x[1], reverse=True)\n",
    "result[:10]\n",
    "\n"
   ]
  },
  {
   "cell_type": "code",
   "execution_count": null,
   "metadata": {},
   "outputs": [],
   "source": []
  }
 ],
 "metadata": {
  "kernelspec": {
   "display_name": "base",
   "language": "python",
   "name": "python3"
  },
  "language_info": {
   "codemirror_mode": {
    "name": "ipython",
    "version": 3
   },
   "file_extension": ".py",
   "mimetype": "text/x-python",
   "name": "python",
   "nbconvert_exporter": "python",
   "pygments_lexer": "ipython3",
   "version": "3.10.9"
  },
  "orig_nbformat": 4
 },
 "nbformat": 4,
 "nbformat_minor": 2
}
