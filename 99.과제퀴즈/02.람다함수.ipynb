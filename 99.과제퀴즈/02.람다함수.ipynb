{
 "cells": [
  {
   "attachments": {},
   "cell_type": "markdown",
   "metadata": {},
   "source": [
    "## 람다함수 연습 \n",
    "    - 데이터 수집 ->>>>>>>> 정제 ->>>>> 데이터 분석 --> 인공지능\n",
    "        - 데이터수집과 정제 작업 비율이 80% 차지"
   ]
  },
  {
   "attachments": {},
   "cell_type": "markdown",
   "metadata": {},
   "source": [
    "- Q.1\n",
    "    - 다음의 리스트에서 제조사와 모델명을 분리해서 별도의 리스트를 만들어라.<br/>\n",
    "    단, 람다 함수를 사용."
   ]
  },
  {
   "cell_type": "code",
   "execution_count": 1,
   "metadata": {},
   "outputs": [],
   "source": [
    "cars = ['buick skylark 320', 'plymouth satellite', 'amc reble sst', 'ford torino']\n",
    "# 제조사: buick , plymouth, amc, ford \n",
    "# ==> 블랭크로 스플릿 :  x.split()[0]\n",
    "\n",
    "# 모델명\n",
    "# torino는 x.split()[1]     --> string \n",
    "# reble sst x.split()[1:]   --> list   -> ''.join(list) 로 string으로 바꿔주기\n"
   ]
  },
  {
   "cell_type": "code",
   "execution_count": 2,
   "metadata": {},
   "outputs": [
    {
     "data": {
      "text/plain": [
       "['buick', 'plymouth', 'amc', 'ford']"
      ]
     },
     "execution_count": 2,
     "metadata": {},
     "output_type": "execute_result"
    }
   ],
   "source": [
    "\n",
    "manufacturers = list(map(lambda x : x.split()[0], cars)) # 결과는 문자열로 출력\n",
    "manufacturers\n"
   ]
  },
  {
   "cell_type": "code",
   "execution_count": 13,
   "metadata": {},
   "outputs": [
    {
     "data": {
      "text/plain": [
       "['skylark 320', 'satellite', 'reble sst', 'torino']"
      ]
     },
     "execution_count": 13,
     "metadata": {},
     "output_type": "execute_result"
    }
   ],
   "source": [
    "models = (list(map(lambda x :          x.split()[1:], cars))) # 결과가 리스트로 출력\n",
    "models = (list(map(lambda x : ' '.join(x.split()[1:]), cars))) # join추가 : 리스트-> 문자열로 바꿈\n",
    "models\n",
    "# dd = ''.join(models)\n",
    "# print(dd)\n",
    "# models.join(list)"
   ]
  },
  {
   "cell_type": "code",
   "execution_count": null,
   "metadata": {},
   "outputs": [],
   "source": []
  }
 ],
 "metadata": {
  "kernelspec": {
   "display_name": "base",
   "language": "python",
   "name": "python3"
  },
  "language_info": {
   "codemirror_mode": {
    "name": "ipython",
    "version": 3
   },
   "file_extension": ".py",
   "mimetype": "text/x-python",
   "name": "python",
   "nbconvert_exporter": "python",
   "pygments_lexer": "ipython3",
   "version": "3.10.9"
  },
  "orig_nbformat": 4
 },
 "nbformat": 4,
 "nbformat_minor": 2
}
