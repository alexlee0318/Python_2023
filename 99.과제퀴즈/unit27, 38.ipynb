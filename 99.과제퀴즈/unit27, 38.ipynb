{
 "cells": [
  {
   "attachments": {},
   "cell_type": "markdown",
   "metadata": {},
   "source": [
    "- u27. 파일에서 10자 이하인 단어 개수 세기\n",
    "    - 단어가 줄 단위로 저장된 words.txt 파일이 주어집니다.  ---->> file.readlines()\n",
    "    - 다음 소스 코드를 완성하여 10자 이하인 단어의 개수가 출력되게 만드세요.\n",
    "        - 참고 27.2.4번 내용) https://dojang.io/mod/page/view.php?id=2326\n"
   ]
  },
  {
   "cell_type": "code",
   "execution_count": null,
   "metadata": {},
   "outputs": [],
   "source": [
    "anonymously\n",
    "compatibility\n",
    "dashboard\n",
    "experience\n",
    "photography\n",
    "spotlight\n",
    "warehouse"
   ]
  },
  {
   "cell_type": "code",
   "execution_count": null,
   "metadata": {},
   "outputs": [],
   "source": [
    "# with open('words.txt', 'w') as file:                     \n",
    "#     count = 0\n",
    "#     words = file.readlines()\n",
    "# for word in words:\n",
    "#     if len(word.strip('\\n')) <= 10:\n",
    "#         count += 1       # 4"
   ]
  },
  {
   "attachments": {},
   "cell_type": "markdown",
   "metadata": {},
   "source": [
    "- ### 27.6 특정 문자가 들어있는 단어 찾기\n",
    "    - 문자열이 저장된 words.txt 파일이 주어짐(한줄로 저장되어있는)\n",
    "    -  파일에서 문자 c가 포함된 단어를 각 줄에 출력하는 프로그램을 만드세요\n",
    "    - 단어를 출력할 때는 등장한 순서대로 출력해야 하며\n",
    "    - ,(콤마)와 .(점)은 출력하지 않아야 합니다.\n"
   ]
  },
  {
   "attachments": {},
   "cell_type": "markdown",
   "metadata": {},
   "source": [
    "###### Fortunately, however, for the reputation of Asteroid B-612, a Turkish dictator made a law that his subjects, under pain of death, should change to European costume. So in 1920 the astronomer gave his demonstration all over again, dressed with impressive style and elegance. And this time everybody accepted his report."
   ]
  },
  {
   "attachments": {},
   "cell_type": "markdown",
   "metadata": {},
   "source": [
    "\n",
    "정규표현식 쓰는게 제일 좋음 (re)\n",
    "어려우면 replace 메소드 써도 됨.(method chaining)\n"
   ]
  },
  {
   "cell_type": "code",
   "execution_count": 9,
   "metadata": {},
   "outputs": [
    {
     "ename": "TypeError",
     "evalue": "argument of type 'builtin_function_or_method' is not iterable",
     "output_type": "error",
     "traceback": [
      "\u001b[1;31m---------------------------------------------------------------------------\u001b[0m",
      "\u001b[1;31mTypeError\u001b[0m                                 Traceback (most recent call last)",
      "Cell \u001b[1;32mIn[9], line 14\u001b[0m\n\u001b[0;32m     11\u001b[0m word \u001b[39m=\u001b[39m word\u001b[39m.\u001b[39mstrip(\u001b[39m'\u001b[39m\u001b[39m.,\u001b[39m\u001b[39m'\u001b[39m)\u001b[39m.\u001b[39mlower\n\u001b[0;32m     12\u001b[0m \u001b[39m# word.strip(string.puctuation)\u001b[39;00m\n\u001b[1;32m---> 14\u001b[0m \u001b[39mif\u001b[39;00m \u001b[39m'\u001b[39;49m\u001b[39mc\u001b[39;49m\u001b[39m'\u001b[39;49m \u001b[39min\u001b[39;49;00m word:\n\u001b[0;32m     15\u001b[0m     \u001b[39mprint\u001b[39m(word)\n",
      "\u001b[1;31mTypeError\u001b[0m: argument of type 'builtin_function_or_method' is not iterable"
     ]
    }
   ],
   "source": [
    "with open('words.txt') as file:\n",
    "    words = file.read()\n",
    "\n",
    "    # clean_words = words.replace('.', '').replace(',', '') \\\n",
    "    #                         .replace('\"', '').replace(\"'\", '') \\\n",
    "    #                         .replace('?', '').replace('!', '') \\\n",
    "    #                         .replace('(', '').replace(')', '') \\\n",
    "    #                         .replace('\\n', ' ') \\\n",
    "                            \n",
    "    for word in words.split() :\n",
    "        word = word.strip('.,').lower\n",
    "        # 정규표현식(re)\n",
    "        # word.strip(string.puctuation)\n",
    "        # replace\n",
    "\n",
    "        if 'c' in word:\n",
    "            print(word)"
   ]
  },
  {
   "cell_type": "code",
   "execution_count": null,
   "metadata": {},
   "outputs": [],
   "source": [
    "import re, string\n",
    "clean_words = re.sub('['+string.punctuation+']',' ',words)\n",
    "clean_words = clean_words.replace('\\n','')"
   ]
  },
  {
   "attachments": {},
   "cell_type": "markdown",
   "metadata": {},
   "source": [
    "- u38.6 연습)파일 예외처리"
   ]
  },
  {
   "cell_type": "code",
   "execution_count": 2,
   "metadata": {},
   "outputs": [
    {
     "name": "stdout",
     "output_type": "stream",
     "text": [
      "파일이 없습니다\n"
     ]
    }
   ],
   "source": [
    "#연습문제\n",
    "try:\n",
    "    file = open('maria.txt', 'r')\n",
    "except FileNotFoundError:\n",
    "    print('파일이 없습니다')\n",
    "else:\n",
    "    s =file.read()\n",
    "    file.close()"
   ]
  },
  {
   "attachments": {},
   "cell_type": "markdown",
   "metadata": {},
   "source": [
    "- u38.7 palindrome(회문)이 아니면 예외 발생시키기\n",
    "    - 객체지향 사용(파이썬에서는 어려운 개념 but 자바에서 기본)"
   ]
  },
  {
   "cell_type": "code",
   "execution_count": 10,
   "metadata": {},
   "outputs": [],
   "source": [
    "class NotPalindromeError(Exception):    # NotPalindromeError라는 객체 만들려고 함.\n",
    "    def __init__(self):     # init은 constructor (생성자 함수)\n",
    "        super().__init__('회문이 아닙니다.')    # .예외처리\\02.고급예외>"
   ]
  },
  {
   "cell_type": "code",
   "execution_count": 12,
   "metadata": {},
   "outputs": [],
   "source": [
    "def palindrome(s):\n",
    "    if s == s[::-1]:\n",
    "        print(s)\n",
    "        return\n",
    "    raise NotPalindromeError"
   ]
  },
  {
   "cell_type": "code",
   "execution_count": 15,
   "metadata": {},
   "outputs": [
    {
     "name": "stdout",
     "output_type": "stream",
     "text": [
      "madam\n"
     ]
    }
   ],
   "source": [
    "word = input()      # madam\n",
    "try:\n",
    "    palindrome(word)\n",
    "except NotPalindromeError as e:\n",
    "    print(e)"
   ]
  },
  {
   "cell_type": "code",
   "execution_count": null,
   "metadata": {},
   "outputs": [],
   "source": []
  }
 ],
 "metadata": {
  "kernelspec": {
   "display_name": "base",
   "language": "python",
   "name": "python3"
  },
  "language_info": {
   "codemirror_mode": {
    "name": "ipython",
    "version": 3
   },
   "file_extension": ".py",
   "mimetype": "text/x-python",
   "name": "python",
   "nbconvert_exporter": "python",
   "pygments_lexer": "ipython3",
   "version": "3.10.10"
  },
  "orig_nbformat": 4
 },
 "nbformat": 4,
 "nbformat_minor": 2
}
