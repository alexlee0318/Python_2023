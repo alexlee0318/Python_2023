{
 "cells": [
  {
   "attachments": {},
   "cell_type": "markdown",
   "metadata": {},
   "source": [
    "### 6-1. 예외(Exception)처리\n",
    "    - RunTime 에러 > index 에러, value에러\n",
    "    - 등등 에러를 통칭..."
   ]
  },
  {
   "attachments": {},
   "cell_type": "markdown",
   "metadata": {},
   "source": [
    "- 오류: 프로그램 실행 이전에 발생하는 오류"
   ]
  },
  {
   "cell_type": "code",
   "execution_count": 1,
   "metadata": {},
   "outputs": [
    {
     "ename": "TypeError",
     "evalue": "unsupported operand type(s) for +=: 'builtin_function_or_method' and 'int'",
     "output_type": "error",
     "traceback": [
      "\u001b[1;31m---------------------------------------------------------------------------\u001b[0m",
      "\u001b[1;31mTypeError\u001b[0m                                 Traceback (most recent call last)",
      "Cell \u001b[1;32mIn[1], line 2\u001b[0m\n\u001b[0;32m      1\u001b[0m \u001b[39mfor\u001b[39;00m i \u001b[39min\u001b[39;00m \u001b[39mrange\u001b[39m(\u001b[39m1\u001b[39m, \u001b[39m101\u001b[39m):\n\u001b[1;32m----> 2\u001b[0m     \u001b[39msum\u001b[39m \u001b[39m+\u001b[39m\u001b[39m=\u001b[39m i\n\u001b[0;32m      4\u001b[0m \u001b[39mprint\u001b[39m(\u001b[39msum\u001b[39m)\n",
      "\u001b[1;31mTypeError\u001b[0m: unsupported operand type(s) for +=: 'builtin_function_or_method' and 'int'"
     ]
    }
   ],
   "source": [
    "for i in range(1, 101):\n",
    "    sum += i\n",
    "    \n",
    "print(sum)"
   ]
  },
  {
   "attachments": {},
   "cell_type": "markdown",
   "metadata": {},
   "source": [
    "- try -except로 예외를 관리 (JS, Java 에서는 try catch)\n",
    "        - 예외가 발생해도 프로그램이 중지되지 않도록 함"
   ]
  },
  {
   "cell_type": "code",
   "execution_count": 2,
   "metadata": {},
   "outputs": [
    {
     "ename": "IndexError",
     "evalue": "list index out of range",
     "output_type": "error",
     "traceback": [
      "\u001b[1;31m---------------------------------------------------------------------------\u001b[0m",
      "\u001b[1;31mIndexError\u001b[0m                                Traceback (most recent call last)",
      "Cell \u001b[1;32mIn[2], line 2\u001b[0m\n\u001b[0;32m      1\u001b[0m a\u001b[39m=\u001b[39m [\u001b[39m1\u001b[39m, \u001b[39m2\u001b[39m, \u001b[39m3\u001b[39m]\n\u001b[1;32m----> 2\u001b[0m a[\u001b[39m3\u001b[39;49m]\n",
      "\u001b[1;31mIndexError\u001b[0m: list index out of range"
     ]
    }
   ],
   "source": [
    "a= [1, 2, 3]\n",
    "a[3]"
   ]
  },
  {
   "attachments": {},
   "cell_type": "markdown",
   "metadata": {},
   "source": [
    "- 조건문으로 예외 발생 저지하기"
   ]
  },
  {
   "cell_type": "code",
   "execution_count": 3,
   "metadata": {},
   "outputs": [
    {
     "name": "stdout",
     "output_type": "stream",
     "text": [
      "IndexError 예외 발생\n"
     ]
    }
   ],
   "source": [
    "try:\n",
    "    print(a[3])\n",
    "except:\n",
    "    print('IndexError 예외 발생')"
   ]
  },
  {
   "cell_type": "code",
   "execution_count": 5,
   "metadata": {},
   "outputs": [
    {
     "name": "stdout",
     "output_type": "stream",
     "text": [
      "index 3은 없는 인덱스입니다.\n"
     ]
    }
   ],
   "source": [
    "if 3 >= len(a):\n",
    "    print('index 3은 없는 인덱스입니다.')\n",
    "else:\n",
    "    print(a[3])"
   ]
  },
  {
   "attachments": {},
   "cell_type": "markdown",
   "metadata": {},
   "source": [
    "- 예외의 에러 메시지 받기"
   ]
  },
  {
   "cell_type": "code",
   "execution_count": 7,
   "metadata": {},
   "outputs": [
    {
     "name": "stdout",
     "output_type": "stream",
     "text": [
      "list index out of range\n"
     ]
    }
   ],
   "source": [
    "try:\n",
    "    print(a[3])\n",
    "except Exception as e:\n",
    "    print(e)                # list index out of range"
   ]
  },
  {
   "cell_type": "code",
   "execution_count": 9,
   "metadata": {},
   "outputs": [
    {
     "name": "stdout",
     "output_type": "stream",
     "text": [
      "division by zero\n"
     ]
    }
   ],
   "source": [
    "try:\n",
    "    x = 0\n",
    "    y = 100 / x\n",
    "    print(y)\n",
    "except Exception as e:\n",
    "    print(e)                #  division by zero"
   ]
  },
  {
   "cell_type": "code",
   "execution_count": 13,
   "metadata": {},
   "outputs": [
    {
     "name": "stdout",
     "output_type": "stream",
     "text": [
      "division by zero\n"
     ]
    }
   ],
   "source": [
    "try:\n",
    "    x = int(input())\n",
    "    y = 100 / x\n",
    "    print(y, a[x])\n",
    "except Exception as e:\n",
    "    print(e)                    # 값에 따라 여러 에러 발생"
   ]
  },
  {
   "attachments": {},
   "cell_type": "markdown",
   "metadata": {},
   "source": [
    "- 특정 예외만 처리하도록 하기(백만불짜리 프로그램 만들려면 쓰세요...굳이..이렇게 예외를 많이...ㅋ)"
   ]
  },
  {
   "cell_type": "code",
   "execution_count": 17,
   "metadata": {},
   "outputs": [
    {
     "name": "stdout",
     "output_type": "stream",
     "text": [
      "0으로 나눌 수 없습니다.\n"
     ]
    }
   ],
   "source": [
    "try:\n",
    "    x = int(input())\n",
    "    y = 100 / x\n",
    "    print(y, a[x])\n",
    "except ValueError:      # 4d 입력 시\n",
    "    print('입력값 틀림. 다시 입력하세요.')\n",
    "except IndexError:      # 5 입력 시\n",
    "    print('인덱스 에러 발생')\n",
    "except ZeroDivisionError:       # 0 입력 시\n",
    "    print('0으로 나눌 수 없습니다.')"
   ]
  },
  {
   "attachments": {},
   "cell_type": "markdown",
   "metadata": {},
   "source": [
    "- finally"
   ]
  },
  {
   "cell_type": "code",
   "execution_count": 25,
   "metadata": {},
   "outputs": [
    {
     "name": "stdout",
     "output_type": "stream",
     "text": [
      "1.5625\n",
      "예외 발생 여부와 관계없이 출력됨\n"
     ]
    }
   ],
   "source": [
    "try:\n",
    "    x = int(input())\n",
    "    y = 100 / x\n",
    "    print(y)\n",
    "except Exception as e:\n",
    "    print(e)\n",
    "finally:\n",
    "    print('예외 발생 여부와 관계없이 출력됨')\n",
    "    # 3d, 0, 5 등 입력해봄.. 각각 다른 에러 발생"
   ]
  }
 ],
 "metadata": {
  "kernelspec": {
   "display_name": "base",
   "language": "python",
   "name": "python3"
  },
  "language_info": {
   "codemirror_mode": {
    "name": "ipython",
    "version": 3
   },
   "file_extension": ".py",
   "mimetype": "text/x-python",
   "name": "python",
   "nbconvert_exporter": "python",
   "pygments_lexer": "ipython3",
   "version": "3.10.9"
  },
  "orig_nbformat": 4
 },
 "nbformat": 4,
 "nbformat_minor": 2
}
