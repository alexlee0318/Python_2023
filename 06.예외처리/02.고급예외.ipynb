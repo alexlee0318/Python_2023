{
 "cells": [
  {
   "attachments": {},
   "cell_type": "markdown",
   "metadata": {},
   "source": [
    "### 6-2. 고급예외\n",
    "    - 무슨 예외인지 모를 땐 Exception을 사용한다.\n",
    "    - Exception은 class(클래스)이다."
   ]
  },
  {
   "cell_type": "code",
   "execution_count": 1,
   "metadata": {},
   "outputs": [
    {
     "name": "stdout",
     "output_type": "stream",
     "text": [
      "<class 'IndexError'> list index out of range\n"
     ]
    }
   ],
   "source": [
    "a=[1, 2, 3]\n",
    "try:\n",
    "    print(a[3])\n",
    "except Exception as e:\n",
    "    print(type(e), e)"
   ]
  },
  {
   "cell_type": "code",
   "execution_count": 2,
   "metadata": {},
   "outputs": [
    {
     "name": "stdout",
     "output_type": "stream",
     "text": [
      "예외발생\n"
     ]
    }
   ],
   "source": [
    "try:\n",
    "    x = int(input())\n",
    "    y = 100 / x\n",
    "    print(y, a[x])\n",
    "\n",
    "except ValueError:      # 4d 입력 시\n",
    "    print('입력값 틀림. 다시 입력하세요.')\n",
    "except IndexError:      # 5 입력 시\n",
    "    print('인덱스 에러 발생')\n",
    "except ZeroDivisionError:       # 0 입력 시\n",
    "    print('0으로 나눌 수 없습니다.')\n",
    "\n",
    "except Exception:       # 예외의 어머니Exception를 맨 아래에(개별에러와 같이 사용 시)\n",
    "    print('예외발생')       # ->> 마지막에서 잡지 못한 에러도 최종 잡아줌"
   ]
  },
  {
   "attachments": {},
   "cell_type": "markdown",
   "metadata": {},
   "source": [
    "- 예외 발생(raise) : 너무 고급기술이라 지금 단계에서는 거의 쓸 일 x\n",
    "     - raise Exception : 의도적으로 예외를 발생시킴"
   ]
  },
  {
   "cell_type": "markdown",
   "metadata": {},
   "source": []
  },
  {
   "cell_type": "markdown",
   "metadata": {},
   "source": []
  },
  {
   "cell_type": "code",
   "execution_count": null,
   "metadata": {},
   "outputs": [],
   "source": [
    "# 4. a + b + c = 1000을 만족하는 피타고라스 수 (단, a < b < c)\n",
    "for a in range(1, 1001):\n",
    "    for b in range(1, 1001):\n",
    "        c = 1000 - a - b\n",
    "        if a*a + b*b == c*c:\n",
    "            print(a, b, c)\n",
    "            break               # 안쪽에 있는 반복문만 탈출"
   ]
  },
  {
   "cell_type": "code",
   "execution_count": 3,
   "metadata": {},
   "outputs": [
    {
     "name": "stdout",
     "output_type": "stream",
     "text": [
      "200 375 425\n"
     ]
    }
   ],
   "source": [
    "try:\n",
    "    for a in range(1, 1001):\n",
    "        for b in range(1, 1001):\n",
    "            c = 1000 - a - b\n",
    "            if a*a + b*b == c*c:\n",
    "                print(a, b, c)\n",
    "                raise Exception     # 의도적으로 예외를 발생시켜 모든 Loop 탈출\n",
    "except:\n",
    "    pass"
   ]
  }
 ],
 "metadata": {
  "kernelspec": {
   "display_name": "base",
   "language": "python",
   "name": "python3"
  },
  "language_info": {
   "codemirror_mode": {
    "name": "ipython",
    "version": 3
   },
   "file_extension": ".py",
   "mimetype": "text/x-python",
   "name": "python",
   "nbconvert_exporter": "python",
   "pygments_lexer": "ipython3",
   "version": "3.10.10"
  },
  "orig_nbformat": 4
 },
 "nbformat": 4,
 "nbformat_minor": 2
}
