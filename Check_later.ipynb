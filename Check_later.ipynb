{
 "cells": [
  {
   "attachments": {},
   "cell_type": "markdown",
   "metadata": {},
   "source": [
    "# 0330"
   ]
  },
  {
   "attachments": {},
   "cell_type": "markdown",
   "metadata": {},
   "source": [
    "1. even_odd 공부하기\n",
    "2. for문 어려움\n",
    "3. nested 어려움"
   ]
  },
  {
   "cell_type": "code",
   "execution_count": 4,
   "metadata": {},
   "outputs": [
    {
     "data": {
      "text/plain": [
       "['False',\n",
       " 'None',\n",
       " 'True',\n",
       " 'and',\n",
       " 'as',\n",
       " 'assert',\n",
       " 'async',\n",
       " 'await',\n",
       " 'break',\n",
       " 'class',\n",
       " 'continue',\n",
       " 'def',\n",
       " 'del',\n",
       " 'elif',\n",
       " 'else',\n",
       " 'except',\n",
       " 'finally',\n",
       " 'for',\n",
       " 'from',\n",
       " 'global',\n",
       " 'if',\n",
       " 'import',\n",
       " 'in',\n",
       " 'is',\n",
       " 'lambda',\n",
       " 'nonlocal',\n",
       " 'not',\n",
       " 'or',\n",
       " 'pass',\n",
       " 'raise',\n",
       " 'return',\n",
       " 'try',\n",
       " 'while',\n",
       " 'with',\n",
       " 'yield']"
      ]
     },
     "execution_count": 4,
     "metadata": {},
     "output_type": "execute_result"
    }
   ],
   "source": [
    "#키워드 보기 좋게 정렬하기, 총 몇개인지?\n",
    "import keyword\n",
    "keyword.kwlist\n",
    "# print(keyword.kwlist, len(keyword))"
   ]
  },
  {
   "cell_type": "code",
   "execution_count": null,
   "metadata": {},
   "outputs": [],
   "source": [
    ">>> not b != 20 and a > 5\n",
    "False"
   ]
  },
  {
   "cell_type": "code",
   "execution_count": 3,
   "metadata": {},
   "outputs": [
    {
     "name": "stdout",
     "output_type": "stream",
     "text": [
      "False\n"
     ]
    }
   ],
   "source": [
    "korean = 92\n",
    "english = 47\n",
    "mathematics = 86\n",
    "science = 81\n",
    "print(korean >= 50 and english >= 50 and mathematics >= 50 and science >= 50)\n",
    "# korean >= 50, english >= 50, mathematics >= 50, science >= 50"
   ]
  },
  {
   "cell_type": "code",
   "execution_count": null,
   "metadata": {},
   "outputs": [],
   "source": [
    "#정답과 오답(아래 주석처리 오답)\n",
    "kor, eng, math, sci = map(int, input().split())\n",
    "print((kor >= 90) and (eng > 80) and (math > 85) and (sci >= 80))\n",
    "\n",
    "\n",
    "# kor, eng, math, sci = map(int, input().split())\n",
    "# if kor=>90 and eng>80 and math>85 and sci=>80:\n",
    "#     print('True')\n",
    "# else:\n",
    "#     print('False')"
   ]
  },
  {
   "cell_type": "markdown",
   "metadata": {},
   "source": [
    "- 요소추가\n",
    "    - append: 요소 하나를 맨 뒤에 추가\n",
    "    - insert: 특정 인덱스테 요소 추가\n",
    "    - extend: 리스트를 연결하여 추가(확장)"
   ]
  },
  {
   "cell_type": "code",
   "execution_count": null,
   "metadata": {},
   "outputs": [],
   "source": [
    "\"\"\"\"Hello\", Python\"\"\"\n",
    "#왜 맞는 문자열인지?"
   ]
  },
  {
   "cell_type": "markdown",
   "metadata": {},
   "source": [
    "값이 다를 때를 판단하려면 비교 연산자의 !=을 사용하면 됩니다. 여기서는 x가 정수 10과 값이 다른지 비교하므로 !=을 사용했습니다. 만약 객체를 비교해야 한다면 if 조건문에서 is, is not 연산자를 사용해도 됩니다."
   ]
  },
  {
   "cell_type": "code",
   "execution_count": 6,
   "metadata": {},
   "outputs": [
    {
     "name": "stdout",
     "output_type": "stream",
     "text": [
      "5000 Cash1000\n",
      "4000\n"
     ]
    }
   ],
   "source": [
    "price, coupon = map(int, input().split())\n",
    "print(price, (f'Cash{coupon}'))\n",
    "result= price - coupon\n",
    "print(result)\n"
   ]
  },
  {
   "cell_type": "code",
   "execution_count": 16,
   "metadata": {},
   "outputs": [
    {
     "name": "stdout",
     "output_type": "stream",
     "text": [
      "500\n",
      "Cash100\n",
      "400\n",
      "\n"
     ]
    }
   ],
   "source": [
    "price, coupon = map(int, input().split())\n",
    "result= price - coupon\n",
    "cash_coupon = 'Cash'+str(coupon)\n",
    "print(f'{price}\\n{cash_coupon}\\n{result}\\n')"
   ]
  },
  {
   "cell_type": "code",
   "execution_count": 9,
   "metadata": {},
   "outputs": [
    {
     "name": "stdout",
     "output_type": "stream",
     "text": [
      "Price: 5000, Coupon: Cash1000, Result: 4000\n"
     ]
    }
   ],
   "source": [
    "price, coupon = map(int, input().split())\n",
    "result = price - coupon\n",
    "print((f'Price: {price}, Coupon: Cash{coupon}, Result: {result}'), end='\\n')"
   ]
  },
  {
   "cell_type": "code",
   "execution_count": 1,
   "metadata": {},
   "outputs": [
    {
     "ename": "SyntaxError",
     "evalue": "invalid syntax (3582064245.py, line 1)",
     "output_type": "error",
     "traceback": [
      "\u001b[1;36m  Cell \u001b[1;32mIn[1], line 1\u001b[1;36m\u001b[0m\n\u001b[1;33m    <pre>원본 그대로 보여주기</pre>\u001b[0m\n\u001b[1;37m    ^\u001b[0m\n\u001b[1;31mSyntaxError\u001b[0m\u001b[1;31m:\u001b[0m invalid syntax\n"
     ]
    }
   ],
   "source": [
    "<pre>원본 그대로 보여주기</pre>"
   ]
  },
  {
   "cell_type": "code",
   "execution_count": null,
   "metadata": {},
   "outputs": [],
   "source": [
    "#쿠폰 가격 문제\n",
    "price = int(input())\n"
   ]
  },
  {
   "cell_type": "code",
   "execution_count": 3,
   "metadata": {},
   "outputs": [
    {
     "name": "stdout",
     "output_type": "stream",
     "text": [
      "잘못된 점수\n"
     ]
    }
   ],
   "source": [
    "# 점수 80점 이상이면 합격하는 프로그램 만들기\n",
    "kor, eng, mat, sci = map(int, input().split())\n",
    "if 0 <= kor <= 100 and 0 <= eng <= 1000 and 0 <= mat <= 100 and 0 <= sci <= 100:\n",
    "   # pass부분 만들기\n",
    "   avg = (kor + eng + mat + sci) / 4\n",
    "   if avg >= 80:\n",
    "       print('합격')\n",
    "   else:\n",
    "        print('불합격')\n",
    "else:\n",
    "    print('잘못된 점수')"
   ]
  },
  {
   "cell_type": "code",
   "execution_count": 10,
   "metadata": {},
   "outputs": [
    {
     "name": "stdout",
     "output_type": "stream",
     "text": [
      "합격\n"
     ]
    }
   ],
   "source": [
    "# 위 문제를 list이용해서 개선된 풀이버전\n",
    "# 과목 수 상관없이 사용 가능한 식\n",
    "scores = list(map(int, input().split()))\n",
    "if min(scores) < 0 or max(scores) > 100:\n",
    "    print('잘못된 점수')\n",
    "else:\n",
    "    avg = sum(scores) / len(scores)\n",
    "    if avg >= 80:\n",
    "        print('합격')\n",
    "    else:\n",
    "        print('불합격')"
   ]
  },
  {
   "attachments": {},
   "cell_type": "markdown",
   "metadata": {},
   "source": [
    "표준 입력으로 나이(만 나이)가 입력됩니다(입력 값은 7 이상 입력됨). 교통카드 시스템에서 시내버스 요금은 다음과 같으며 각 나이에 맞게 요금을 차감한 뒤 잔액이 출력되게 만드세요(if, elif 사용). 현재 교통카드에는 9,000원이 들어있습니다.\n",
    "\n",
    "어린이(초등학생, 만 7세 이상 12세 이하): 650원\n",
    "청소년(중∙고등학생, 만 13세 이상 18세 이하): 1,050원\n",
    "어른(일반, 만 19세 이상): 1,250원"
   ]
  },
  {
   "cell_type": "code",
   "execution_count": 13,
   "metadata": {},
   "outputs": [
    {
     "name": "stdout",
     "output_type": "stream",
     "text": [
      "30살의 요금은 1,250원이고, 잔액은 7,750원입니다.\n"
     ]
    }
   ],
   "source": [
    "balance = 9000\n",
    "age = int(input())\n",
    "\n",
    "if 7 <= age <= 12:\n",
    "    fare = 650\n",
    "elif 13 <= age <= 18:\n",
    "    fare = 1050\n",
    "elif age >= 19:\n",
    "    fare = 1250\n",
    "else:\n",
    "    fare = 0\n",
    "balance -= fare     # 잔액 계산/ indentation 맨 앞에 와야 함***\n",
    "print(f'{age}살의 요금은 {fare:,d}원이고, 잔액은 {balance:,d}원입니다.')"
   ]
  },
  {
   "cell_type": "code",
   "execution_count": null,
   "metadata": {},
   "outputs": [],
   "source": []
  }
 ],
 "metadata": {
  "kernelspec": {
   "display_name": "base",
   "language": "python",
   "name": "python3"
  },
  "language_info": {
   "codemirror_mode": {
    "name": "ipython",
    "version": 3
   },
   "file_extension": ".py",
   "mimetype": "text/x-python",
   "name": "python",
   "nbconvert_exporter": "python",
   "pygments_lexer": "ipython3",
   "version": "3.10.9"
  },
  "orig_nbformat": 4
 },
 "nbformat": 4,
 "nbformat_minor": 2
}
