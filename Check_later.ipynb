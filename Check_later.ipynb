{
 "cells": [
  {
   "attachments": {},
   "cell_type": "markdown",
   "metadata": {},
   "source": [
    "# 0330"
   ]
  },
  {
   "attachments": {},
   "cell_type": "markdown",
   "metadata": {},
   "source": [
    "1. even_odd 공부하기\n",
    "2. for문 어려움\n",
    "3. nested 어려움"
   ]
  },
  {
   "cell_type": "code",
   "execution_count": 4,
   "metadata": {},
   "outputs": [
    {
     "data": {
      "text/plain": [
       "['False',\n",
       " 'None',\n",
       " 'True',\n",
       " 'and',\n",
       " 'as',\n",
       " 'assert',\n",
       " 'async',\n",
       " 'await',\n",
       " 'break',\n",
       " 'class',\n",
       " 'continue',\n",
       " 'def',\n",
       " 'del',\n",
       " 'elif',\n",
       " 'else',\n",
       " 'except',\n",
       " 'finally',\n",
       " 'for',\n",
       " 'from',\n",
       " 'global',\n",
       " 'if',\n",
       " 'import',\n",
       " 'in',\n",
       " 'is',\n",
       " 'lambda',\n",
       " 'nonlocal',\n",
       " 'not',\n",
       " 'or',\n",
       " 'pass',\n",
       " 'raise',\n",
       " 'return',\n",
       " 'try',\n",
       " 'while',\n",
       " 'with',\n",
       " 'yield']"
      ]
     },
     "execution_count": 4,
     "metadata": {},
     "output_type": "execute_result"
    }
   ],
   "source": [
    "#키워드 보기 좋게 정렬하기, 총 몇개인지?\n",
    "import keyword\n",
    "keyword.kwlist\n",
    "# print(keyword.kwlist, len(keyword))"
   ]
  },
  {
   "cell_type": "code",
   "execution_count": null,
   "metadata": {},
   "outputs": [],
   "source": [
    ">>> not b != 20 and a > 5\n",
    "False"
   ]
  },
  {
   "cell_type": "code",
   "execution_count": 3,
   "metadata": {},
   "outputs": [
    {
     "name": "stdout",
     "output_type": "stream",
     "text": [
      "False\n"
     ]
    }
   ],
   "source": [
    "korean = 92\n",
    "english = 47\n",
    "mathematics = 86\n",
    "science = 81\n",
    "print(korean >= 50 and english >= 50 and mathematics >= 50 and science >= 50)\n",
    "# korean >= 50, english >= 50, mathematics >= 50, science >= 50"
   ]
  },
  {
   "cell_type": "code",
   "execution_count": null,
   "metadata": {},
   "outputs": [],
   "source": [
    "#정답과 오답(아래 주석처리 오답)\n",
    "kor, eng, math, sci = map(int, input().split())\n",
    "print((kor >= 90) and (eng > 80) and (math > 85) and (sci >= 80))\n",
    "\n",
    "\n",
    "# kor, eng, math, sci = map(int, input().split())\n",
    "# if kor=>90 and eng>80 and math>85 and sci=>80:\n",
    "#     print('True')\n",
    "# else:\n",
    "#     print('False')"
   ]
  },
  {
   "cell_type": "markdown",
   "metadata": {},
   "source": [
    "- 요소추가\n",
    "    - append: 요소 하나를 맨 뒤에 추가\n",
    "    - insert: 특정 인덱스테 요소 추가\n",
    "    - extend: 리스트를 연결하여 추가(확장)"
   ]
  },
  {
   "cell_type": "code",
   "execution_count": null,
   "metadata": {},
   "outputs": [],
   "source": [
    "\"\"\"\"Hello\", Python\"\"\"\n",
    "#왜 맞는 문자열인지?"
   ]
  },
  {
   "cell_type": "markdown",
   "metadata": {},
   "source": [
    "값이 다를 때를 판단하려면 비교 연산자의 !=을 사용하면 됩니다. 여기서는 x가 정수 10과 값이 다른지 비교하므로 !=을 사용했습니다. 만약 객체를 비교해야 한다면 if 조건문에서 is, is not 연산자를 사용해도 됩니다."
   ]
  },
  {
   "cell_type": "code",
   "execution_count": 6,
   "metadata": {},
   "outputs": [
    {
     "name": "stdout",
     "output_type": "stream",
     "text": [
      "5000 Cash1000\n",
      "4000\n"
     ]
    }
   ],
   "source": [
    "price, coupon = map(int, input().split())\n",
    "print(price, (f'Cash{coupon}'))\n",
    "result= price - coupon\n",
    "print(result)\n"
   ]
  },
  {
   "cell_type": "code",
   "execution_count": 16,
   "metadata": {},
   "outputs": [
    {
     "name": "stdout",
     "output_type": "stream",
     "text": [
      "500\n",
      "Cash100\n",
      "400\n",
      "\n"
     ]
    }
   ],
   "source": [
    "price, coupon = map(int, input().split())\n",
    "result= price - coupon\n",
    "cash_coupon = 'Cash'+str(coupon)\n",
    "print(f'{price}\\n{cash_coupon}\\n{result}\\n')"
   ]
  },
  {
   "cell_type": "code",
   "execution_count": 9,
   "metadata": {},
   "outputs": [
    {
     "name": "stdout",
     "output_type": "stream",
     "text": [
      "Price: 5000, Coupon: Cash1000, Result: 4000\n"
     ]
    }
   ],
   "source": [
    "price, coupon = map(int, input().split())\n",
    "result = price - coupon\n",
    "print((f'Price: {price}, Coupon: Cash{coupon}, Result: {result}'), end='\\n')"
   ]
  },
  {
   "cell_type": "code",
   "execution_count": null,
   "metadata": {},
   "outputs": [],
   "source": []
  }
 ],
 "metadata": {
  "kernelspec": {
   "display_name": "base",
   "language": "python",
   "name": "python3"
  },
  "language_info": {
   "codemirror_mode": {
    "name": "ipython",
    "version": 3
   },
   "file_extension": ".py",
   "mimetype": "text/x-python",
   "name": "python",
   "nbconvert_exporter": "python",
   "pygments_lexer": "ipython3",
   "version": "3.10.9"
  },
  "orig_nbformat": 4
 },
 "nbformat": 4,
 "nbformat_minor": 2
}
