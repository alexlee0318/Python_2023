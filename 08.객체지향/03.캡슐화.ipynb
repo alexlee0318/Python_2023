{
 "cells": [
  {
   "attachments": {},
   "cell_type": "markdown",
   "metadata": {},
   "source": [
    "### 8-2. 캡슐화 (Encapsulation)"
   ]
  },
  {
   "attachments": {},
   "cell_type": "markdown",
   "metadata": {},
   "source": [
    "- (통상)속성값에 __ 붙이면 비공개 속성이 됨 -> 혹시라도 있을 수 있는 오류를 방지할 수 있음\n",
    "- 비공개 속성을 엑세스하기 위해 Getter/ Setter 만들어줌"
   ]
  },
  {
   "cell_type": "code",
   "execution_count": 1,
   "metadata": {},
   "outputs": [],
   "source": [
    "class Tmoney:\n",
    "    def __init__(self, age, balance):\n",
    "        self.age = age\n",
    "        self.__balance = balance        # balance 속성 비공개로 전환\n",
    "    def pay(self):\n",
    "        if self.age in range(7, 13):\n",
    "            fare = 650\n",
    "        elif self.age in range(13, 19):\n",
    "            fare = 1050\n",
    "        elif self.age in range(19,):\n",
    "            fare = 1250\n",
    "        else:\n",
    "            fare = 0\n",
    "\n",
    "        if self.__balance < fare:\n",
    "            print('잔액이 부족합니다ㅠㅠ')\n",
    "            return\n",
    "        self.__balance -= fare\n",
    "        print(f'{self.age}살의 요금은 {fare:,d}이고, 잔액은 {self.__balance:,d}원입니다.')\n",
    "\n",
    "    def charge(self, amount):\n",
    "        self.__balance += amount\n",
    "        print(f'{amount:,d}원 충전, 잔액은 {self.__balance:,d}원입니다.')\n"
   ]
  },
  {
   "cell_type": "code",
   "execution_count": 2,
   "metadata": {},
   "outputs": [
    {
     "data": {
      "text/plain": [
       "15"
      ]
     },
     "execution_count": 2,
     "metadata": {},
     "output_type": "execute_result"
    }
   ],
   "source": [
    "tmoney = Tmoney(15, 10000)\n",
    "tmoney.age          # 15\n",
    "\n",
    "tmoney.balance      # 에러(비공개화)\n",
    "tmoney.__balance    # 에러(비공개화)"
   ]
  },
  {
   "cell_type": "code",
   "execution_count": 3,
   "metadata": {},
   "outputs": [
    {
     "ename": "AttributeError",
     "evalue": "'Tmoney' object has no attribute 'balance'",
     "output_type": "error",
     "traceback": [
      "\u001b[1;31m---------------------------------------------------------------------------\u001b[0m",
      "\u001b[1;31mAttributeError\u001b[0m                            Traceback (most recent call last)",
      "Cell \u001b[1;32mIn[3], line 1\u001b[0m\n\u001b[1;32m----> 1\u001b[0m tmoney\u001b[39m.\u001b[39;49mbalance\n",
      "\u001b[1;31mAttributeError\u001b[0m: 'Tmoney' object has no attribute 'balance'"
     ]
    }
   ],
   "source": [
    "tmoney.balance\n",
    "tmoney.__balance"
   ]
  },
  {
   "cell_type": "code",
   "execution_count": 4,
   "metadata": {},
   "outputs": [
    {
     "ename": "AttributeError",
     "evalue": "'Tmoney' object has no attribute '__balance'",
     "output_type": "error",
     "traceback": [
      "\u001b[1;31m---------------------------------------------------------------------------\u001b[0m",
      "\u001b[1;31mAttributeError\u001b[0m                            Traceback (most recent call last)",
      "Cell \u001b[1;32mIn[4], line 1\u001b[0m\n\u001b[1;32m----> 1\u001b[0m tmoney\u001b[39m.\u001b[39;49m__balance\n",
      "\u001b[1;31mAttributeError\u001b[0m: 'Tmoney' object has no attribute '__balance'"
     ]
    }
   ],
   "source": [
    "tmoney.__balance"
   ]
  },
  {
   "cell_type": "code",
   "execution_count": 5,
   "metadata": {},
   "outputs": [
    {
     "name": "stdout",
     "output_type": "stream",
     "text": [
      "15살의 요금은 1,050이고, 잔액은 8,950원입니다.\n",
      "15살의 요금은 1,050이고, 잔액은 7,900원입니다.\n",
      "15살의 요금은 1,050이고, 잔액은 6,850원입니다.\n",
      "15살의 요금은 1,050이고, 잔액은 5,800원입니다.\n",
      "15살의 요금은 1,050이고, 잔액은 4,750원입니다.\n",
      "15살의 요금은 1,050이고, 잔액은 3,700원입니다.\n",
      "15살의 요금은 1,050이고, 잔액은 2,650원입니다.\n",
      "15살의 요금은 1,050이고, 잔액은 1,600원입니다.\n",
      "15살의 요금은 1,050이고, 잔액은 550원입니다.\n",
      "잔액이 부족합니다ㅠㅠ\n"
     ]
    }
   ],
   "source": [
    "for _ in range(10):\n",
    "    tmoney.pay()"
   ]
  },
  {
   "cell_type": "code",
   "execution_count": 6,
   "metadata": {},
   "outputs": [
    {
     "name": "stdout",
     "output_type": "stream",
     "text": [
      "10,000원 충전, 잔액은 10,550원입니다.\n"
     ]
    }
   ],
   "source": [
    "tmoney.charge(10000)"
   ]
  },
  {
   "attachments": {},
   "cell_type": "markdown",
   "metadata": {},
   "source": [
    "- 연습문제\n",
    "    - 이름, 나이, 주소, 지갑(wallet)을 속성으로 갖는 Person 클래스\n",
    "    - 지갑은 비공개 속성으로 할 것\n",
    "    - __str__ 함수를 만들어서 속성들을 출력할 수 있게 할 것"
   ]
  },
  {
   "cell_type": "code",
   "execution_count": 7,
   "metadata": {},
   "outputs": [],
   "source": [
    "class Person(Tmoney):\n",
    "    def __init__(self, name, address, wallet):\n",
    "        super().__init__(name)\n",
    "        self.name = name\n",
    "        self.address = address\n",
    "        self.__wallet = wallet\n",
    "    \n",
    "    def __wallet(self):\n",
    "        return  "
   ]
  },
  {
   "cell_type": "code",
   "execution_count": 10,
   "metadata": {},
   "outputs": [
    {
     "name": "stdout",
     "output_type": "stream",
     "text": [
      "<__main__.Person object at 0x000001DD9FD49CC0>\n"
     ]
    }
   ],
   "source": [
    "alex = Person('Alex', 32, '봉담', '5000')\n",
    "print(alex)"
   ]
  },
  {
   "cell_type": "code",
   "execution_count": 14,
   "metadata": {},
   "outputs": [],
   "source": [
    "class Person:\n",
    "    def __init__(self, name, age, addr, wallet):\n",
    "        self.name = name\n",
    "        self.age = age\n",
    "        self.addr = addr\n",
    "        self.__wallet = wallet\n",
    "    \n",
    "    def __str__(self):\n",
    "        return f'{self.name}, {self.age}, {self.addr},{self.__wallet}'"
   ]
  },
  {
   "cell_type": "code",
   "execution_count": 15,
   "metadata": {},
   "outputs": [
    {
     "name": "stdout",
     "output_type": "stream",
     "text": [
      "홍길동, 500, 전라도 장성군,10000\n"
     ]
    }
   ],
   "source": [
    "hong = Person('홍길동', 500, '전라도 장성군', 10000)\n",
    "print(hong)"
   ]
  },
  {
   "cell_type": "code",
   "execution_count": 16,
   "metadata": {},
   "outputs": [
    {
     "name": "stdout",
     "output_type": "stream",
     "text": [
      "홍길동, 500, 충청도,10000\n"
     ]
    }
   ],
   "source": [
    "hong.addr = '충청도'\n",
    "print(hong)"
   ]
  },
  {
   "cell_type": "code",
   "execution_count": 17,
   "metadata": {},
   "outputs": [
    {
     "name": "stdout",
     "output_type": "stream",
     "text": [
      "홍길동, 500, 충청도,10000\n"
     ]
    }
   ],
   "source": [
    "hong.__wallet = 30000\n",
    "print(hong)"
   ]
  },
  {
   "cell_type": "code",
   "execution_count": 19,
   "metadata": {},
   "outputs": [
    {
     "data": {
      "text/plain": [
       "30000"
      ]
     },
     "execution_count": 19,
     "metadata": {},
     "output_type": "execute_result"
    }
   ],
   "source": [
    "hong.__wallet"
   ]
  },
  {
   "cell_type": "code",
   "execution_count": 21,
   "metadata": {},
   "outputs": [],
   "source": [
    "class Person:\n",
    "    def __init__(self, name, age, addr, wallet):\n",
    "        self.name = name\n",
    "        self.age = age\n",
    "        self.addr = addr\n",
    "        self.__wallet = wallet\n",
    "    \n",
    "    def __str__(self):\n",
    "        return f'{self.name}, {self.age}, {self.addr},{self.__wallet}'\n",
    "    \n",
    "    def get_wallet(self):           # Getter\n",
    "        return self.__wallet\n",
    "    \n",
    "    def set_wallet(self, wallet):   # Setter\n",
    "        self.__wallet = wallet"
   ]
  },
  {
   "cell_type": "code",
   "execution_count": 22,
   "metadata": {},
   "outputs": [
    {
     "name": "stdout",
     "output_type": "stream",
     "text": [
      "10000\n"
     ]
    }
   ],
   "source": [
    "# get_변수명\n",
    "hong = Person('홍길동', 500, '전라도 장성군', 10000)\n",
    "print(hong.get_wallet())"
   ]
  },
  {
   "cell_type": "code",
   "execution_count": 24,
   "metadata": {},
   "outputs": [
    {
     "name": "stdout",
     "output_type": "stream",
     "text": [
      "30000\n"
     ]
    }
   ],
   "source": [
    "# set_변수명\n",
    "hong.set_wallet(30000)\n",
    "print(hong.get_wallet())"
   ]
  },
  {
   "attachments": {},
   "cell_type": "markdown",
   "metadata": {},
   "source": [
    "- 비공개 메소드 안불러짐"
   ]
  },
  {
   "cell_type": "code",
   "execution_count": 26,
   "metadata": {},
   "outputs": [],
   "source": [
    "class Worker:\n",
    "    def __greeting(self):\n",
    "        print('__greeting(): 안녕하세요')"
   ]
  },
  {
   "cell_type": "code",
   "execution_count": 28,
   "metadata": {},
   "outputs": [
    {
     "ename": "AttributeError",
     "evalue": "'Worker' object has no attribute '__greeting'",
     "output_type": "error",
     "traceback": [
      "\u001b[1;31m---------------------------------------------------------------------------\u001b[0m",
      "\u001b[1;31mAttributeError\u001b[0m                            Traceback (most recent call last)",
      "Cell \u001b[1;32mIn[28], line 2\u001b[0m\n\u001b[0;32m      1\u001b[0m worker\u001b[39m=\u001b[39m Worker()\n\u001b[1;32m----> 2\u001b[0m worker\u001b[39m.\u001b[39;49m__greeting()\n",
      "\u001b[1;31mAttributeError\u001b[0m: 'Worker' object has no attribute '__greeting'"
     ]
    }
   ],
   "source": [
    "worker= Worker()\n",
    "worker.__greeting()"
   ]
  },
  {
   "attachments": {},
   "cell_type": "markdown",
   "metadata": {},
   "source": [
    "- 비공개 메소드 불러오는 예"
   ]
  },
  {
   "cell_type": "code",
   "execution_count": 29,
   "metadata": {},
   "outputs": [],
   "source": [
    "class Worker:\n",
    "    def __greeting(self):\n",
    "        print('__greeting(): 안녕하세요')\n",
    "\n",
    "    def hello(self):\n",
    "        self.__greeting()"
   ]
  },
  {
   "cell_type": "code",
   "execution_count": 31,
   "metadata": {},
   "outputs": [
    {
     "name": "stdout",
     "output_type": "stream",
     "text": [
      "__greeting(): 안녕하세요\n"
     ]
    }
   ],
   "source": [
    "worker= Worker()\n",
    "worker.hello()"
   ]
  },
  {
   "cell_type": "code",
   "execution_count": null,
   "metadata": {},
   "outputs": [],
   "source": []
  }
 ],
 "metadata": {
  "kernelspec": {
   "display_name": "base",
   "language": "python",
   "name": "python3"
  },
  "language_info": {
   "codemirror_mode": {
    "name": "ipython",
    "version": 3
   },
   "file_extension": ".py",
   "mimetype": "text/x-python",
   "name": "python",
   "nbconvert_exporter": "python",
   "pygments_lexer": "ipython3",
   "version": "3.10.10"
  },
  "orig_nbformat": 4
 },
 "nbformat": 4,
 "nbformat_minor": 2
}
