{
 "cells": [
  {
   "attachments": {},
   "cell_type": "markdown",
   "metadata": {},
   "source": [
    "### 8-1. 클래스의 기본"
   ]
  },
  {
   "attachments": {},
   "cell_type": "markdown",
   "metadata": {},
   "source": [
    "- [핵심 키워드] : 객체, 객체 지향 프로그래밍 언어, 추상화, 클래스,\n",
    "인스턴스, 생성자, 메소드"
   ]
  },
  {
   "attachments": {},
   "cell_type": "markdown",
   "metadata": {},
   "source": [
    "- person 자료 만들기의 방법 :\n",
    "    - 1. 리스트로 만들기\n",
    "    - 2. 딕셔너리로 만들기\n",
    "    - 3. 클래스로 만들기"
   ]
  },
  {
   "cell_type": "code",
   "execution_count": 14,
   "metadata": {},
   "outputs": [],
   "source": [
    "# 리스트\n",
    "person_list = ['Jame', 175.0, 70.0, 2000]"
   ]
  },
  {
   "cell_type": "code",
   "execution_count": 7,
   "metadata": {},
   "outputs": [],
   "source": [
    "# 딕셔너리\n",
    "person_dict = {\n",
    "    'name': 'James', 'height': 175.0, 'weight': 70.0, 'birth_year': 2000\n",
    "}\n"
   ]
  },
  {
   "attachments": {},
   "cell_type": "markdown",
   "metadata": {},
   "source": [
    "##### 클래스 변수는 대문자 : 상수취급- c언어시절 관습... PI, WIDTH 처럼 단어 전체가 대문자면 상수취급했었음"
   ]
  },
  {
   "cell_type": "code",
   "execution_count": 8,
   "metadata": {},
   "outputs": [],
   "source": [
    "# 클래스\n",
    "class Person: \n",
    "    def __init__(self):\n",
    "        self.name = 'James'\n",
    "        self.height = 175.0\n",
    "        self.weight = 70.0\n",
    "        self.birth_year = 2000"
   ]
  },
  {
   "cell_type": "code",
   "execution_count": 9,
   "metadata": {},
   "outputs": [
    {
     "name": "stdout",
     "output_type": "stream",
     "text": [
      "['Jame', 175.0, 70.0, 2000]\n",
      "{'name': 'James', 'height': 175.0, 'weight': 70.0, 'birth_year': 2000}\n"
     ]
    }
   ],
   "source": [
    "print(person_list)\n",
    "print(person_dict)"
   ]
  },
  {
   "cell_type": "code",
   "execution_count": 10,
   "metadata": {},
   "outputs": [
    {
     "name": "stdout",
     "output_type": "stream",
     "text": [
      "James 175.0 70.0 2000\n"
     ]
    }
   ],
   "source": [
    "james = Person()\n",
    "print(james.name, james.height, james.weight, james.birth_year)"
   ]
  },
  {
   "attachments": {},
   "cell_type": "markdown",
   "metadata": {},
   "source": [
    "### 범용 클래스 생성"
   ]
  },
  {
   "cell_type": "code",
   "execution_count": 12,
   "metadata": {},
   "outputs": [],
   "source": [
    "# 클래스 범용적으로 만들어 객체를 생성할 때 slef 다음에 구체적인 값을 할당하기\n",
    "class Person: \n",
    "    def __init__(self, name, height, weight, birth_year):\n",
    "        self.name = 'names'\n",
    "        self.height = height\n",
    "        self.weight = weight\n",
    "        self.birth_year = birth_year"
   ]
  },
  {
   "cell_type": "code",
   "execution_count": 13,
   "metadata": {},
   "outputs": [],
   "source": [
    "james = Person('James', 175.0, 70.0, 2000)\n",
    "maria = Person('Maria', 163.0, 50.0, 2001)"
   ]
  },
  {
   "attachments": {},
   "cell_type": "markdown",
   "metadata": {},
   "source": [
    "- 클래스 변수는 대문자 : 상수취급\n",
    "    - c언어시절 관습... PI, WIDTH 처럼 단어 전체가 대문자면 상수취급했었음"
   ]
  },
  {
   "attachments": {},
   "cell_type": "markdown",
   "metadata": {},
   "source": [
    "- #### 메소드(Method)\n",
    "    - 클래스 안에 있는 함수를 특별히 메소드라고 함.\n",
    "    -  __init__메소드는 인스턴스를 만든다. \n",
    "    - 객체가 할 수 있는 행위를 모델링"
   ]
  },
  {
   "cell_type": "code",
   "execution_count": 43,
   "metadata": {},
   "outputs": [],
   "source": [
    "import datetime as dt\n",
    "class Person: \n",
    "    def __init__(self, name, height, weight, birth_year):\n",
    "        self.name = name\n",
    "        self.height = height\n",
    "        self.weight = weight\n",
    "        self.birth_year = birth_year\n",
    "\n",
    "    def get_bmi(self):\n",
    "        bmi = self.weight / (self.height / 100) ** 2\n",
    "        return round(bmi, 2)\n",
    "    \n",
    "    def get_age(self):\n",
    "        now = dt.date.today()\n",
    "        return now.year - self.birth_year\n",
    "    \n",
    "    def get_info(self):\n",
    "        return f'{self.name}({self.get_age()}): {self.height}cm, {self.weight}kg,' + \\\n",
    "            f' BMI:{self.get_bmi()}'"
   ]
  },
  {
   "cell_type": "code",
   "execution_count": 44,
   "metadata": {},
   "outputs": [],
   "source": [
    "james = Person('James', 175.0, 70.0, 2000)\n",
    "maria = Person('Maria', 163.0, 50.0, 2001)"
   ]
  },
  {
   "cell_type": "code",
   "execution_count": 45,
   "metadata": {},
   "outputs": [
    {
     "name": "stdout",
     "output_type": "stream",
     "text": [
      "James의 BMI는 22.86입니다.\n",
      "Maria의 BMI는 18.82입니다.\n"
     ]
    }
   ],
   "source": [
    "print(f'{james.name}의 BMI는 {james.get_bmi()}입니다.')\n",
    "print(f'{maria.name}의 BMI는 {maria.get_bmi()}입니다.')"
   ]
  },
  {
   "cell_type": "code",
   "execution_count": 46,
   "metadata": {},
   "outputs": [
    {
     "name": "stdout",
     "output_type": "stream",
     "text": [
      "James의 나이는 23입니다.\n",
      "Maria의 나이는 22입니다.\n"
     ]
    }
   ],
   "source": [
    "print(f'{james.name}의 나이는 {james.get_age()}입니다.')\n",
    "print(f'{maria.name}의 나이는 {maria.get_age()}입니다.')"
   ]
  },
  {
   "cell_type": "code",
   "execution_count": 47,
   "metadata": {},
   "outputs": [
    {
     "name": "stdout",
     "output_type": "stream",
     "text": [
      "James(23): 175.0cm, 70.0kg, BMI:22.86\n",
      "Maria(22): 163.0cm, 50.0kg, BMI:18.82\n"
     ]
    }
   ],
   "source": [
    "print(james.get_info())\n",
    "print(maria.get_info())"
   ]
  },
  {
   "cell_type": "code",
   "execution_count": 64,
   "metadata": {},
   "outputs": [
    {
     "name": "stdout",
     "output_type": "stream",
     "text": [
      "Maria(22): 163.0cm, 48.0kg, BMI:18.07\n"
     ]
    }
   ],
   "source": [
    "# 객체의 속성\n",
    "maria.weight -= 2\n",
    "print(maria.get_info())"
   ]
  },
  {
   "attachments": {},
   "cell_type": "markdown",
   "metadata": {},
   "source": [
    "- 연습문제: class Tmoney\n",
    "    - 속성으로 나이(age)와 잔액(balance)을 가짐\n",
    "    - pay()\n",
    "        - 00살의 요금은 0000원이고, 잔액은 000원 입니다.\n",
    "        - 잔액이 부족합니다.\n",
    "\n",
    "        - 어린이(초등학생, 만 7세 이상 12세 이하): 650원\n",
    "        - 청소년(중∙고등학생, 만 13세 이상 18세 이하): 1,050원\n",
    "        - 어른(일반, 만 19세 이상): 1,250원"
   ]
  },
  {
   "cell_type": "code",
   "execution_count": 61,
   "metadata": {},
   "outputs": [],
   "source": [
    "class Tmoney:\n",
    "    def __init__(self, age, balance):\n",
    "        self.age = age\n",
    "        self.balance = balance\n",
    "    def pay(self):\n",
    "        if self.age in range(7, 13):\n",
    "            fare = 650\n",
    "        elif self.age in range(13, 19):\n",
    "            fare = 1050\n",
    "        elif self.age in range(19,):\n",
    "            fare = 1250\n",
    "        else:\n",
    "            fare = 0\n",
    "\n",
    "        if self.balance < fare:\n",
    "            print('잔액이 부족합니다ㅠㅠ')\n",
    "            return\n",
    "        self.balance -= fare\n",
    "        print(f'{self.age}살의 요금은 {fare:,d}이고, 잔액은 {self.balance:,d}원입니다.')\n",
    "\n",
    "    def charge(self, amount):\n",
    "        self.balance += amount\n",
    "        print(f'{amount:,d}원 충전, 잔액은 {self.balance:,d}원입니다.')\n"
   ]
  },
  {
   "cell_type": "code",
   "execution_count": 62,
   "metadata": {},
   "outputs": [
    {
     "name": "stdout",
     "output_type": "stream",
     "text": [
      "15살의 요금은 1,050이고, 잔액은 8,950원입니다.\n",
      "15살의 요금은 1,050이고, 잔액은 7,900원입니다.\n",
      "15살의 요금은 1,050이고, 잔액은 6,850원입니다.\n",
      "15살의 요금은 1,050이고, 잔액은 5,800원입니다.\n",
      "15살의 요금은 1,050이고, 잔액은 4,750원입니다.\n",
      "15살의 요금은 1,050이고, 잔액은 3,700원입니다.\n",
      "15살의 요금은 1,050이고, 잔액은 2,650원입니다.\n",
      "15살의 요금은 1,050이고, 잔액은 1,600원입니다.\n",
      "15살의 요금은 1,050이고, 잔액은 550원입니다.\n",
      "잔액이 부족합니다ㅠㅠ\n"
     ]
    }
   ],
   "source": [
    "card = Tmoney(15, 10000)       # 각각 age와 balance에 맵핑\n",
    "for i in range(10):\n",
    "    card.pay()"
   ]
  },
  {
   "cell_type": "code",
   "execution_count": 63,
   "metadata": {},
   "outputs": [
    {
     "name": "stdout",
     "output_type": "stream",
     "text": [
      "10,000원 충전, 잔액은 10,550원입니다.\n"
     ]
    }
   ],
   "source": [
    "card.charge(10000)"
   ]
  },
  {
   "cell_type": "code",
   "execution_count": null,
   "metadata": {},
   "outputs": [],
   "source": []
  }
 ],
 "metadata": {
  "kernelspec": {
   "display_name": "base",
   "language": "python",
   "name": "python3"
  },
  "language_info": {
   "codemirror_mode": {
    "name": "ipython",
    "version": 3
   },
   "file_extension": ".py",
   "mimetype": "text/x-python",
   "name": "python",
   "nbconvert_exporter": "python",
   "pygments_lexer": "ipython3",
   "version": "3.10.10"
  },
  "orig_nbformat": 4
 },
 "nbformat": 4,
 "nbformat_minor": 2
}
