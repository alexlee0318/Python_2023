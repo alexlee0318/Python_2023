{
 "cells": [
  {
   "attachments": {},
   "cell_type": "markdown",
   "metadata": {},
   "source": [
    "29.3 연습문제: 몫과 나머지를 구하는 함수 만들기\n",
    "\n",
    "- 다음 소스 코드를 완성하여 x를 y로 나누었을 때의 몫과 나머지가 출력되게 만드세요.\n",
    "\n",
    "x = 10 , y = 3\n",
    "    - (식 1)\n",
    "    - (식 2)\n",
    "\n",
    "quotient, remainder = get_quotient_remainder(x, y)\n",
    "\n",
    "print('몫: {0}, 나머지: {1}'.format(quotient, remainder))\n",
    "\n",
    "\n",
    "(실행 결과)\n",
    "몫: 3, 나머지: 1"
   ]
  },
  {
   "attachments": {},
   "cell_type": "markdown",
   "metadata": {},
   "source": [
    "- 29.4 사칙연산 함수 만들기\n",
    "    - 표준 입력으로 숫자 두 개가 입력됩니다.\n",
    "    - 다음 소스 코드를 완성하여 두 숫자의 덧셈, 뺄셈, 곱셈, 나눗셈의 결과가 출력되게 만드세요.\n",
    "    - 이때 나눗셈의 결과는 실수라야 합니다.\n",
    "    - 10 20   \n",
    "    - 덧셈: 30, 뺼셈: -10 곱셈: 200, 나눗셈: 0.5"
   ]
  },
  {
   "cell_type": "code",
   "execution_count": 3,
   "metadata": {},
   "outputs": [
    {
     "name": "stdout",
     "output_type": "stream",
     "text": [
      "덧셈: 30, 뺄셈: -10, 곱셈: 200, 나눗셈: 0.5\n"
     ]
    }
   ],
   "source": [
    "x, y = map(int, input().split())        # 10 20 입력 \n",
    "#\n",
    "def calc(x, y):\n",
    "    return x + y, x - y, x * y, float(x / y)\n",
    "#    \n",
    "a, s, m, d = calc(x, y)\n",
    "#print('덧셈: {0}, 뺄셈: {1}, 곱셈: {2}, 나눗셈: {3}'.format(a, s, m, d))\n",
    "print(f'덧셈: {a}, 뺼셈:{s}, 곱셈:{m}, 나눗셈{d}')"
   ]
  },
  {
   "attachments": {},
   "cell_type": "markdown",
   "metadata": {},
   "source": [
    "- 30.6 연습문제- 가장 높은 점수"
   ]
  },
  {
   "cell_type": "code",
   "execution_count": 5,
   "metadata": {},
   "outputs": [
    {
     "name": "stdout",
     "output_type": "stream",
     "text": [
      "높은 점수: 100\n",
      "높은 점수: 91\n"
     ]
    }
   ],
   "source": [
    "korean, english, mathematics, science = 100, 86, 81, 91\n",
    "#                                             \n",
    "def get_max_score(*args):\n",
    "    return max(args)\n",
    "#                                             \n",
    "max_score = get_max_score(korean, english, mathematics, science)\n",
    "print('높은 점수:', max_score)"
   ]
  },
  {
   "attachments": {},
   "cell_type": "markdown",
   "metadata": {},
   "source": [
    "# 30.7 수정ver 코드 확인하기(쌤 git)"
   ]
  },
  {
   "attachments": {},
   "cell_type": "markdown",
   "metadata": {},
   "source": [
    "- 30.7 가장 낮은 점수, 높은 점수와 평균 점수를 구하는 함수 만들기\n",
    "    - 표준 입력으로 국어, 영어, 수학, 과학 점수가 입력됩니다.\n",
    "    - 다음 소스 코드를 완성하여 가장 높은 점수, 가장 낮은 점수, 평균 점수가 출력되게 만드세요.\n",
    "    - 평균 점수는 실수로 출력되어야 합니다."
   ]
  },
  {
   "cell_type": "code",
   "execution_count": 1,
   "metadata": {},
   "outputs": [
    {
     "name": "stdout",
     "output_type": "stream",
     "text": [
      "낮은 점수: 10.00, 높은 점수: 40.00, 평균 점수: 25.00\n"
     ]
    }
   ],
   "source": [
    "korean, english, mathematics, science = map(int, input().split())\n",
    "\n",
    "#\n",
    "def get_min_max_score(*args):       # 최대최소 구하는 함수\n",
    "    return min(args), max(args)\n",
    "\n",
    "def get_average(**kwargs):\n",
    "    return float(sum(kwargs.values()) / len(kwargs))\n",
    "#    \n",
    "min_score, max_score = get_min_max_score(korean, english, mathematics, science)\n",
    "average_score = get_average(korean=korean, english=english, mathematics=mathematics, science=science)\n",
    "print('낮은 점수: {0:.2f}, 높은 점수: {1:.2f}, 평균 점수: {2:.2f}'\n",
    "      .format(min_score, max_score, average_score))"
   ]
  },
  {
   "cell_type": "code",
   "execution_count": null,
   "metadata": {},
   "outputs": [],
   "source": [
    "min_score, max_score = get_min_max_score(korean, english, mathematics, science)\n",
    "average_score = get_average(korean=korean, english=english, mathematics=mathematics, science=science)\n",
    "print('낮은 점수: {0:.2f}, 높은 점수: {1:.2f}, 평균 점수: {2:.2f}'\n",
    "      .format(min_score, max_score, average_score))                 #인수가 4개\n",
    " \n",
    "min_score, max_score = get_min_max_score(english, science)      # 2개\n",
    "average_score = get_average(english=english, science=science)   #2개\n",
    "print('낮은 점수: {0:.2f}, 높은 점수: {1:.2f}, 평균 점수: {2:.2f}'\n",
    "      .format(min_score, max_score, average_score))"
   ]
  },
  {
   "attachments": {},
   "cell_type": "markdown",
   "metadata": {},
   "source": [
    "- 31.5 재귀호출로 피보나치 수 구하기\n",
    "    - 표준 입력으로 정수 한 개가 입력됩니다(입력 값의 범위는 10~30).\n",
    "    - 다음 소스 코드를 완성하여 입력된 정수에 해당하는 피보나치 수가 출력되게 만드세요.\n",
    "    - 피보나치 수는 0과 1로 시작하며, 다음 번 피보나치 수는 바로 앞의 두 피보나치 수의 합입니다.\n",
    "    - n = 0, 1, 2, 3, 4, 5, 6, 7, 8, 9, 10, 11, 12, 13, 14, 15, 16, 17, 18, 19, 20, 21...\n",
    "    - 결과 = 0, 1, 1, 2, 3, 5, 8, 13, 21, 34, 55, 89, 144, 233, 377, 610, 987, 1597, 2584, 4181, 6765, 10946...\n",
    "    - ( 10 , 20 입력 --> 20, 6765 출력)"
   ]
  },
  {
   "cell_type": "code",
   "execution_count": null,
   "metadata": {},
   "outputs": [],
   "source": [
    "def fib(n):\n",
    "    if n == 0:\n",
    "        return 0\n",
    "    if n ==1:\n",
    "        return 1\n",
    "return fib(n -1) + fib(n-2)\n",
    "\n",
    "n = int(input())\n",
    "print(fib(n))"
   ]
  },
  {
   "attachments": {},
   "cell_type": "markdown",
   "metadata": {},
   "source": [
    "- 32.4 이미지 파일만 가져오기\n",
    "    - 확장자가 .jpg, .png인 이미지 파일만 출력되게 만드세요. \n",
    "    - 람다 표현식을 사용해야 하며 출력 결과는 리스트 형태라야 합니다.\n",
    "    - 람다 표현식에서 확장자를 검사할 때는 문자열 메서드를 활용하세요.\n",
    "    "
   ]
  },
  {
   "cell_type": "code",
   "execution_count": null,
   "metadata": {},
   "outputs": [],
   "source": [
    "files = ['font', '1.png', '10.jpg', '11.gif', '2.jpg', '3.png', 'table.xslx', 'spec.docx']\n",
    "print(list(filter(lambda x : x.find('jpg') != -1 or x.find('.png') != -1, files)))\n",
    "\n",
    "# filter는 True일 때 해당 요소를 가져옴-> 람다에서 '.jpg', '.png'이면 True를 반환하도록 만듭니다.\n",
    "# 문자열에서 find 메서드를 사용하면 찾을 문자열이 있을 때 인덱스를 반환하고 없을 때는 -1을 반환\n",
    "# -> 조건식은 find or find 형식- 하나만 참이어도 가져옴"
   ]
  },
  {
   "attachments": {},
   "cell_type": "markdown",
   "metadata": {},
   "source": [
    "- 32.5 파일이름 한꺼번에 바꾸기\n",
    "    -표준 입력으로 숫자.확장자 형식으로 된 파일 이름 여러 개가 입력됩니다.\n",
    "    - 파일 이름이 숫자 3개이면서 앞에 0이 들어가는 형식으로 출력되게 만드세요.\n",
    "    - 예를 들어 1.png는 001.png, 99.docx는 099.docx, 100.xlsx는 100.xlsx처럼 출력되어야  03:d? 03:f?\n",
    "    - 람다 표현식을 사용해야 하며 출력 결과는 리스트 형태라야 합니다.\n",
    "    - 람다 표현식에서 파일명을 처리할 때는 문자열 포매팅과 문자열 메서드를 활용하세요."
   ]
  },
  {
   "cell_type": "code",
   "execution_count": 3,
   "metadata": {},
   "outputs": [
    {
     "name": "stdout",
     "output_type": "stream",
     "text": [
      "001.jpg\n"
     ]
    }
   ],
   "source": [
    "# 1.jpg 로 먼저 연습해본 ver\n",
    "filename = '1.jpg'\n",
    "num = int(filename.split('.')[0])\n",
    "ext = filename.split('.')[1]\n",
    "print(f'{num:03d}.{ext}')"
   ]
  },
  {
   "cell_type": "code",
   "execution_count": null,
   "metadata": {},
   "outputs": [],
   "source": [
    "# 본 문제\n",
    "\n",
    "files = input().split()\n",
    " \n",
    "print(list(map(lambda x: f'{int(x.split('.')[0]):03d}.{x.split('.')[1]}', files)))        # x값은 \n",
    "# x : f'{num:03d}.{ext}' 추가\n",
    "# num 자리에 추가 ->> int(filename.split('.')[0])\n",
    "# ext 자리에:\n",
    "\n",
    "list(map(lambda file : '{0:03d}.{1}'.  ))\n",
    "\n",
    "\n",
    "# 모든 요소를 지정된 함수로 처리해야 하므로 map 함수를 사용한다.\n",
    "# 001.png, 099.docx, 100.xlsx 같은 형식으로 만들어 주기 위해 문자열 포매팅을 '{0:03d}.{1}'와 같이 만들어준다.\n",
    "# {0:03d}는 파일 이름 부분이고 {1}은 확장자 부분이다.\n",
    "# lambda에서 매개변수로 x를 지정하고 int(x.split('.')[0])와 x.split('.')[1]으로 파일 이름 부분과 확장자 부분을 얻는다."
   ]
  }
 ],
 "metadata": {
  "kernelspec": {
   "display_name": "base",
   "language": "python",
   "name": "python3"
  },
  "language_info": {
   "codemirror_mode": {
    "name": "ipython",
    "version": 3
   },
   "file_extension": ".py",
   "mimetype": "text/x-python",
   "name": "python",
   "nbconvert_exporter": "python",
   "pygments_lexer": "ipython3",
   "version": "3.10.9"
  },
  "orig_nbformat": 4
 },
 "nbformat": 4,
 "nbformat_minor": 2
}
