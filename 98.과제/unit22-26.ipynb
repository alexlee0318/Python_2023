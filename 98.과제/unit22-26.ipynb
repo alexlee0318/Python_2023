{
 "cells": [
  {
   "attachments": {},
   "cell_type": "markdown",
   "metadata": {},
   "source": [
    "표준 입력으로 정수 두 개가 입력됩니다(첫 번째 입력 값의 범위는 1~20, \n",
    "두 번째 입력 값의 범위는 10~30이며 \n",
    "첫 번째 입력 값은 두 번째 입력 값보다 항상 작습니다). \n",
    "첫 번째 정수부터 두 번째 정수까지를 지수로 하는 2의 거듭제곱 리스트를 출력하는 프로그램을 만드세요(input에서 안내 문자열은 출력하지 않아야 합니다). \n",
    "단, 리스트의 두 번째 요소와 뒤에서 두 번째 요소는 삭제한 뒤 출력하세요. \n",
    "출력 결과는 리스트 형태라야 합니다.\n",
    "- 1 10  ==> [2, 8, 16, 32, 64, 128, 256, 1024]"
   ]
  },
  {
   "cell_type": "code",
   "execution_count": 13,
   "metadata": {},
   "outputs": [
    {
     "name": "stdout",
     "output_type": "stream",
     "text": [
      "[8]\n"
     ]
    }
   ],
   "source": [
    "# start, end = map(int, input().split())\n",
    "\n",
    "# c = [2**i for i in range(start, end+1)]\n",
    "# del c[1]\n",
    "# del c[-2]\n",
    "# print(c)"
   ]
  },
  {
   "cell_type": "code",
   "execution_count": 3,
   "metadata": {},
   "outputs": [
    {
     "name": "stdout",
     "output_type": "stream",
     "text": [
      "[2, 8, 16, 32, 64, 128, 256, 1024]\n"
     ]
    }
   ],
   "source": [
    "m , n = map(int, input().split())\n",
    "if 1 <=m<=20 and 10<=n<=30 and m<n:\n",
    "    power_list = []\n",
    "    for i in range(m, n+1):\n",
    "        power_list.append(2 **i)\n",
    "    del power_list[1], power_list[-2]\n",
    "    print(power_list)"
   ]
  },
  {
   "cell_type": "code",
   "execution_count": 5,
   "metadata": {},
   "outputs": [
    {
     "ename": "IndentationError",
     "evalue": "unexpected indent (1486182236.py, line 3)",
     "output_type": "error",
     "traceback": [
      "\u001b[1;36m  Cell \u001b[1;32mIn[5], line 3\u001b[1;36m\u001b[0m\n\u001b[1;33m    del power_list[1], power_list[-2]\u001b[0m\n\u001b[1;37m    ^\u001b[0m\n\u001b[1;31mIndentationError\u001b[0m\u001b[1;31m:\u001b[0m unexpected indent\n"
     ]
    }
   ],
   "source": [
    "if 1 <=m<=20 and 10<=n<=30 and m<n:\n",
    "    power_list = [2 **i for i in range(m, n+1)]\n",
    "        del power_list[1], power_list[-2]\n",
    "        print(power_list)"
   ]
  },
  {
   "attachments": {},
   "cell_type": "markdown",
   "metadata": {},
   "source": [
    "표준 입력으로 문자열이 입력됩니다. \n",
    "입력된 문자열에서 'the'의 개수를 출력하는 프로그램을 만드세요\n",
    "(input에서 안내 문자열은 출력하지 않아야 합니다). \n",
    "단, 모든 문자가 소문자인 'the'만 찾으면 되며 \n",
    "'them', 'there', 'their' 등은 포함하지 않아야 합니다."
   ]
  },
  {
   "cell_type": "code",
   "execution_count": 7,
   "metadata": {},
   "outputs": [],
   "source": [
    "text = \"the grown-ups' response, this time, was to advise me to lay aside my drawings of boa constrictors, whether from the inside or the outside, and devote myself instead to geography, history, arithmetic, and grammar. That is why, at the, age of six, I gave up what might have been a magnificent career as a painter. I had been disheartened by the failure of my Drawing Number One and my Drawing Number Two. Grown-ups never understand anything by themselves, and it is tiresome for children to be always and forever explaining things to the.\""
   ]
  },
  {
   "cell_type": "code",
   "execution_count": 33,
   "metadata": {},
   "outputs": [
    {
     "name": "stdout",
     "output_type": "stream",
     "text": [
      "6\n",
      "the.\n"
     ]
    }
   ],
   "source": [
    "# str_1 = input().split()\n",
    "# count = 0\n",
    "# for element in str_1:\n",
    "#     if (element.strip(',.') == 'the'):\n",
    "#         count+=1\n",
    "# print(count)"
   ]
  },
  {
   "cell_type": "code",
   "execution_count": 8,
   "metadata": {},
   "outputs": [
    {
     "name": "stdout",
     "output_type": "stream",
     "text": [
      "6\n"
     ]
    }
   ],
   "source": [
    "text_list = text.split()\n",
    "count_the = 0\n",
    "for word in text_list:\n",
    "    word = word.strip(\"',.\").lower()\n",
    "    if word == 'the':\n",
    "        count_the += 1\n",
    "print(count_the)"
   ]
  },
  {
   "cell_type": "markdown",
   "metadata": {},
   "source": []
  },
  {
   "attachments": {},
   "cell_type": "markdown",
   "metadata": {},
   "source": [
    "-  24.6 심사문제: 입력된 가격을 높은 가격순으로 출력하기\n",
    "\n",
    "표준 입력으로 물품 가격 여러 개가 문자열 한 줄로 입력되고, 각 가격은 ;(세미콜론)으로 구분되어 있습니다. 입력된 가격을 높은 가격순으로 출력하는 프로그램을 만드세요(input에서 안내 문자열은 출력하지 않아야 합니다). 이때 가격은 길이를 9로 만든 뒤 오른쪽으로 정렬하고 천단위로 ,(콤마)를 넣으세요.\n",
    "- 입력   51900;83000;158000;367500;250000;59200;128500;1304000\n",
    "- 출력  \n",
    "1,304,000\n",
    "  367,500\n",
    "  250,000\n",
    "  158,000\n",
    "  128,500\n",
    "   83,000\n",
    "   59,200\n",
    "   51,900"
   ]
  },
  {
   "cell_type": "code",
   "execution_count": 14,
   "metadata": {},
   "outputs": [
    {
     "data": {
      "text/plain": [
       "[51900, 83000, 158000, 367500, 250000, 59200, 128500, 1304000]"
      ]
     },
     "execution_count": 14,
     "metadata": {},
     "output_type": "execute_result"
    }
   ],
   "source": [
    "input_str = '51900;83000;158000;367500;250000;59200;128500;1304000'\n",
    "price_list = list(map(int, input_str.split(';')))\n",
    "price_list"
   ]
  },
  {
   "cell_type": "code",
   "execution_count": 15,
   "metadata": {},
   "outputs": [],
   "source": [
    "price_list.sort(reverse=True)   #내림차순(descending order) 정렬"
   ]
  },
  {
   "cell_type": "code",
   "execution_count": 17,
   "metadata": {},
   "outputs": [
    {
     "name": "stdout",
     "output_type": "stream",
     "text": [
      "1,304,000\n",
      "  367,500\n",
      "  250,000\n",
      "  158,000\n",
      "  128,500\n",
      "   83,000\n",
      "   59,200\n",
      "   51,900\n"
     ]
    }
   ],
   "source": [
    "# 가격 길이를 9로 만들고 오른정렬, 천단위에 콤마 넣기\n",
    "for price in price_list:\n",
    "    print(f'{price:9,d}')\n",
    "    #  %s, %d, %f"
   ]
  },
  {
   "attachments": {},
   "cell_type": "markdown",
   "metadata": {},
   "source": [
    "- 25.8\n",
    "    - 표준 입력으로 문자열 여러 개와 숫자 여러 개가 두 줄로 입력되고,\n",
    "    - 첫 번째 줄은 키, 두 번째 줄은 값으로 하여 딕셔너리를 생성합니다.\n",
    "    - 다음 코드를 완성하여 딕셔너리에서 키가 'delta'인 키-값 쌍과 값이 30인 키-값 쌍을 삭제하도록 만드세요."
   ]
  },
  {
   "cell_type": "code",
   "execution_count": 23,
   "metadata": {},
   "outputs": [
    {
     "data": {
      "text/plain": [
       "{'alpha': 10, 'bravo': 20, 'charlie': 30, 'delta': 40}"
      ]
     },
     "execution_count": 23,
     "metadata": {},
     "output_type": "execute_result"
    }
   ],
   "source": [
    "# alpha bravo charlie delta\n",
    "# 10 20 30 40\n",
    "keys = input().split()\n",
    "value = map(int, input().split())\n",
    "d = dict(zip(keys, value))\n",
    "d"
   ]
  },
  {
   "cell_type": "code",
   "execution_count": 24,
   "metadata": {},
   "outputs": [
    {
     "data": {
      "text/plain": [
       "{'alpha': 10, 'bravo': 20, 'charlie': 30}"
      ]
     },
     "execution_count": 24,
     "metadata": {},
     "output_type": "execute_result"
    }
   ],
   "source": [
    "del d['delta']\n",
    "d"
   ]
  },
  {
   "cell_type": "code",
   "execution_count": null,
   "metadata": {},
   "outputs": [],
   "source": [
    "# 반복문에서 반복 대상이 되는 딕셔너리의 크기를 변경시키는 작업을 하면 에러 발생\n",
    "\n",
    "# for key, value in d.items(): \n",
    "#     # items()는 파괴적인데 이게 for 반복문에 들어가면 안됨!!\n",
    "#     if value == 30:\n",
    "#         del d[key]"
   ]
  },
  {
   "cell_type": "code",
   "execution_count": 25,
   "metadata": {},
   "outputs": [
    {
     "data": {
      "text/plain": [
       "{'alpha': 10, 'bravo': 20}"
      ]
     },
     "execution_count": 25,
     "metadata": {},
     "output_type": "execute_result"
    }
   ],
   "source": [
    "# 다른 방법 \n",
    "for key, value in d.items():\n",
    "    if value == 30:\n",
    "        break\n",
    "del d[key]\n",
    "d"
   ]
  },
  {
   "cell_type": "code",
   "execution_count": 26,
   "metadata": {},
   "outputs": [
    {
     "data": {
      "text/plain": [
       "{'alpha': 10, 'bravo': 20}"
      ]
     },
     "execution_count": 26,
     "metadata": {},
     "output_type": "execute_result"
    }
   ],
   "source": [
    "# 다른방법2\n",
    "d = {'alpha': 10, 'bravo': 20, 'charlie': 30}\n",
    "del_key = ''        # key값이 있으면\n",
    "for key, value in d.items():\n",
    "    if value == 30:\n",
    "        del_key = key\n",
    "if del_key:\n",
    "    del d[del_key]\n",
    "d"
   ]
  },
  {
   "attachments": {},
   "cell_type": "markdown",
   "metadata": {},
   "source": [
    "- 26.9\n",
    "    - 표준 입력으로 양의 정수 두 개가 입력됩니다. 다음 소스 코드를 완성하여 두 숫자의 공약수를 세트 형태로 구하도록 만드세요. 단, 최종 결과는 공약수의 합으로 판단합니다."
   ]
  },
  {
   "cell_type": "code",
   "execution_count": 28,
   "metadata": {},
   "outputs": [
    {
     "data": {
      "text/plain": [
       "{1, 2, 5, 10}"
      ]
     },
     "execution_count": 28,
     "metadata": {},
     "output_type": "execute_result"
    }
   ],
   "source": [
    "# 방법 lv.1\n",
    "div_set = set()\n",
    "x = 10\n",
    "for i in range(1, x+1):\n",
    "    if x % i == 0:\n",
    "        div_set.add(i)      # set은 순서보장이 안되므로 .add를 쓴다( .append 안됨)\n",
    "div_set"
   ]
  },
  {
   "cell_type": "code",
   "execution_count": 29,
   "metadata": {},
   "outputs": [
    {
     "data": {
      "text/plain": [
       "{1, 2, 5, 10}"
      ]
     },
     "execution_count": 29,
     "metadata": {},
     "output_type": "execute_result"
    }
   ],
   "source": [
    "# 방법 lv.2\n",
    "div_set = {i for i in range(1, x+1) if x % i == 0}\n",
    "div_set"
   ]
  },
  {
   "attachments": {},
   "cell_type": "markdown",
   "metadata": {},
   "source": [
    "- 26.9 공약수 구하기 (+합)\n",
    "    - 표준 입력으로 양의 정수 두 개가 입력됩니다. 다음 소스 코드를 완성하여 두 숫자의 공약수를 세트 형태로 구하도록 만드세요. 단, 최종 결과는 공약수의 합으로 판단합니다."
   ]
  },
  {
   "cell_type": "code",
   "execution_count": 34,
   "metadata": {},
   "outputs": [
    {
     "name": "stdout",
     "output_type": "stream",
     "text": [
      "{1, 2, 3, 4, 6, 12} {1, 2, 4, 5, 10, 20}\n"
     ]
    },
    {
     "data": {
      "text/plain": [
       "7"
      ]
     },
     "execution_count": 34,
     "metadata": {},
     "output_type": "execute_result"
    }
   ],
   "source": [
    "# 순서1- 공약수 구하기\n",
    "m, n = map(int, input().split())        # 12 20 입력 \n",
    "m_set = {i for i in range(1, m+1) if m % i == 0}\n",
    "n_set = {i for i in range(1, n+1) if n % i == 0}\n",
    "print(m_set, n_set)         # 결과 {1, 2, 3, 4, 6, 12} {1, 2, 4, 5, 10, 20}\n",
    "\n",
    "# 순서2- 공약수 교집합 구하기\n",
    "common_divisors = m_set & n_set  #교집합\n",
    "common_divisors     # 결과 {1, 2, 4}\n",
    "\n",
    "# 순서3- 교집합의 합 구하기\n",
    "sum(common_divisors)    #결과 7"
   ]
  },
  {
   "attachments": {},
   "cell_type": "markdown",
   "metadata": {},
   "source": [
    "- 24.5 지뢰(*)찾기 - padding 활용 문제!\n",
    "    - 고난이도 문제. 알고리즘도 필요한...\n",
    "    - 먼저 pad_mines 실시 - 바깥쪽을 '.' 으로 둘러싸기"
   ]
  },
  {
   "cell_type": "code",
   "execution_count": 40,
   "metadata": {},
   "outputs": [
    {
     "name": "stdout",
     "output_type": "stream",
     "text": [
      "\n"
     ]
    }
   ],
   "source": [
    "def print_mines(m):\n",
    "    for row in m:\n",
    "        for element in row:\n",
    "            print(element, end= '')\n",
    "print()"
   ]
  },
  {
   "cell_type": "code",
   "execution_count": 41,
   "metadata": {},
   "outputs": [
    {
     "name": "stdout",
     "output_type": "stream",
     "text": [
      "......*.*.*.....**..*....**.....*.......***........*....*.***.*...*.*.**.*...........***..***..***.*..*....*.*.*..**.**..*....****...*...*..***.*...*..**..*.........***.*.****.**...*..**...*.*...**..."
     ]
    }
   ],
   "source": [
    "import random\n",
    "row, col = map(int, input().split())\n",
    "mines = [['*' if random.random() > 0.7 else '.' for  _ in range(col)] for _ in range(row)]\n",
    "print_mines(mines)"
   ]
  },
  {
   "cell_type": "code",
   "execution_count": 44,
   "metadata": {},
   "outputs": [
    {
     "name": "stdout",
     "output_type": "stream",
     "text": [
      "['.', '.', '.', '.', '.', '.', '.', '.', '.', '.', '.', '.', '.', '.', '.', '.', '.', '.', '.', '.', '.', '.']\n"
     ]
    }
   ],
   "source": [
    "pad_mines = ['.'] * (col + 2)   # padding 맨 윗줄 만들기\n",
    "for row in mines:\n",
    "                                # 맨 윗줄과 아랫줄을 제외한 줄\n",
    "    line = ['.']\n",
    "    for element in row:\n",
    "        line.append(element)\n",
    "    line.append('.')\n",
    "\n",
    "    pad_mines.append(line)\n",
    "# print(pad_mines)"
   ]
  },
  {
   "cell_type": "code",
   "execution_count": 48,
   "metadata": {},
   "outputs": [
    {
     "name": "stdout",
     "output_type": "stream",
     "text": [
      ".................................................................................................................................................................................................................................................."
     ]
    }
   ],
   "source": [
    "# 바로 위의 식 줄인 버전(가운데 부분 변경)\n",
    "pad_mines =[['.'] * (col + 2)]   # padding 맨 윗줄 만들기\n",
    "for row in mines:\n",
    "    line = ['.']                 # 맨 윗줄과 아랫줄을 제외한 줄 해당\n",
    "    \n",
    "    line.extend(row)\n",
    "    line.append('.')\n",
    "    pad_mines.append(['.'] * (col + 2))\n",
    "print_mines(pad_mines)"
   ]
  },
  {
   "cell_type": "code",
   "execution_count": null,
   "metadata": {},
   "outputs": [],
   "source": [
    "final_mines = []\n",
    "for i in range(1, row+1):\n",
    "    row_2 = []\n",
    "    for k in range(1, col+1):\n",
    "        if pad_mines[i][k] == '*':\n",
    "            row_2.append('*')\n",
    "        else:                       # i, k를 기준으로 좌표값 찍기\n",
    "            count = (pad_mines[i-1][k-1]=='*') + (pad_mines[i-1][k]=='*') + (pad_mines[i-1][k+1]=='*') + \\\n",
    "                    (pad_mines[i][k-1]==  '*')                            + (pad_mines[i][k+1]=='*')   + \\\n",
    "                    (pad_mines[i+1][k-1]=='*') + (pad_mines[i+1][k]=='*') + (pad_mines[i+1][k+1]=='*') \n",
    "            row_2.append(str(count))\n",
    "    final_mines.append(row)\n",
    "\n",
    "print_mines(final_mines)"
   ]
  }
 ],
 "metadata": {
  "kernelspec": {
   "display_name": "base",
   "language": "python",
   "name": "python3"
  },
  "language_info": {
   "codemirror_mode": {
    "name": "ipython",
    "version": 3
   },
   "file_extension": ".py",
   "mimetype": "text/x-python",
   "name": "python",
   "nbconvert_exporter": "python",
   "pygments_lexer": "ipython3",
   "version": "3.10.9"
  },
  "orig_nbformat": 4
 },
 "nbformat": 4,
 "nbformat_minor": 2
}
