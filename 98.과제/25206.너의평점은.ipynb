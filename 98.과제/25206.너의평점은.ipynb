{
 "cells": [
  {
   "attachments": {},
   "cell_type": "markdown",
   "metadata": {},
   "source": [
    "### 25206.너의평점은"
   ]
  },
  {
   "attachments": {},
   "cell_type": "markdown",
   "metadata": {},
   "source": [
    "- 인하대학교 컴퓨터공학과를 졸업하기 위해서는, 전공평점이 3.3 이상이거나 졸업고사를 통과해야 한다.<br>\n",
    "그런데 아뿔싸, 치훈이는 깜빡하고 졸업고사를 응시하지 않았다는 사실을 깨달았다!<br>\n",
    "치훈이의 전공평점을 계산해주는 프로그램을 작성해보자.<br>\n",
    "전공평점은 전공과목별 (학점 × 과목평점)의 합을 학점의 총합으로 나눈 값이다.<br>\n",
    "인하대학교 컴퓨터공학과의 등급에 따른 과목평점은 다음 표와 같다.<br>\n",
    "(_______https://www.acmicpc.net/problem/25206_________)<br>\n",
    "A+ 4.5\n",
    "A0 4.0\n",
    "B+ 3.5\n",
    "B0 3.0\n",
    "C+ 2.5\n",
    "C0 2.0\n",
    "D+ 1.5\n",
    "D0 1.0\n",
    "F 0.0\n",
    "P/F 과목의 경우 등급이 P또는 F로 표시되는데, 등급이 P인 과목은 계산에서 제외해야 한다.<br>\n",
    "과연 치훈이는 무사히 졸업할 수 있을까?"
   ]
  },
  {
   "attachments": {},
   "cell_type": "markdown",
   "metadata": {},
   "source": [
    "- 입력: \n",
    "20줄에 걸쳐 치훈이가 수강한 전공과목의 과목명, 학점, 등급이 공백으로 구분되어 주어진다.\n",
    "\n",
    "- 출력: \n",
    "치훈이의 전공평점을 출력한다.\n",
    "정답과의 절대오차 또는 상대오차가 10**(-4) 이하이면 정답으로 인정한다.\n",
    "\n",
    "- 제한_________\n",
    "    - 1 ≤ 과목명의 길이 ≤ 50\n",
    "    - 과목명은 알파벳 대소문자 또는 숫자로만 이루어져 있으며, 띄어쓰기 없이 주어진다. 입력으로 주어지는 모든 과목명은 서로 다르다.\n",
    "    - 학점은 1.0,2.0,3.0,4.0중 하나이다.\n",
    "    - 등급은 A+,A0,B+,B0,C+,C0,D+,D0,F,P중 하나이다.\n",
    "    - 적어도 한 과목은 등급이 P가 아님이 보장된다."
   ]
  },
  {
   "attachments": {},
   "cell_type": "markdown",
   "metadata": {},
   "source": [
    "- 예제\n",
    "ObjectOrientedProgramming1 3.0 A+\n",
    "IntroductiontoComputerEngineering 3.0 A+\n",
    "ObjectOrientedProgramming2 3.0 A0\n",
    "CreativeComputerEngineeringDesign 3.0 A+\n",
    "AssemblyLanguage 3.0 A+\n",
    "InternetProgramming 3.0 B0\n",
    "ApplicationProgramminginJava 3.0 A0\n",
    "SystemProgramming 3.0 B0\n",
    "OperatingSystem 3.0 B0\n",
    "WirelessCommunicationsandNetworking 3.0 C+\n",
    "LogicCircuits 3.0 B0\n",
    "DataStructure 4.0 A+\n",
    "MicroprocessorApplication 3.0 B+\n",
    "EmbeddedSoftware 3.0 C0\n",
    "ComputerSecurity 3.0 D+\n",
    "Database 3.0 C+\n",
    "Algorithm 3.0 B0\n",
    "CapstoneDesigninCSE 3.0 B+\n",
    "CompilerDesign 3.0 D0\n",
    "ProblemSolving 4.0 P\n",
    "<br>\n",
    "<br>\n",
    "- 출력\n",
    "3.284483"
   ]
  },
  {
   "cell_type": "code",
   "execution_count": null,
   "metadata": {},
   "outputs": [],
   "source": [
    "import sys\n",
    "\n",
    "data_dict = {\"A+\": 4.5, \"A0\": 4.0,\n",
    "             \"B+\": 3.5, \"B0\": 3.0,\n",
    "             \"C+\": 2.5, \"C0\": 2.0,\n",
    "             \"D+\": 1.5, \"D0\": 1.0,\n",
    "             \"F\": 0.0}\n",
    "\n",
    "result = 0\n",
    "total = 0\n",
    "\n",
    "for _ in range(0, 20, 1):\n",
    "    input_data = sys.stdin.readline().split()\n",
    "\n",
    "    if input_data[2] == \"P\":\n",
    "        continue\n",
    "\n",
    "    total += float(input_data[1])\n",
    "    result += float(input_data[1]) * data_dict[input_data[2]]\n",
    "\n",
    "GPA = result / total\n",
    "\n",
    "conversion = format(GPA, '.6f')\n",
    "\n",
    "print(conversion)\n",
    "\n",
    "# 1. 데이터를 고정 값으로 20개 씩 입력받기 때문에 반복문(for)의 범위를 지정한다.\n",
    "# 2. P/F는 하나씩 있으며, P는 패스 F는 0을 입력할 수 있도록 한다. -> 위 딕셔너리 값에서 F를 지정하고 input_data [2] 번째 위치에 P가 입력되면 건너뛴다.\n",
    "# 3. 전체 합계 변수와 (학점 * 과목 평점)을 연산해서 평점을 구할 수 있는 변수를 연산한다.\n",
    "# 4.  과목 평점 값은 딕셔너리 값의 키 값으로 찾는다.\n",
    "# 5. 둘을 위에 나온 조건처럼 평점 / 총점 값을 나눈다. 이후 format을 활용해서 소수점 0.000000 자리까지 나올 수 있도록 형식을 지정하고 출력한다."
   ]
  },
  {
   "cell_type": "code",
   "execution_count": null,
   "metadata": {},
   "outputs": [],
   "source": [
    "rating = ['A+', 'A0', 'B+', 'B0', 'C+', 'C0', 'D+', 'D0', 'F']\n",
    "grade = [4.5, 4.0, 3.5, 3.0, 2.5, 2.0, 1.5, 1.0, 0]\n",
    "\n",
    "total = 0\t# 학점 총합을 담을 변수\n",
    "result = 0\t# (학점 * 과목평점) 총합을 담을 변수\n",
    "for _ in range(20) :\n",
    "    s, p, g = input().split()\n",
    "    p = float(p)\n",
    "    if g != 'P' :\t# 등급이 P인 과목은 계산 안함\n",
    "        total += p\n",
    "        result += p * grade[rating.index(g)]\n",
    "\n",
    "print('%.6f' % (result / total))\n",
    "\n",
    "# 문제에서 주어진 조건을 잘 고려하면 쉽게 풀 수 있다.(등급이 P인 과목은 계산에서 제외해야 한다.)\n",
    "# 먼저 등급과 등급에 해당하는 과목평점을 리스트로 만들어줬다.\n",
    "# 딕셔너리로 구현하면 깔끔하게 코딩을 짤 수 있는데 나는 그냥 리스트 2개를 만들었다.\n",
    "\n",
    "# 20줄에 걸쳐 과목명, 학점, 등급을 입력 받고 if 문을 사용하여 등급이 P이면 계산을 넘어가게끔 구현했다.\n",
    "# (학점 * 과목평점)의 합을 학점의 총합으로 나눠야하기 때문에\n",
    "# total 변수에는 학점을 더했고\n",
    "# result 변수에는 (학점 * 과목평점) 값을 더했다.\n",
    "\n",
    "# 마지막에는 소수점 6자리로 표현하기 위해 %.6f 를 사용하여 출력하였다.\n",
    "# https://calkolab.tistory.com/entry/baekjoon-python-25206"
   ]
  }
 ],
 "metadata": {
  "language_info": {
   "name": "python"
  },
  "orig_nbformat": 4
 },
 "nbformat": 4,
 "nbformat_minor": 2
}
