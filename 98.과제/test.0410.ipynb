{
 "cells": [
  {
   "attachments": {},
   "cell_type": "markdown",
   "metadata": {},
   "source": [
    "\n",
    "[문항2] [2.1][2.2][2.3] [배점: 30]\n",
    "\n",
    "다음 요구조건을 만족하는 Member 클래스를 만드세요.\n",
    "속성\n",
    "    - member id(mid): 문자열\n",
    "    - member name(name): 문자열\n",
    "    - 생년(birth_year): 정수\n",
    "    - 전화번호(tel): 문자열, 단 비공개 \n",
    "메소드\n",
    "    - get_age(): 금년 – 생년 값을 반환\n",
    "    - 전화번호 값을 새로운 값으로 변경해주는 setter method\n",
    "    - Member를 출력하면 다음과 같이 나오게 해주는 메소드\n",
    "         ID: mid, 이름: name, 나이:ㅇㅇ, 전화번호: ㅇㅇㅇ-ㅇㅇㅇㅇ-ㅇㅇㅇㅇ\n",
    "\n",
    "james, maria 두 객체를 만들고 전화번호를 변경한 후 두 객체를 출력하세요."
   ]
  },
  {
   "cell_type": "code",
   "execution_count": 77,
   "metadata": {},
   "outputs": [],
   "source": [
    "import datetime as dt\n",
    "\n",
    "class Member:\n",
    "    def __init__(self, member_id, name, birth_year, tel):\n",
    "        self.member_id = member_id\n",
    "        self.name = name\n",
    "        self.birth_year = birth_year\n",
    "        self.__tel = tel\n",
    "\n",
    "    def get_age(self):\n",
    "        now = dt.date.today()\n",
    "        return now.year - self.birth_year\n",
    "    \n",
    "    def get_info(self):\n",
    "        return f'ID: {self.member_id}, 이름: {self.name}, 나이: {self.get_age()}, 전화번호: {self.__tel:-10d}'        \n",
    "    \n",
    "    def __str__(self):\n",
    "         return f'{self.member_id}, {self.name}, {self.birth_year}, {self.__tel}'\n",
    "    \n",
    "      # 전화번호 값을 새로운 값으로 변경해주는 setter method\n",
    "\n",
    "\n",
    "    # Member를 출력하면 다음과 같이 나오게 해주는 메소드\n",
    "    #     ID: mid, 이름: name, 나이:ㅇㅇ, 전화번호: ㅇㅇㅇ-ㅇㅇㅇㅇ-ㅇㅇㅇㅇ\n",
    "\n",
    "# james, maria 두 객체를 만들고 전화번호를 변경한 후 두 객체를 출력하세요."
   ]
  },
  {
   "cell_type": "code",
   "execution_count": 78,
   "metadata": {},
   "outputs": [],
   "source": [
    "james = Member('mid', 'James', 2000, '01095959898')\n",
    "maria = Member('mid_m', 'Maria', 2001, '01023234545')"
   ]
  },
  {
   "cell_type": "code",
   "execution_count": 79,
   "metadata": {},
   "outputs": [
    {
     "ename": "ValueError",
     "evalue": "Unknown format code 'd' for object of type 'str'",
     "output_type": "error",
     "traceback": [
      "\u001b[1;31m---------------------------------------------------------------------------\u001b[0m",
      "\u001b[1;31mValueError\u001b[0m                                Traceback (most recent call last)",
      "Cell \u001b[1;32mIn[79], line 1\u001b[0m\n\u001b[1;32m----> 1\u001b[0m \u001b[39mprint\u001b[39m(james\u001b[39m.\u001b[39;49mget_info())\n\u001b[0;32m      2\u001b[0m \u001b[39mprint\u001b[39m(maria\u001b[39m.\u001b[39mget_info())\n",
      "Cell \u001b[1;32mIn[77], line 15\u001b[0m, in \u001b[0;36mMember.get_info\u001b[1;34m(self)\u001b[0m\n\u001b[0;32m     14\u001b[0m \u001b[39mdef\u001b[39;00m \u001b[39mget_info\u001b[39m(\u001b[39mself\u001b[39m):\n\u001b[1;32m---> 15\u001b[0m     \u001b[39mreturn\u001b[39;00m \u001b[39mf\u001b[39m\u001b[39m'\u001b[39m\u001b[39mID: \u001b[39m\u001b[39m{\u001b[39;00m\u001b[39mself\u001b[39m\u001b[39m.\u001b[39mmember_id\u001b[39m}\u001b[39;00m\u001b[39m, 이름: \u001b[39m\u001b[39m{\u001b[39;00m\u001b[39mself\u001b[39m\u001b[39m.\u001b[39mname\u001b[39m}\u001b[39;00m\u001b[39m, 나이: \u001b[39m\u001b[39m{\u001b[39;00m\u001b[39mself\u001b[39m\u001b[39m.\u001b[39mget_age()\u001b[39m}\u001b[39;00m\u001b[39m, 전화번호: \u001b[39m\u001b[39m{\u001b[39;00m\u001b[39mself\u001b[39m\u001b[39m.\u001b[39m__tel\u001b[39m:\u001b[39;00m\u001b[39m-10d\u001b[39m\u001b[39m}\u001b[39;00m\u001b[39m'\u001b[39m\n",
      "\u001b[1;31mValueError\u001b[0m: Unknown format code 'd' for object of type 'str'"
     ]
    }
   ],
   "source": [
    "print(james.get_info())\n",
    "print(maria.get_info())"
   ]
  },
  {
   "cell_type": "code",
   "execution_count": null,
   "metadata": {},
   "outputs": [],
   "source": []
  },
  {
   "attachments": {},
   "cell_type": "markdown",
   "metadata": {},
   "source": []
  }
 ],
 "metadata": {
  "kernelspec": {
   "display_name": "base",
   "language": "python",
   "name": "python3"
  },
  "language_info": {
   "codemirror_mode": {
    "name": "ipython",
    "version": 3
   },
   "file_extension": ".py",
   "mimetype": "text/x-python",
   "name": "python",
   "nbconvert_exporter": "python",
   "pygments_lexer": "ipython3",
   "version": "3.10.10"
  },
  "orig_nbformat": 4
 },
 "nbformat": 4,
 "nbformat_minor": 2
}
