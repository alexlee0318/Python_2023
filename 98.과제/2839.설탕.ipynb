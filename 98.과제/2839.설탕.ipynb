{
 "cells": [
  {
   "attachments": {},
   "cell_type": "markdown",
   "metadata": {},
   "source": [
    "### 2839. 설탕배달\n",
    "    - 부정방정식! : 모든 수를 대입해서 맞는 방법을 찾기"
   ]
  },
  {
   "attachments": {},
   "cell_type": "markdown",
   "metadata": {},
   "source": [
    "- 상근이는 요즘 설탕공장에서 설탕을 배달하고 있다.<br>\n",
    "상근이는 지금 사탕가게에 설탕을 정확하게 N킬로그램을 배달해야 한다.<br>\n",
    "설탕공장에서 만드는 설탕은 봉지에 담겨져 있다. 봉지는 3킬로그램 봉지와 5킬로그램 봉지가 있다.<br>\n",
    "상근이는 귀찮기 때문에, 최대한 적은 봉지를 들고 가려고 한다.<br>\n",
    "예를 들어, 18킬로그램 설탕을 배달해야 할 때, 3킬로그램 봉지 6개를 가져가도 되지만,<br>\n",
    "5킬로그램 3개와 3킬로그램 1개를 배달하면, 더 적은 개수의 봉지를 배달할 수 있다.<br>\n",
    "상근이가 설탕을 정확하게 N킬로그램 배달해야 할 때, 봉지 몇 개를 가져가면 되는지 그 수를 구하는 프로그램을 작성하시오."
   ]
  },
  {
   "attachments": {},
   "cell_type": "markdown",
   "metadata": {},
   "source": [
    "입력\n",
    "첫째 줄에 N이 주어진다. (3 ≤ N ≤ 5000)\n",
    "\n",
    "출력\n",
    "상근이가 배달하는 봉지의 최소 개수를 출력한다. 만약, 정확하게 N킬로그램을 만들 수 없다면 -1을 출력한다.\n",
    "- 18  -> 4\n",
    "- 4 -> -1\n",
    "- 6 -> 2\n",
    "- 11 -> 3 "
   ]
  },
  {
   "cell_type": "code",
   "execution_count": 4,
   "metadata": {},
   "outputs": [
    {
     "name": "stdout",
     "output_type": "stream",
     "text": [
      "설탕13kg: 5kg봉지 2개, 3kg 1개\n"
     ]
    }
   ],
   "source": [
    "# 모든 경우의 수 따져서 출력- 공식x\n",
    "# try~except를 사용하는 방식\n",
    "num = int(input())\n",
    "\n",
    "num5, num3 = 0, 0\n",
    "try:\n",
    "    for i in range(num // 5, num // 3+1):\n",
    "        for k in range(i + 1):\n",
    "            if num == 3*k + 5*(i-k):\n",
    "                num5 = i - k\n",
    "                num3 = k\n",
    "                raise Exception\n",
    "except:\n",
    "    print(f'설탕{num}kg: 5kg봉지 {num5}개, 3kg {num3}개')\n",
    "else:\n",
    "    print(-1)"
   ]
  },
  {
   "attachments": {},
   "cell_type": "markdown",
   "metadata": {},
   "source": [
    "- 다른풀이"
   ]
  },
  {
   "cell_type": "code",
   "execution_count": 3,
   "metadata": {},
   "outputs": [
    {
     "name": "stdout",
     "output_type": "stream",
     "text": [
      "4\n"
     ]
    }
   ],
   "source": [
    "num = int(input())    # 첫째 줄에 N kg이 들어오므로 N의 변수를 받은 뒤, 수를 세기 위한 count 변수도 함께 만든다.\n",
    "count = 0\n",
    "\n",
    "while num >= 0:          # 봉지의 최소 개수를 출력해야하므로, While 반복문을 사용하여 총 무게가 0kg보다 작거나 같을때까지 반복한다.\n",
    "  if num % 5 == 0:              # if 문을 통해 %을 사용하여 5로 나눠 0이 된다면 count에 5를 나눈 숫자를 더해주고,\n",
    "    count += int(num // 5)\n",
    "    print(count)\n",
    "    break\n",
    "  \n",
    "  num -= 3          # 나누어 떨어지지 않는다면 총무게에 3을 빼고 count에 1을 더한다.\n",
    "  count += 1\n",
    "  \n",
    "else:               # else 구문으로는 0으로 나누어 떨어지지 않을 시 -1을 출력하도록 한다.\n",
    "  print(-1)"
   ]
  },
  {
   "cell_type": "code",
   "execution_count": null,
   "metadata": {},
   "outputs": [],
   "source": []
  }
 ],
 "metadata": {
  "kernelspec": {
   "display_name": "base",
   "language": "python",
   "name": "python3"
  },
  "language_info": {
   "codemirror_mode": {
    "name": "ipython",
    "version": 3
   },
   "file_extension": ".py",
   "mimetype": "text/x-python",
   "name": "python",
   "nbconvert_exporter": "python",
   "pygments_lexer": "ipython3",
   "version": "3.10.10"
  },
  "orig_nbformat": 4
 },
 "nbformat": 4,
 "nbformat_minor": 2
}
