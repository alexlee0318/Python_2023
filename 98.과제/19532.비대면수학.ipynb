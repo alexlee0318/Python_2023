{
 "cells": [
  {
   "attachments": {},
   "cell_type": "markdown",
   "metadata": {},
   "source": [
    "### 19532. 수학은 비대면강의입니다"
   ]
  },
  {
   "attachments": {},
   "cell_type": "markdown",
   "metadata": {},
   "source": [
    "- 수현이는 4차 산업혁명 시대에 살고 있는 중학생이다. 코로나 19로 인해, 수현이는 버추얼 학교로 버추얼 출석해 버추얼 강의를 듣고 있다.\n",
    "<br> 수현이의 버추얼 선생님은 문자가 2개인 연립방정식을 해결하는 방법에 대해 강의하고, 다음과 같은 문제를 숙제로 냈다.\n",
    "<br> 다음 연립방정식에서 x와 y의 값을 계산하시오.\n",
    "<br> (_______https://www.acmicpc.net/problem/19532_______________________)\n",
    "<br>4차 산업혁명 시대에 숙제나 하고 앉아있는 것보다 버추얼 친구들을 만나러 가는 게 더 가치있는 일이라고 생각했던 수현이는 이런 연립방정식을 풀 시간이 없었다.\n",
    "<br> 다행히도, 버추얼 강의의 숙제 제출은 인터넷 창의 빈 칸에 수들을 입력하는 식이다.\n",
    "<br> 각 칸에는 -999 이상 999 이하의 정수만 입력할 수 있다.\n",
    "<br> 수현이가 버추얼 친구들을 만나러 버추얼 세계로 떠날 수 있게 도와주자."
   ]
  },
  {
   "attachments": {},
   "cell_type": "markdown",
   "metadata": {},
   "source": [
    "- 입력\n",
    "정수 a, b, c, d, e, f가 공백으로 구분되어 차례대로 주어진다.(-999 <= a,b,c,d,e,f <= 999$)\n",
    "\n",
    "문제에서 언급한 방정식을 만족하는 x, y가 유일하게 존재하고,\n",
    "x와 y 입력값은 -999<= x, y <= 999 정수로 주어짐이 보장된다.\n",
    "\n",
    "- 출력\n",
    "문제의 답인 x와 y를 공백으로 구분해 출력한다.\n",
    "- 1 3 -1 4 1 7    ->   2 -1\n",
    "- 2 5 8 3 -4 -11  ->   -1 2"
   ]
  },
  {
   "cell_type": "code",
   "execution_count": 7,
   "metadata": {},
   "outputs": [
    {
     "name": "stdout",
     "output_type": "stream",
     "text": [
      "(1, 2, 3, 4, 5, 6)\n"
     ]
    }
   ],
   "source": [
    "# 모든 경우의 수 대입해서 푸는 문제\n",
    "\n",
    "a, b, c, d, e, f = map(int, input().split())\n",
    "for x in range(-999, 1000): \n",
    "    for y in range(-999, 1000): \n",
    "        if (a*x + b*y == c) and (d*x + e*y == f):\n",
    "            print(x, y)\n",
    "\n"
   ]
  },
  {
   "cell_type": "code",
   "execution_count": null,
   "metadata": {},
   "outputs": [],
   "source": [
    "# tray~ exept도 사용해보기\n",
    "\n",
    "a, b, c, d, e, f = map(int, input().split())\n",
    "\n",
    "try:\n",
    "    for x in range(-999, 1000): \n",
    "        for y in range(-999, 1000): \n",
    "            if (a*x + b*y == c) and (d*x + e*y == f):\n",
    "                print(x, y)\n",
    "                raise Exception\n",
    "except:\n",
    "    pass\n",
    "\n"
   ]
  },
  {
   "cell_type": "code",
   "execution_count": null,
   "metadata": {},
   "outputs": [],
   "source": [
    "# #  입력 조건에 따라 이중 for문을 만들고 변수에다가 식의 값을 넣어주는 것으로 풂\n",
    "\n",
    "# #include <iostream>\n",
    "# #include <vector>\n",
    "# using namespace std;\n",
    "\n",
    "# int main() {\n",
    "    \n",
    "#     vector<int> N(6);\n",
    "#     for(int i = 0; i<6; i++)\n",
    "#         cin >> N[i];\n",
    "\n",
    "#     for(int x = -1000; x <= 1000; x++){\n",
    "#         for(int y= -1000; y <= 1000; y++) {\n",
    "#             int first = N[0]*x + N[1]*y - N[2];\n",
    "#             int second = N[3]*x + N[4]*y - N[5];\n",
    "#             if(first == 0 && second == 0){\n",
    "#                 cout << x << ' ' << y;\n",
    "#             }\n",
    "#         }\n",
    "#     }\n",
    "#     return 0;\n",
    "# }"
   ]
  }
 ],
 "metadata": {
  "kernelspec": {
   "display_name": "base",
   "language": "python",
   "name": "python3"
  },
  "language_info": {
   "codemirror_mode": {
    "name": "ipython",
    "version": 3
   },
   "file_extension": ".py",
   "mimetype": "text/x-python",
   "name": "python",
   "nbconvert_exporter": "python",
   "pygments_lexer": "ipython3",
   "version": "3.10.10"
  },
  "orig_nbformat": 4
 },
 "nbformat": 4,
 "nbformat_minor": 2
}
