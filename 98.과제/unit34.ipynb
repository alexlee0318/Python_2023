{
 "cells": [
  {
   "attachments": {},
   "cell_type": "markdown",
   "metadata": {},
   "source": [
    "- 34.5 게임 캐릭터 클래스 만들기\n",
    "    -  클래스를 작성하여 게임 캐릭터의 능력치와 '베기'가 출력되게 만드세요."
   ]
  },
  {
   "cell_type": "code",
   "execution_count": 13,
   "metadata": {},
   "outputs": [
    {
     "name": "stdout",
     "output_type": "stream",
     "text": [
      "542.4 210.3 38\n",
      "베기\n"
     ]
    }
   ],
   "source": [
    "# 542.4 210.3 38\n",
    "# 베기 \n",
    "class Knight:\n",
    "    def __init__(self, health, mana, armor):\n",
    "        self.health = health\n",
    "        self.mana = mana\n",
    "        self.armor = armor\n",
    "    def slash(self):\n",
    "        print('베기')\n",
    "\n",
    "x = Knight(health=542.4, mana=210.3, armor=38)\n",
    "print(x.health, x.mana, x.armor)\n",
    "x.slash()"
   ]
  },
  {
   "attachments": {},
   "cell_type": "markdown",
   "metadata": {},
   "source": [
    "- 34.6 게임 캐릭터 클래스 만들기\n",
    "    - 표준 입력으로 게임 캐릭터 능력치(체력, 마나, AP)가 입력됩니다.\n",
    "    - 다음 소스 코드에서 애니(Annie) 클래스를 작성하여\n",
    "    - 티버(tibbers) 스킬의 피해량이 출력되게 만드세요.\n",
    "    - 티버의 피해량은 AP * 0.65 + 400이며\n",
    "    - AP(Ability Power, 주문력)는 마법 능력치를 뜻합니다."
   ]
  },
  {
   "cell_type": "code",
   "execution_count": 12,
   "metadata": {},
   "outputs": [
    {
     "data": {
      "text/plain": [
       "'티버: 피해량 593.7'"
      ]
     },
     "execution_count": 12,
     "metadata": {},
     "output_type": "execute_result"
    }
   ],
   "source": [
    "# 511.68 334.0 298          1803.68 1184.0 645\n",
    "# 티버: 피해량 593.7        티버: 피해량 819.25\n",
    "class Annie:\n",
    "    def __init__(self, health, mana, ability_power):\n",
    "        self.health = health\n",
    "        self.mana = mana\n",
    "        self.ability_power = ability_power\n",
    "\n",
    "    def tibbers(self):\n",
    "        damage = ability_power * 0.65 + 400\n",
    "        return (f'티버: 피해량 {damage}')\n",
    "        \n",
    "        print (f'티버: 피해량 {damage}')\n",
    "\n",
    "\n",
    "health, mana, ability_power = map(float, input().split())\n",
    " \n",
    "x = Annie(health=health, mana=mana, ability_power=ability_power)\n",
    "x.tibbers()"
   ]
  },
  {
   "cell_type": "code",
   "execution_count": null,
   "metadata": {},
   "outputs": [],
   "source": []
  },
  {
   "cell_type": "code",
   "execution_count": null,
   "metadata": {},
   "outputs": [],
   "source": []
  }
 ],
 "metadata": {
  "kernelspec": {
   "display_name": "base",
   "language": "python",
   "name": "python3"
  },
  "language_info": {
   "codemirror_mode": {
    "name": "ipython",
    "version": 3
   },
   "file_extension": ".py",
   "mimetype": "text/x-python",
   "name": "python",
   "nbconvert_exporter": "python",
   "pygments_lexer": "ipython3",
   "version": "3.10.10"
  },
  "orig_nbformat": 4
 },
 "nbformat": 4,
 "nbformat_minor": 2
}
