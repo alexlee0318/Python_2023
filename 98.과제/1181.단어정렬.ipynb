{
 "cells": [
  {
   "attachments": {},
   "cell_type": "markdown",
   "metadata": {},
   "source": [
    "#### 1181. 단어정렬\n",
    "    - Q. 알파벳 소문자로 이루어진 N개의 단어가 들어오면 아래와 같은 조건에 따라 정렬하는 프로그램을 작성하시오."
   ]
  },
  {
   "attachments": {},
   "cell_type": "markdown",
   "metadata": {},
   "source": [
    "1. 길이가 짧은 것부터\n",
    "2. 길이가 같으면 사전 순으로\n",
    "    - 단, 중복된 단어는 하나만 남기고 제거해야 한다.\n",
    "\n",
    "- <입력>\n",
    "    - 첫째 줄에 단어의 개수 N이 주어진다.(1 ≤ N ≤ 20,000)\n",
    "    - 둘째 줄부터 N개의 줄에 걸쳐 알파벳 소문자로 이루어진 단어가 한 줄에 하나씩 주어진다.\n",
    "    - 주어지는 문자열의 길이는 50을 넘지 않는다.\n",
    "- <출력>\n",
    "    - 조건에 따라 정렬하여 단어들을 출력한다."
   ]
  },
  {
   "attachments": {},
   "cell_type": "markdown",
   "metadata": {},
   "source": [
    "1. dictionary 구조체로 만든다\n",
    "2. 입력을 받으면서 단어 길이에 따라 dict에 집어넣는다.\n",
    "3. dict를 순서에 맞게 정렬하여 출력한다.\n",
    "dict의 키 순서 -> set()\n",
    "\n",
    "a quick brown lazy fox jumps over the dog      "
   ]
  },
  {
   "cell_type": "code",
   "execution_count": 24,
   "metadata": {},
   "outputs": [],
   "source": [
    "# Step 1. 빈 word_dict 만들기\n",
    "word_dict= {key: set() for key in range(1, 51)}      # set으로 중복 배제\n",
    "                # n = int(input('number> '))\n",
    "                # word_dict= {}\n",
    "                # for i in range(51):\n",
    "                #     word_dict[i]= set()"
   ]
  },
  {
   "cell_type": "code",
   "execution_count": 25,
   "metadata": {},
   "outputs": [],
   "source": [
    "# Step 2. 단어 읽으면서 word_dict에 채워넣기\n",
    "num = int(input('읽을 단어의 개수> '))  # -->> 숫자로 넣어야 함!!\n",
    "for _ in range(num):        # num만큼 단어 받아서 읽기\n",
    "        word = input()\n",
    "        word_dict[len(word)].add(word)  # 받은단어의 길이를 word에 넣기"
   ]
  },
  {
   "cell_type": "code",
   "execution_count": 26,
   "metadata": {},
   "outputs": [
    {
     "name": "stdout",
     "output_type": "stream",
     "text": [
      "{'c', 'b', 'a'}\n"
     ]
    }
   ],
   "source": [
    "for key in range(1, 51):\n",
    "    if len(word_dict[key]) == 0:  # 단어가 없으면 루프 돌기\n",
    "        continue\n",
    "    print(word_dict[key])   # 단어가 있으면 출력"
   ]
  },
  {
   "cell_type": "code",
   "execution_count": 27,
   "metadata": {},
   "outputs": [
    {
     "name": "stdout",
     "output_type": "stream",
     "text": [
      "a\n",
      "b\n",
      "c\n"
     ]
    }
   ],
   "source": [
    "# Step 3. 주어진 순서대로 출력하기\n",
    "for key in range(1, 51):\n",
    "    if len(word_dict[key]) == 0:  # 단어가 없으면\n",
    "        continue\n",
    "    for word in sorted(word_dict[key]): # word_dict[key]는 set이었음\n",
    "        print(word)"
   ]
  },
  {
   "attachments": {},
   "cell_type": "markdown",
   "metadata": {},
   "source": [
    "- 다른 풀이들"
   ]
  },
  {
   "cell_type": "code",
   "execution_count": 33,
   "metadata": {},
   "outputs": [
    {
     "name": "stdout",
     "output_type": "stream",
     "text": [
      "['a', 'b']\n"
     ]
    }
   ],
   "source": [
    "n = int(input('number> '))\n",
    "arr = []\n",
    "for i in range(n):\n",
    "    arr.append(input('word> '))\n",
    "\n",
    "\n",
    "words = sorted(list(set(arr1)), key=lambda x: (len(x), x))\n",
    "print(words)"
   ]
  },
  {
   "attachments": {},
   "cell_type": "markdown",
   "metadata": {},
   "source": [
    "-  sorted(arr,key=lambda)를 이용하여 간단히 정렬할수 있습니다.\n",
    "- arr1 = sorted(list(set(arr1)), key=lambda x: (len(x), x)) \n",
    "-  먼저 arr1을 len(x)형태로 정렬하고, 만약 len(x)의 값이 같으면 알파벳순으로 정렬을 하게 되는 형식입니다 시간 복잡도를 O(n log n)으로 줄일 수 있습니다. "
   ]
  },
  {
   "cell_type": "code",
   "execution_count": 30,
   "metadata": {},
   "outputs": [
    {
     "name": "stdout",
     "output_type": "stream",
     "text": [
      "a\n",
      "b\n"
     ]
    }
   ],
   "source": [
    "n=int(input())\n",
    "arr1=[]\n",
    "\n",
    "for i in range(n):\n",
    "    arr1.append(input())\n",
    "\n",
    "\n",
    "#lambda함수를 사용하여 정렬수행\n",
    "arr1 = sorted(list(set(arr1)), key=lambda x: (len(x), x))\n",
    "\n",
    "#출력하기\n",
    "for t in range(len(arr1)):\n",
    "    print(arr1[t])"
   ]
  },
  {
   "cell_type": "code",
   "execution_count": null,
   "metadata": {},
   "outputs": [],
   "source": []
  }
 ],
 "metadata": {
  "kernelspec": {
   "display_name": "base",
   "language": "python",
   "name": "python3"
  },
  "language_info": {
   "codemirror_mode": {
    "name": "ipython",
    "version": 3
   },
   "file_extension": ".py",
   "mimetype": "text/x-python",
   "name": "python",
   "nbconvert_exporter": "python",
   "pygments_lexer": "ipython3",
   "version": "3.10.10"
  },
  "orig_nbformat": 4
 },
 "nbformat": 4,
 "nbformat_minor": 2
}
