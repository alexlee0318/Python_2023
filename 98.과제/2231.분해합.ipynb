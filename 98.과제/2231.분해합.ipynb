{
 "cells": [
  {
   "attachments": {},
   "cell_type": "markdown",
   "metadata": {},
   "source": [
    "#### 2231. 분해합\n",
    "    - Q. 자연수 N이 주어졌을 때, N의 가장 작은 생성자를 구해내는 프로그램을 작성하시오."
   ]
  },
  {
   "attachments": {},
   "cell_type": "markdown",
   "metadata": {},
   "source": [
    "- 어떤 자연수 N이 있을 때, 그 자연수 N의 분해합은 N과 N을 이루는 각 자리수의 합을 의미한다.<br>\n",
    "어떤 자연수 M의 분해합이 N인 경우, M을 N의 생성자라 한다.<br>\n",
    "예를 들어, 245의 분해합은 256(=245+2+4+5)이 된다.<br>\n",
    "따라서 245는 256의 생성자가 된다.<br>\n",
    "물론, 어떤 자연수의 경우에는 생성자가 없을 수도 있다. 반대로, 생성자가 여러 개인 자연수도 있을 수 있다.<br>\n",
    "\n",
    "- <입력>\n",
    "첫째 줄에 자연수 N(1 ≤ N ≤ 1,000,000)이 주어진다.   # 216\n",
    "- <출력> 첫째 줄에 답을 출력한다. 생성자가 없는 경우에는 0을 출력한다.  # 198"
   ]
  },
  {
   "attachments": {},
   "cell_type": "markdown",
   "metadata": {},
   "source": [
    "<방법- 순서대로>\n",
    "3자리 수일 때 따져보기(216의 생성자 찾기)\n",
    "각 자리수 최대값= 999 (더하면 27)\n",
    "216-27=189  => 189부터 대입시작\n",
    "189 -> 189 +18 = 207\n",
    "190 -> 190 +10 = 200\n",
    ".\n",
    ".\n",
    "198 -> 198+18 = 216   !!!\n"
   ]
  },
  {
   "cell_type": "code",
   "execution_count": 3,
   "metadata": {},
   "outputs": [],
   "source": [
    "# 분해합을 반환하는 함수\n",
    "def sum_of_decomposition(num):\n",
    "    numStr = str(num)\n",
    "    result = num\n",
    "    for i in range(len(numStr)):\n",
    "        result += int(numStr[i])\n",
    "    return result"
   ]
  },
  {
   "cell_type": "code",
   "execution_count": 4,
   "metadata": {},
   "outputs": [
    {
     "data": {
      "text/plain": [
       "216"
      ]
     },
     "execution_count": 4,
     "metadata": {},
     "output_type": "execute_result"
    }
   ],
   "source": [
    "sum_of_decomposition(198)"
   ]
  },
  {
   "cell_type": "code",
   "execution_count": 5,
   "metadata": {},
   "outputs": [
    {
     "name": "stdout",
     "output_type": "stream",
     "text": [
      "216의 최소 생성자: 198\n"
     ]
    }
   ],
   "source": [
    "num =int(input())\n",
    "for i in range(num - 9 * len(str(num)), num):\n",
    "    if sum_of_decomposition(i) == num:\n",
    "        print(f'{num}의 최소 생성자: {i}')\n",
    "        break"
   ]
  },
  {
   "attachments": {},
   "cell_type": "markdown",
   "metadata": {},
   "source": [
    "-  다른 풀이들~"
   ]
  },
  {
   "cell_type": "code",
   "execution_count": null,
   "metadata": {},
   "outputs": [],
   "source": [
    "n = int(input())\n",
    "# xlist = []\n",
    "for n in range(1, 1000001) and i in range(1, n+1):\n",
    "        n = x(index)\n",
    "        for i in range(len(x)):\n",
    "            # xlist.append(lambda x: x + sum(x.index[i]) = n)\n",
    "            lambda x: (x + sum(x.index[i]) == n)\n",
    "print(x)\n",
    "# print(xlist.minval())"
   ]
  },
  {
   "cell_type": "code",
   "execution_count": 9,
   "metadata": {},
   "outputs": [
    {
     "name": "stdout",
     "output_type": "stream",
     "text": [
      "198\n"
     ]
    }
   ],
   "source": [
    "n = int(input())  # 분해합을 입력값으로 받음\n",
    "\n",
    "for i in range(1, n+1):   # 해당 분해합의 생성자 찾기\n",
    "    num = sum((map(int, str(i))))  # i의 각 자릿수를 더함\n",
    "    num_sum = i + num  # 분해합 = 생성자 + 각 자릿수의 합\n",
    "    # i가 작은 수부터 차례로 들어가므로 처음으로 분해합과 입력값이 같을때가 가장 작은 생성자를 가짐\n",
    "    if num_sum == n:\n",
    "        print(i)\n",
    "        break\n",
    "    if i == n:  # 생성자 i와 입력값이 같다는 것은 생성자가 없다는 뜻\n",
    "        print(0)"
   ]
  },
  {
   "cell_type": "code",
   "execution_count": null,
   "metadata": {},
   "outputs": [],
   "source": []
  }
 ],
 "metadata": {
  "kernelspec": {
   "display_name": "base",
   "language": "python",
   "name": "python3"
  },
  "language_info": {
   "codemirror_mode": {
    "name": "ipython",
    "version": 3
   },
   "file_extension": ".py",
   "mimetype": "text/x-python",
   "name": "python",
   "nbconvert_exporter": "python",
   "pygments_lexer": "ipython3",
   "version": "3.10.10"
  },
  "orig_nbformat": 4
 },
 "nbformat": 4,
 "nbformat_minor": 2
}
