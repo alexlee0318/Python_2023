{
 "cells": [
  {
   "attachments": {},
   "cell_type": "markdown",
   "metadata": {},
   "source": [
    "#### 2231. 분해합\n",
    "    - Q. 자연수 N이 주어졌을 때, N의 가장 작은 생성자를 구해내는 프로그램을 작성하시오."
   ]
  },
  {
   "attachments": {},
   "cell_type": "markdown",
   "metadata": {},
   "source": [
    "- 어떤 자연수 N이 있을 때, 그 자연수 N의 분해합은 N과 N을 이루는 각 자리수의 합을 의미한다.<br>\n",
    "어떤 자연수 M의 분해합이 N인 경우, M을 N의 생성자라 한다.<br>\n",
    "예를 들어, 245의 분해합은 256(=245+2+4+5)이 된다.<br>\n",
    "따라서 245는 256의 생성자가 된다.<br>\n",
    "물론, 어떤 자연수의 경우에는 생성자가 없을 수도 있다. 반대로, 생성자가 여러 개인 자연수도 있을 수 있다.<br>\n",
    "\n",
    "- <입력>\n",
    "첫째 줄에 자연수 N(1 ≤ N ≤ 1,000,000)이 주어진다.   # 216\n",
    "- <출력> 첫째 줄에 답을 출력한다. 생성자가 없는 경우에는 0을 출력한다.  # 198"
   ]
  },
  {
   "cell_type": "code",
   "execution_count": 6,
   "metadata": {},
   "outputs": [
    {
     "ename": "NameError",
     "evalue": "name 'x' is not defined",
     "output_type": "error",
     "traceback": [
      "\u001b[1;31m---------------------------------------------------------------------------\u001b[0m",
      "\u001b[1;31mNameError\u001b[0m                                 Traceback (most recent call last)",
      "Cell \u001b[1;32mIn[6], line 4\u001b[0m\n\u001b[0;32m      2\u001b[0m \u001b[39m# xlist = []\u001b[39;00m\n\u001b[0;32m      3\u001b[0m \u001b[39mfor\u001b[39;00m n \u001b[39min\u001b[39;00m \u001b[39mrange\u001b[39m(\u001b[39m1\u001b[39m, \u001b[39m1000001\u001b[39m):\n\u001b[1;32m----> 4\u001b[0m         \u001b[39mfor\u001b[39;00m i \u001b[39min\u001b[39;00m \u001b[39mrange\u001b[39m(\u001b[39mlen\u001b[39m(x)):\n\u001b[0;32m      5\u001b[0m             \u001b[39m# xlist.append(lambda x: x + sum(x.index[i]) = n)\u001b[39;00m\n\u001b[0;32m      6\u001b[0m             \u001b[39mlambda\u001b[39;00m x: (x \u001b[39m+\u001b[39m \u001b[39msum\u001b[39m(x\u001b[39m.\u001b[39mindex[i]) \u001b[39m==\u001b[39m n)\n\u001b[0;32m      7\u001b[0m \u001b[39mprint\u001b[39m(x)\n",
      "\u001b[1;31mNameError\u001b[0m: name 'x' is not defined"
     ]
    }
   ],
   "source": [
    "n = int(input())\n",
    "# xlist = []\n",
    "for n in range(1, 1000001) and i in range(1, n+1):\n",
    "        n = x(index)\n",
    "        for i in range(len(x)):\n",
    "            # xlist.append(lambda x: x + sum(x.index[i]) = n)\n",
    "            lambda x: (x + sum(x.index[i]) == n)\n",
    "print(x)\n",
    "# print(xlist.minval())"
   ]
  },
  {
   "attachments": {},
   "cell_type": "markdown",
   "metadata": {},
   "source": [
    "-  sorted(arr,key=lambda)를 이용하여 간단히 정렬할수 있습니다.\n",
    "- arr1 = sorted(list(set(arr1)), key=lambda x: (len(x), x)) \n",
    "-  먼저 arr1을 len(x)형태로 정렬하고, 만약 len(x)의 값이 같으면 알파벳순으로 정렬을 하게 되는 형식입니다 시간 복잡도를 O(n log n)으로 줄일 수 있습니다. "
   ]
  },
  {
   "cell_type": "code",
   "execution_count": 9,
   "metadata": {},
   "outputs": [
    {
     "name": "stdout",
     "output_type": "stream",
     "text": [
      "198\n"
     ]
    }
   ],
   "source": [
    "n = int(input())  # 분해합을 입력값으로 받음\n",
    "\n",
    "for i in range(1, n+1):   # 해당 분해합의 생성자 찾기\n",
    "    num = sum((map(int, str(i))))  # i의 각 자릿수를 더함\n",
    "    num_sum = i + num  # 분해합 = 생성자 + 각 자릿수의 합\n",
    "    # i가 작은 수부터 차례로 들어가므로 처음으로 분해합과 입력값이 같을때가 가장 작은 생성자를 가짐\n",
    "    if num_sum == n:\n",
    "        print(i)\n",
    "        break\n",
    "    if i == n:  # 생성자 i와 입력값이 같다는 것은 생성자가 없다는 뜻\n",
    "        print(0)"
   ]
  },
  {
   "cell_type": "code",
   "execution_count": null,
   "metadata": {},
   "outputs": [],
   "source": []
  }
 ],
 "metadata": {
  "kernelspec": {
   "display_name": "base",
   "language": "python",
   "name": "python3"
  },
  "language_info": {
   "codemirror_mode": {
    "name": "ipython",
    "version": 3
   },
   "file_extension": ".py",
   "mimetype": "text/x-python",
   "name": "python",
   "nbconvert_exporter": "python",
   "pygments_lexer": "ipython3",
   "version": "3.10.9"
  },
  "orig_nbformat": 4
 },
 "nbformat": 4,
 "nbformat_minor": 2
}
