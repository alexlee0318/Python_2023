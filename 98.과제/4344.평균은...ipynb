{
 "cells": [
  {
   "attachments": {},
   "cell_type": "markdown",
   "metadata": {},
   "source": [
    "### 4344. 평균은 넘겠지"
   ]
  },
  {
   "attachments": {},
   "cell_type": "markdown",
   "metadata": {},
   "source": [
    "- 대학생 새내기들의 90%는 자신이 반에서 평균은 넘는다고 생각한다. 당신은 그들에게 슬픈 진실을 알려줘야 한다."
   ]
  },
  {
   "attachments": {},
   "cell_type": "markdown",
   "metadata": {},
   "source": [
    "입력\n",
    "첫째 줄에는 테스트 케이스의 개수 C가 주어진다.\n",
    "\n",
    "둘째 줄부터 각 테스트 케이스마다 학생의 수 N(1 ≤ N ≤ 1000, N은 정수)이 첫 수로 주어지고, 이어서 N명의 점수가 주어진다. 점수는 0보다 크거나 같고, 100보다 작거나 같은 정수이다.\n",
    "출력\n",
    "각 케이스마다 한 줄씩 평균을 넘는 학생들의 비율을 반올림하여 소수점 셋째 자리까지 출력한다.\n",
    "- 5\n",
    "5 50 50 70 80 100\n",
    "7 100 95 90 80 70 60 50\n",
    "3 70 90 80\n",
    "3 70 90 81\n",
    "9 100 99 98 97 96 95 94 93 91\n",
    "\n",
    "- . \n",
    "40.000%\n",
    "57.143%\n",
    "33.333%\n",
    "66.667%\n",
    "55.556%"
   ]
  },
  {
   "cell_type": "code",
   "execution_count": 10,
   "metadata": {},
   "outputs": [
    {
     "name": "stdout",
     "output_type": "stream",
     "text": [
      "40.000%\n",
      "57.143%\n",
      "33.333%\n",
      "66.667%\n",
      "55.556%\n"
     ]
    }
   ],
   "source": [
    "# https://bambbang00.tistory.com/10\n",
    "\n",
    "num = int(input())\n",
    "\n",
    "for _ in range(num):\n",
    "    scores = list(map(int, input().split()))\n",
    "    avg = sum(scores[1:])/scores[0]\n",
    "    \n",
    "    cnt = 0\n",
    "    for i in scores[1:]:\n",
    "        if i > avg:\n",
    "            cnt += 1\n",
    "            \n",
    "    per = (cnt/scores[0])*100\n",
    "    print('%.3f' %per + '%')"
   ]
  },
  {
   "cell_type": "code",
   "execution_count": null,
   "metadata": {},
   "outputs": [],
   "source": [
    "# https://velog.io/@goplanit/Algorithm-%EB%B0%B1%EC%A4%80-4344%EB%B2%88-%ED%8F%89%EA%B7%A0%EC%9D%80-%EB%84%98%EA%B2%A0%EC%A7%80%ED%8C%8C%EC%9D%B4%EC%8D%AC\n",
    "n = int(input())\n",
    "\n",
    "for i in range(n):\n",
    "  input_score = list(map(int, input().split(' ')))\n",
    "\n",
    "  avg = sum(input_score[1:])/input_score[0]\n",
    "  cnt = 0\n",
    " \n",
    "  for score in input_score[1:]:\n",
    "    if score > avg:\n",
    "      cnt += 1\n",
    "  rate = cnt / input_score[0] * 100\n",
    "  print(f'{rate:.3f}%')"
   ]
  }
 ],
 "metadata": {
  "kernelspec": {
   "display_name": "base",
   "language": "python",
   "name": "python3"
  },
  "language_info": {
   "codemirror_mode": {
    "name": "ipython",
    "version": 3
   },
   "file_extension": ".py",
   "mimetype": "text/x-python",
   "name": "python",
   "nbconvert_exporter": "python",
   "pygments_lexer": "ipython3",
   "version": "3.10.9"
  },
  "orig_nbformat": 4
 },
 "nbformat": 4,
 "nbformat_minor": 2
}
