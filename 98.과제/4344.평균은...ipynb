{
 "cells": [
  {
   "attachments": {},
   "cell_type": "markdown",
   "metadata": {},
   "source": [
    "### 4344. 평균은 넘겠지"
   ]
  },
  {
   "attachments": {},
   "cell_type": "markdown",
   "metadata": {},
   "source": [
    "- 대학생 새내기들의 90%는 자신이 반에서 평균은 넘는다고 생각한다. 당신은 그들에게 슬픈 진실을 알려줘야 한다."
   ]
  },
  {
   "attachments": {},
   "cell_type": "markdown",
   "metadata": {},
   "source": [
    "입력\n",
    "첫째 줄에는 테스트 케이스의 개수 C가 주어진다.\n",
    "\n",
    "둘째 줄부터 각 테스트 케이스마다 학생의 수 N(1 ≤ N ≤ 1000, N은 정수)이 첫 수로 주어지고, 이어서 N명의 점수가 주어진다. 점수는 0보다 크거나 같고, 100보다 작거나 같은 정수이다.\n",
    "출력\n",
    "각 케이스마다 한 줄씩 평균을 넘는 학생들의 비율을 반올림하여 소수점 셋째 자리까지 출력한다.\n",
    "- 5\n",
    "5 50 50 70 80 100\n",
    "7 100 95 90 80 70 60 50\n",
    "3 70 90 80  -> 1명 = 33.333%\n",
    "3 70 90 81\n",
    "9 100 99 98 97 96 95 94 93 91\n",
    "\n",
    "- . \n",
    "40.000%\n",
    "57.143%\n",
    "33.333%\n",
    "66.667%\n",
    "55.556%"
   ]
  },
  {
   "cell_type": "markdown",
   "metadata": {},
   "source": []
  },
  {
   "cell_type": "code",
   "execution_count": 1,
   "metadata": {},
   "outputs": [],
   "source": [
    "def above_average(score_list):\n",
    "    avg = sum(score_list) / len(score_list)\n",
    "    '''count = 0\n",
    "    for score in score_list:\n",
    "        if score > avg:\n",
    "            count += 1'''\"unit27, 38.ipynb\"\n",
    "    count = sum(map(lambda x : x > avg, score_list))    # 람다쓰기\n",
    "    print(round((count / len(score_list)*100), 3), '%')"
   ]
  },
  {
   "cell_type": "code",
   "execution_count": 5,
   "metadata": {},
   "outputs": [
    {
     "name": "stdout",
     "output_type": "stream",
     "text": [
      "40.0 %\n"
     ]
    }
   ],
   "source": [
    "above_average([50, 50, 70, 80, 100])"
   ]
  },
  {
   "cell_type": "code",
   "execution_count": 7,
   "metadata": {},
   "outputs": [
    {
     "name": "stdout",
     "output_type": "stream",
     "text": [
      "40.0 %\n",
      "57.143 %\n",
      "33.333 %\n",
      "66.667 %\n",
      "55.556 %\n"
     ]
    }
   ],
   "source": [
    "num = int(input())\n",
    "for i in range(num):\n",
    "    scores = list(map(int, input().split()))[1:]\n",
    "    above_average(scores)"
   ]
  },
  {
   "attachments": {},
   "cell_type": "markdown",
   "metadata": {},
   "source": [
    "- 다른풀이"
   ]
  },
  {
   "cell_type": "code",
   "execution_count": 1,
   "metadata": {},
   "outputs": [
    {
     "name": "stdout",
     "output_type": "stream",
     "text": [
      "40.000%\n",
      "33.333%\n",
      "75.000%\n"
     ]
    }
   ],
   "source": [
    "\n",
    "num = int(input())\n",
    "\n",
    "for _ in range(num):\n",
    "    scores = list(map(int, input().split()))    # 5 50 50 70 80 100\n",
    "    avg = sum(scores[1:])/scores[0]    # scores[0] = 각 줄의 총 학생 수\n",
    "    \n",
    "    count = 0   # 평균 이상 학생 수 카운트\n",
    "    for i in scores[1:]:     # i = 점수\n",
    "        if i > avg:\n",
    "            count += 1\n",
    "            \n",
    "    rate = (count/scores[0])*100     # 학생 수-> 백분위 변환\n",
    "    print(f'{rate:.3f}%')\n",
    "\n",
    "\n",
    "# https://bambbang00.tistory.com/10"
   ]
  },
  {
   "cell_type": "code",
   "execution_count": null,
   "metadata": {},
   "outputs": [],
   "source": []
  }
 ],
 "metadata": {
  "kernelspec": {
   "display_name": "base",
   "language": "python",
   "name": "python3"
  },
  "language_info": {
   "codemirror_mode": {
    "name": "ipython",
    "version": 3
   },
   "file_extension": ".py",
   "mimetype": "text/x-python",
   "name": "python",
   "nbconvert_exporter": "python",
   "pygments_lexer": "ipython3",
   "version": "3.10.10"
  },
  "orig_nbformat": 4
 },
 "nbformat": 4,
 "nbformat_minor": 2
}
